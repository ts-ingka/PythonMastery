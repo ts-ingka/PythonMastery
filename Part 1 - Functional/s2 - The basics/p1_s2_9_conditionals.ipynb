{
 "cells": [
  {
   "cell_type": "code",
   "execution_count": 11,
   "metadata": {},
   "outputs": [
    {
     "name": "stdout",
     "output_type": "stream",
     "text": [
      "a < 5\n"
     ]
    }
   ],
   "source": [
    "# if-statements\n",
    "a = 2\n",
    "\n",
    "if a < 5:\n",
    "    print(\"a < 5\")\n",
    "else:\n",
    "    print(\"a >= 5\")"
   ]
  },
  {
   "cell_type": "code",
   "execution_count": 6,
   "metadata": {},
   "outputs": [
    {
     "name": "stdout",
     "output_type": "stream",
     "text": [
      "5 <= a < 10\n"
     ]
    }
   ],
   "source": [
    "a = 7\n",
    "\n",
    "if a < 5:\n",
    "    print(\"a < 5\")\n",
    "else:\n",
    "    if a < 10:\n",
    "        print(\"5 <= a < 10\")\n",
    "    else:\n",
    "        print(\"a >= 10\")"
   ]
  },
  {
   "cell_type": "code",
   "execution_count": 8,
   "metadata": {},
   "outputs": [
    {
     "name": "stdout",
     "output_type": "stream",
     "text": [
      "15 <= a < 20\n"
     ]
    }
   ],
   "source": [
    "a = 17\n",
    "\n",
    "if a < 5:\n",
    "    print(\"a < 5\")\n",
    "elif a < 10:\n",
    "    print(\"5 <= a < 10\")\n",
    "elif a < 15:\n",
    "    print(\"10 <= a < 15\")\n",
    "elif a < 20:\n",
    "    print(\"15 <= a < 20\")\n",
    "else:\n",
    "    print(\"a > 20\")"
   ]
  },
  {
   "cell_type": "code",
   "execution_count": 9,
   "metadata": {},
   "outputs": [],
   "source": [
    "# Ternary operator\n",
    "# X (if condition is true) else Y\n",
    "b = \"a < 5\" if a < 5 else \"a >= 5\""
   ]
  },
  {
   "cell_type": "code",
   "execution_count": 10,
   "metadata": {},
   "outputs": [
    {
     "data": {
      "text/plain": [
       "'a >= 5'"
      ]
     },
     "execution_count": 10,
     "metadata": {},
     "output_type": "execute_result"
    }
   ],
   "source": [
    "b"
   ]
  },
  {
   "cell_type": "code",
   "execution_count": null,
   "metadata": {},
   "outputs": [],
   "source": []
  }
 ],
 "metadata": {
  "kernelspec": {
   "display_name": "Python 3",
   "language": "python",
   "name": "python3"
  },
  "language_info": {
   "codemirror_mode": {
    "name": "ipython",
    "version": 3
   },
   "file_extension": ".py",
   "mimetype": "text/x-python",
   "name": "python",
   "nbconvert_exporter": "python",
   "pygments_lexer": "ipython3",
   "version": "3.11.0 (main, Oct 25 2022, 13:57:33) [Clang 14.0.0 (clang-1400.0.29.202)]"
  },
  "orig_nbformat": 4,
  "vscode": {
   "interpreter": {
    "hash": "949777d72b0d2535278d3dc13498b2535136f6dfe0678499012e853ee9abcab1"
   }
  }
 },
 "nbformat": 4,
 "nbformat_minor": 2
}
