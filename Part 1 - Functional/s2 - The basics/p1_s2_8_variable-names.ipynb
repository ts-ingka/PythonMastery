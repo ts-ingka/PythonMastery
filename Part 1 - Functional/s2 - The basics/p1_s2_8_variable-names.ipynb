{
 "cells": [
  {
   "cell_type": "code",
   "execution_count": 1,
   "metadata": {},
   "outputs": [],
   "source": [
    "# identifiers are CASE SENSITIVE\n",
    "# ham / Ham are different\n",
    "\n",
    "# must start with _ a-z A-Z\n",
    "# followed by _ a-z A-Z or 0-9\n",
    "\n",
    "# cannot be reserved words\n"
   ]
  },
  {
   "cell_type": "code",
   "execution_count": 2,
   "metadata": {},
   "outputs": [],
   "source": [
    "# conventions\n",
    "# _my_var (private object, no such things only to indicate private or internal use)\n",
    "# __my_var (used to \"mangle\" class attributes - useful in inheritance chains\n",
    "# __my_var__ (used for system defined names that have special meaning to the interpreter, dont invent them etc etc.)\n",
    "\n",
    "# packages\n",
    "# short, all-lowercase, no underscores\n",
    "\n",
    "# modules\n",
    "# short, all-lowercase, can have underscores\n",
    "\n",
    "# classes\n",
    "# CapWords (upper CamelCase) convention\n",
    "\n",
    "# functions\n",
    "# lowercase, words seperated by underscores (snake_case)\n",
    "\n",
    "# variables\n",
    "# lowercase, words seperated by underscores (snake_case)\n",
    "\n",
    "# constants\n",
    "# all uppercase, words seperated by underscores\n"
   ]
  },
  {
   "cell_type": "code",
   "execution_count": null,
   "metadata": {},
   "outputs": [],
   "source": []
  }
 ],
 "metadata": {
  "kernelspec": {
   "display_name": "Python 3",
   "language": "python",
   "name": "python3"
  },
  "language_info": {
   "codemirror_mode": {
    "name": "ipython",
    "version": 3
   },
   "file_extension": ".py",
   "mimetype": "text/x-python",
   "name": "python",
   "nbconvert_exporter": "python",
   "pygments_lexer": "ipython3",
   "version": "3.11.0"
  },
  "orig_nbformat": 4,
  "vscode": {
   "interpreter": {
    "hash": "949777d72b0d2535278d3dc13498b2535136f6dfe0678499012e853ee9abcab1"
   }
  }
 },
 "nbformat": 4,
 "nbformat_minor": 2
}
