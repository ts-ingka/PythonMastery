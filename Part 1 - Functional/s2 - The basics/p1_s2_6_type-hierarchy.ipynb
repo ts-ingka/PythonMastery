{
 "cells": [
  {
   "cell_type": "code",
   "execution_count": 4,
   "metadata": {},
   "outputs": [],
   "source": [
    "# integral\n",
    "# integers\n",
    "# booleans\n",
    "\n",
    "# non-integral\n",
    "# floats (double in c)\n",
    "# complex\n",
    "# decimal\n",
    "# fractions\n",
    "\n",
    "# collections\n",
    "# sequences (mutable, immutable)\n",
    "# sets\n",
    "# mappings\n",
    "\n",
    "# callables\n",
    "# user defined functions\n",
    "# generators\n",
    "# classes\n",
    "# instance methods\n",
    "# class instances (__call__())\n",
    "# built-in functions\n",
    "# built-in methods\n",
    "\n",
    "# singletons\n",
    "# None\n",
    "# Not Implemented\n",
    "# Ellipsis"
   ]
  },
  {
   "cell_type": "code",
   "execution_count": null,
   "metadata": {},
   "outputs": [],
   "source": []
  }
 ],
 "metadata": {
  "kernelspec": {
   "display_name": "Python 3",
   "language": "python",
   "name": "python3"
  },
  "language_info": {
   "codemirror_mode": {
    "name": "ipython",
    "version": 3
   },
   "file_extension": ".py",
   "mimetype": "text/x-python",
   "name": "python",
   "nbconvert_exporter": "python",
   "pygments_lexer": "ipython3",
   "version": "3.11.0 (main, Oct 25 2022, 13:57:33) [Clang 14.0.0 (clang-1400.0.29.202)]"
  },
  "orig_nbformat": 4,
  "vscode": {
   "interpreter": {
    "hash": "949777d72b0d2535278d3dc13498b2535136f6dfe0678499012e853ee9abcab1"
   }
  }
 },
 "nbformat": 4,
 "nbformat_minor": 2
}
