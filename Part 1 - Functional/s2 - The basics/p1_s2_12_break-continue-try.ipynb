{
 "cells": [
  {
   "attachments": {},
   "cell_type": "markdown",
   "metadata": {},
   "source": [
    "try... except... finally..."
   ]
  },
  {
   "cell_type": "code",
   "execution_count": 2,
   "metadata": {},
   "outputs": [
    {
     "name": "stdout",
     "output_type": "stream",
     "text": [
      "division by 0\n",
      "this always executes\n"
     ]
    }
   ],
   "source": [
    "a = 10\n",
    "b = 0\n",
    "\n",
    "try:\n",
    "    a/b\n",
    "except ZeroDivisionError:\n",
    "    print(\"division by 0\")\n",
    "finally:\n",
    "    print(\"this always executes\")\n",
    "    "
   ]
  },
  {
   "cell_type": "code",
   "execution_count": 9,
   "metadata": {},
   "outputs": [
    {
     "name": "stdout",
     "output_type": "stream",
     "text": [
      "-------------------\n",
      "1 9 - this always executes\n",
      "1, 9 - main loop\n",
      "-------------------\n",
      "2 8 - this always executes\n",
      "2, 8 - main loop\n",
      "-------------------\n",
      "3 7 - this always executes\n",
      "3, 7 - main loop\n",
      "-------------------\n",
      "4 6 - this always executes\n",
      "4, 6 - main loop\n",
      "Code executed without a zero division error\n"
     ]
    }
   ],
   "source": [
    "a = 0\n",
    "b = 10\n",
    "\n",
    "while a < 4:\n",
    "    print(\"-------------------\")\n",
    "    a += 1\n",
    "    b -= 1\n",
    "\n",
    "    try:\n",
    "        a / b\n",
    "    except ZeroDivisionError:\n",
    "        print(f\"{a}, {b} - divison by 0\")\n",
    "        break\n",
    "    finally:\n",
    "        print(f\"{a} {b} - this always executes\")\n",
    "\n",
    "    print(f\"{a}, {b} - main loop\")\n",
    "else:\n",
    "    print(\"Code executed without a zero division error\")"
   ]
  },
  {
   "cell_type": "code",
   "execution_count": null,
   "metadata": {},
   "outputs": [],
   "source": []
  }
 ],
 "metadata": {
  "kernelspec": {
   "display_name": "Python 3",
   "language": "python",
   "name": "python3"
  },
  "language_info": {
   "codemirror_mode": {
    "name": "ipython",
    "version": 3
   },
   "file_extension": ".py",
   "mimetype": "text/x-python",
   "name": "python",
   "nbconvert_exporter": "python",
   "pygments_lexer": "ipython3",
   "version": "3.11.0 (main, Oct 25 2022, 13:57:33) [Clang 14.0.0 (clang-1400.0.29.202)]"
  },
  "orig_nbformat": 4,
  "vscode": {
   "interpreter": {
    "hash": "949777d72b0d2535278d3dc13498b2535136f6dfe0678499012e853ee9abcab1"
   }
  }
 },
 "nbformat": 4,
 "nbformat_minor": 2
}
