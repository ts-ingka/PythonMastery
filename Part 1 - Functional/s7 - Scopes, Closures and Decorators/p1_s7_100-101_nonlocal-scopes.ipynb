{
 "cells": [
  {
   "cell_type": "code",
   "execution_count": 3,
   "metadata": {},
   "outputs": [],
   "source": [
    "def outer_func():\n",
    "    # some code\n",
    "    a = 10\n",
    "    \n",
    "    def inner_func():\n",
    "        # some code\n",
    "        print(a)\n",
    "    \n",
    "    inner_func()"
   ]
  },
  {
   "cell_type": "code",
   "execution_count": 4,
   "metadata": {},
   "outputs": [
    {
     "name": "stdout",
     "output_type": "stream",
     "text": [
      "10\n"
     ]
    }
   ],
   "source": [
    "outer_func()"
   ]
  },
  {
   "cell_type": "code",
   "execution_count": 5,
   "metadata": {},
   "outputs": [],
   "source": [
    "a = 10\n",
    "def outer_func():\n",
    "    # some code    \n",
    "    def inner_func():\n",
    "        # some code\n",
    "        print(a)\n",
    "    \n",
    "    inner_func()"
   ]
  },
  {
   "cell_type": "code",
   "execution_count": 6,
   "metadata": {},
   "outputs": [
    {
     "name": "stdout",
     "output_type": "stream",
     "text": [
      "10\n"
     ]
    }
   ],
   "source": [
    "outer_func()"
   ]
  },
  {
   "cell_type": "code",
   "execution_count": 7,
   "metadata": {},
   "outputs": [
    {
     "name": "stdout",
     "output_type": "stream",
     "text": [
      "1000\n"
     ]
    }
   ],
   "source": [
    "a = 10\n",
    "def outer_func1():\n",
    "    global a\n",
    "    a = 1000\n",
    "\n",
    "outer_func1()\n",
    "print(a)"
   ]
  },
  {
   "cell_type": "code",
   "execution_count": 9,
   "metadata": {},
   "outputs": [
    {
     "name": "stdout",
     "output_type": "stream",
     "text": [
      "1000\n"
     ]
    }
   ],
   "source": [
    "a = 10\n",
    "def outer_func2():\n",
    "    def inner_func():\n",
    "        global a\n",
    "        a = 1000\n",
    "    inner_func()\n",
    "\n",
    "outer_func2()\n",
    "print(a)"
   ]
  },
  {
   "cell_type": "code",
   "execution_count": 12,
   "metadata": {},
   "outputs": [
    {
     "name": "stdout",
     "output_type": "stream",
     "text": [
      "hello\n"
     ]
    }
   ],
   "source": [
    "def outer_func():\n",
    "    x = \"hello\"\n",
    "    \n",
    "    def inner_func():\n",
    "        x = \"python\"\n",
    "    \n",
    "    inner_func()\n",
    "    print(x)\n",
    "\n",
    "outer_func()\n"
   ]
  },
  {
   "cell_type": "code",
   "execution_count": 13,
   "metadata": {},
   "outputs": [
    {
     "name": "stdout",
     "output_type": "stream",
     "text": [
      "python\n"
     ]
    }
   ],
   "source": [
    "def outer_func():\n",
    "    x = \"hello\"\n",
    "    \n",
    "    def inner_func():\n",
    "        nonlocal x\n",
    "        x = \"python\"\n",
    "    \n",
    "    inner_func()\n",
    "    print(x)\n",
    "\n",
    "outer_func()"
   ]
  },
  {
   "cell_type": "code",
   "execution_count": 15,
   "metadata": {},
   "outputs": [
    {
     "name": "stdout",
     "output_type": "stream",
     "text": [
      "inne(before) python\n",
      "inner(after) monty\n",
      "outer hello\n"
     ]
    }
   ],
   "source": [
    "def outer():\n",
    "    x = \"hello\"\n",
    "    def inner1():\n",
    "        x = \"python\"\n",
    "        def inner2():\n",
    "            nonlocal x\n",
    "            x = \"monty\"\n",
    "        print(\"inne(before)\", x)\n",
    "        inner2()\n",
    "        print(\"inner(after)\", x)\n",
    "    inner1()\n",
    "    print(\"outer\", x)\n",
    "\n",
    "outer()"
   ]
  },
  {
   "cell_type": "code",
   "execution_count": 16,
   "metadata": {},
   "outputs": [
    {
     "name": "stdout",
     "output_type": "stream",
     "text": [
      "inne(before) python\n",
      "inner(after) monty\n",
      "outer monty\n"
     ]
    }
   ],
   "source": [
    "def outer():\n",
    "    x = \"hello\"\n",
    "    def inner1():\n",
    "        nonlocal x\n",
    "        x = \"python\"\n",
    "        def inner2():\n",
    "            nonlocal x\n",
    "            x = \"monty\"\n",
    "        print(\"inne(before)\", x)\n",
    "        inner2()\n",
    "        print(\"inner(after)\", x)\n",
    "    inner1()\n",
    "    print(\"outer\", x)\n",
    "\n",
    "outer()"
   ]
  },
  {
   "cell_type": "code",
   "execution_count": null,
   "metadata": {},
   "outputs": [],
   "source": []
  }
 ],
 "metadata": {
  "kernelspec": {
   "display_name": "Python 3",
   "language": "python",
   "name": "python3"
  },
  "language_info": {
   "codemirror_mode": {
    "name": "ipython",
    "version": 3
   },
   "file_extension": ".py",
   "mimetype": "text/x-python",
   "name": "python",
   "nbconvert_exporter": "python",
   "pygments_lexer": "ipython3",
   "version": "3.11.0"
  },
  "orig_nbformat": 4
 },
 "nbformat": 4,
 "nbformat_minor": 2
}
