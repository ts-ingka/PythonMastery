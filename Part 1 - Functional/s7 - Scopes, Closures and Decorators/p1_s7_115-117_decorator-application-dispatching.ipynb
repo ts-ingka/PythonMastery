{
 "cells": [
  {
   "cell_type": "code",
   "execution_count": 4,
   "metadata": {},
   "outputs": [],
   "source": [
    "from html import escape\n",
    "\n",
    "def html_escape(arg):\n",
    "    return escape(str(arg))\n",
    "\n",
    "def html_int(a):\n",
    "    return f\"{a}(<i>{hex(a)}</i>)\"\n",
    "\n",
    "def html_real(a):\n",
    "    return f\"{round(a, 2):.2f}\"\n",
    "\n",
    "def html_str(s):\n",
    "    return html_escape(s).replace(\"\\n\", \"<br/>\\n\")\n",
    "\n",
    "def html_list(l):\n",
    "    items = (f\"<li>{html_escape(item)}</li>\" for item in l)\n",
    "    return \"<ul>\\n\" + \"\\n\".join(items) + \"\\n</ul>\"\n",
    "\n",
    "def html_dict(d):\n",
    "    items = (f\"<li>{k}={v}</li>\" for k, v in d.items())\n",
    "    return \"<ul>\\n\" + \"\\n\".join(items) + \"\\n</ul>\""
   ]
  },
  {
   "cell_type": "code",
   "execution_count": 5,
   "metadata": {},
   "outputs": [
    {
     "name": "stdout",
     "output_type": "stream",
     "text": [
      "this is a multi line<br/>\n",
      "string with many <br/>\n",
      "special characters: 10 &lt; 100\n"
     ]
    }
   ],
   "source": [
    "print(html_str(\"\"\"this is a multi line\n",
    "string with many \n",
    "special characters: 10 < 100\"\"\"))"
   ]
  },
  {
   "cell_type": "code",
   "execution_count": 6,
   "metadata": {},
   "outputs": [
    {
     "name": "stdout",
     "output_type": "stream",
     "text": [
      "255(<i>0xff</i>)\n"
     ]
    }
   ],
   "source": [
    "print(html_int(255))"
   ]
  },
  {
   "cell_type": "code",
   "execution_count": 7,
   "metadata": {},
   "outputs": [
    {
     "name": "stdout",
     "output_type": "stream",
     "text": [
      "(3+10j)\n"
     ]
    }
   ],
   "source": [
    "print(html_escape(3+10j))"
   ]
  },
  {
   "cell_type": "code",
   "execution_count": 8,
   "metadata": {},
   "outputs": [],
   "source": [
    "from decimal import Decimal\n",
    "\n",
    "def htmlize(arg):\n",
    "    if isinstance(arg, int):\n",
    "        return html_int(arg)\n",
    "    elif isinstance(arg, float) or isinstance(arg, Decimal):\n",
    "        return html_real(arg)\n",
    "    elif isinstance(arg, str):\n",
    "        return html_str(arg)\n",
    "    elif isinstance(arg, list) or isinstance(arg, tuple):\n",
    "        return html_list(arg)\n",
    "    elif isinstance(arg, dict):\n",
    "        return html_dict(arg)\n",
    "    else:\n",
    "        return html_escape(arg)\n",
    "\n",
    "\n",
    "    "
   ]
  },
  {
   "cell_type": "code",
   "execution_count": 9,
   "metadata": {},
   "outputs": [
    {
     "data": {
      "text/plain": [
       "'Python rocks'"
      ]
     },
     "execution_count": 9,
     "metadata": {},
     "output_type": "execute_result"
    }
   ],
   "source": [
    "htmlize(\"\"\"Python rocks\"\"\")"
   ]
  },
  {
   "cell_type": "code",
   "execution_count": 10,
   "metadata": {},
   "outputs": [
    {
     "name": "stdout",
     "output_type": "stream",
     "text": [
      "<ul>\n",
      "<li>1</li>\n",
      "<li>2</li>\n",
      "<li>3</li>\n",
      "</ul>\n"
     ]
    }
   ],
   "source": [
    "print(htmlize([1, 2, 3]))"
   ]
  },
  {
   "cell_type": "code",
   "execution_count": 3,
   "metadata": {},
   "outputs": [],
   "source": [
    "from decimal import Decimal\n",
    "from html import escape\n",
    "\n",
    "def html_escape(arg):\n",
    "    return escape(str(arg))\n",
    "\n",
    "def html_int(a):\n",
    "    return f\"{a}(<i>{hex(a)}</i>)\"\n",
    "\n",
    "def html_real(a):\n",
    "    return f\"{round(a, 2):.2f}\"\n",
    "\n",
    "def html_str(s):\n",
    "    return html_escape(s).replace(\"\\n\", \"<br/>\\n\")\n",
    "\n",
    "def html_list(l):\n",
    "    items = (f\"<li>{htmlize(item)}</li>\" for item in l)\n",
    "    return \"<ul>\\n\" + \"\\n\".join(items) + \"\\n</ul>\"\n",
    "\n",
    "def html_dict(d):\n",
    "    items = (f\"<li>{html_escape(k)}={htmlize(v)}</li>\" for k, v in d.items())\n",
    "    return \"<ul>\\n\" + \"\\n\".join(items) + \"\\n</ul>\"\n",
    "\n",
    "def htmlize(arg):\n",
    "    if isinstance(arg, int):\n",
    "        return html_int(arg)\n",
    "    elif isinstance(arg, float) or isinstance(arg, Decimal):\n",
    "        return html_real(arg)\n",
    "    elif isinstance(arg, str):\n",
    "        return html_str(arg)\n",
    "    elif isinstance(arg, list) or isinstance(arg, tuple):\n",
    "        return html_list(arg)\n",
    "    elif isinstance(arg, dict):\n",
    "        return html_dict(arg)\n",
    "    else:\n",
    "        return html_escape(arg)"
   ]
  },
  {
   "cell_type": "code",
   "execution_count": 5,
   "metadata": {},
   "outputs": [
    {
     "name": "stdout",
     "output_type": "stream",
     "text": [
      "<ul>\n",
      "<li>Python rocks 0 &lt; 1<br/>\n",
      "               </li>\n",
      "<li><ul>\n",
      "<li>1(<i>0x1</i>)</li>\n",
      "<li>2(<i>0x2</i>)</li>\n",
      "<li>3(<i>0x3</i>)</li>\n",
      "</ul></li>\n",
      "<li>100(<i>0x64</i>)</li>\n",
      "</ul>\n"
     ]
    }
   ],
   "source": [
    "print(htmlize([\"\"\"Python rocks 0 < 1\n",
    "               \"\"\", (1, 2, 3), 100]))"
   ]
  },
  {
   "cell_type": "code",
   "execution_count": 6,
   "metadata": {},
   "outputs": [],
   "source": [
    "def htmlize(arg):\n",
    "    registry = {\n",
    "        object: html_escape,\n",
    "        int: html_int,\n",
    "        float: html_int,\n",
    "        Decimal: html_int,\n",
    "        str: html_str,\n",
    "        list: html_list,\n",
    "        tuple: html_list,\n",
    "        dict: html_dict\n",
    "    }\n",
    "    \n",
    "    fn = registry.get(type(arg), registry[object])\n",
    "    return fn(arg)"
   ]
  },
  {
   "cell_type": "code",
   "execution_count": 7,
   "metadata": {},
   "outputs": [
    {
     "data": {
      "text/plain": [
       "'100(<i>0x64</i>)'"
      ]
     },
     "execution_count": 7,
     "metadata": {},
     "output_type": "execute_result"
    }
   ],
   "source": [
    "htmlize(100)"
   ]
  },
  {
   "cell_type": "code",
   "execution_count": 8,
   "metadata": {},
   "outputs": [],
   "source": [
    "def singledispatch(fn):\n",
    "    registry = {}\n",
    "    registry[object] = fn\n",
    "    \n",
    "    def inner(arg):\n",
    "        return registry[object](arg)\n",
    "        \n",
    "    return inner"
   ]
  },
  {
   "cell_type": "code",
   "execution_count": 9,
   "metadata": {},
   "outputs": [],
   "source": [
    "@singledispatch\n",
    "def htmlize(a):\n",
    "    return escape(str(a))"
   ]
  },
  {
   "cell_type": "code",
   "execution_count": 12,
   "metadata": {},
   "outputs": [],
   "source": [
    "def singledispatch(fn):\n",
    "    registry = {}\n",
    "    registry[object] = fn\n",
    "    registry[int] = lambda a: f\"{a}(<i>{hex(a)}</i>)\"\n",
    "    registry[str] = lambda s: escape(s).replace(\"\\n\", \"<br/>\\n\")\n",
    "    \n",
    "    \n",
    "    def inner(arg):\n",
    "        f = registry.get(type(arg), registry[object])\n",
    "        return f(arg)\n",
    "        \n",
    "    return inner"
   ]
  },
  {
   "cell_type": "code",
   "execution_count": 13,
   "metadata": {},
   "outputs": [],
   "source": [
    "@singledispatch\n",
    "def htmlize(a):\n",
    "    return escape(str(a))"
   ]
  },
  {
   "cell_type": "code",
   "execution_count": 14,
   "metadata": {},
   "outputs": [
    {
     "data": {
      "text/plain": [
       "'100(<i>0x64</i>)'"
      ]
     },
     "execution_count": 14,
     "metadata": {},
     "output_type": "execute_result"
    }
   ],
   "source": [
    "htmlize(100)"
   ]
  },
  {
   "cell_type": "code",
   "execution_count": 47,
   "metadata": {},
   "outputs": [],
   "source": [
    "def singledispatch(fn):\n",
    "    registry = {}\n",
    "    registry[object] = fn\n",
    "\n",
    "    def decorated(arg):\n",
    "        return registry.get(type(arg), registry[object])(arg)\n",
    "\n",
    "    def register(type_):\n",
    "        def inner(fn):\n",
    "            registry[type_] = fn\n",
    "            return fn\n",
    "        return inner\n",
    "    \n",
    "    decorated.register = register\n",
    "    decorated.registry = registry\n",
    "    return decorated"
   ]
  },
  {
   "cell_type": "code",
   "execution_count": 48,
   "metadata": {},
   "outputs": [],
   "source": [
    "@singledispatch\n",
    "def htmlize(a):\n",
    "    return escape(str(a))"
   ]
  },
  {
   "cell_type": "code",
   "execution_count": 49,
   "metadata": {},
   "outputs": [
    {
     "data": {
      "text/plain": [
       "<function __main__.singledispatch.<locals>.decorated(arg)>"
      ]
     },
     "execution_count": 49,
     "metadata": {},
     "output_type": "execute_result"
    }
   ],
   "source": [
    "htmlize"
   ]
  },
  {
   "cell_type": "code",
   "execution_count": 50,
   "metadata": {},
   "outputs": [
    {
     "data": {
      "text/plain": [
       "'1 &lt; 100'"
      ]
     },
     "execution_count": 50,
     "metadata": {},
     "output_type": "execute_result"
    }
   ],
   "source": [
    "htmlize(\"1 < 100\")"
   ]
  },
  {
   "cell_type": "code",
   "execution_count": 51,
   "metadata": {},
   "outputs": [
    {
     "data": {
      "text/plain": [
       "<function __main__.<lambda>(a)>"
      ]
     },
     "execution_count": 51,
     "metadata": {},
     "output_type": "execute_result"
    }
   ],
   "source": [
    "htmlize.register(int)(lambda a: f\"{a}(<i>{hex(a)}</i>)\")"
   ]
  },
  {
   "cell_type": "code",
   "execution_count": 52,
   "metadata": {},
   "outputs": [
    {
     "data": {
      "text/plain": [
       "'100(<i>0x64</i>)'"
      ]
     },
     "execution_count": 52,
     "metadata": {},
     "output_type": "execute_result"
    }
   ],
   "source": [
    "htmlize(100)"
   ]
  },
  {
   "cell_type": "code",
   "execution_count": 53,
   "metadata": {},
   "outputs": [],
   "source": [
    "@htmlize.register(int)\n",
    "def html_int(a):\n",
    "    return f\"{a}<{hex(a)}>\""
   ]
  },
  {
   "cell_type": "code",
   "execution_count": 54,
   "metadata": {},
   "outputs": [
    {
     "data": {
      "text/plain": [
       "'100<0x64>'"
      ]
     },
     "execution_count": 54,
     "metadata": {},
     "output_type": "execute_result"
    }
   ],
   "source": [
    "htmlize(100)"
   ]
  },
  {
   "cell_type": "code",
   "execution_count": 55,
   "metadata": {},
   "outputs": [
    {
     "data": {
      "text/plain": [
       "<function __main__.html_int(a)>"
      ]
     },
     "execution_count": 55,
     "metadata": {},
     "output_type": "execute_result"
    }
   ],
   "source": [
    "html_int"
   ]
  },
  {
   "cell_type": "code",
   "execution_count": 56,
   "metadata": {},
   "outputs": [],
   "source": [
    "@htmlize.register(tuple)\n",
    "@htmlize.register(list)\n",
    "def html_sequence(l):\n",
    "    items = (f\"<li>{htmlize(item)}</li>\" for item in l)\n",
    "    return \"<ul>\\n\" + \"\\n\".join(items) + \"\\n</ul>\""
   ]
  },
  {
   "cell_type": "code",
   "execution_count": 57,
   "metadata": {},
   "outputs": [
    {
     "name": "stdout",
     "output_type": "stream",
     "text": [
      "<ul>\n",
      "<li>1<0x1></li>\n",
      "<li>2<0x2></li>\n",
      "<li>3<0x3></li>\n",
      "</ul>\n"
     ]
    }
   ],
   "source": [
    "print(htmlize((1, 2, 3)))"
   ]
  },
  {
   "cell_type": "code",
   "execution_count": 58,
   "metadata": {},
   "outputs": [
    {
     "data": {
      "text/plain": [
       "{object: <function __main__.htmlize(a)>,\n",
       " int: <function __main__.html_int(a)>,\n",
       " list: <function __main__.html_sequence(l)>,\n",
       " tuple: <function __main__.html_sequence(l)>}"
      ]
     },
     "execution_count": 58,
     "metadata": {},
     "output_type": "execute_result"
    }
   ],
   "source": [
    "htmlize.registry"
   ]
  },
  {
   "cell_type": "code",
   "execution_count": null,
   "metadata": {},
   "outputs": [],
   "source": []
  }
 ],
 "metadata": {
  "kernelspec": {
   "display_name": "Python 3",
   "language": "python",
   "name": "python3"
  },
  "language_info": {
   "codemirror_mode": {
    "name": "ipython",
    "version": 3
   },
   "file_extension": ".py",
   "mimetype": "text/x-python",
   "name": "python",
   "nbconvert_exporter": "python",
   "pygments_lexer": "ipython3",
   "version": "3.11.0"
  },
  "orig_nbformat": 4
 },
 "nbformat": 4,
 "nbformat_minor": 2
}
