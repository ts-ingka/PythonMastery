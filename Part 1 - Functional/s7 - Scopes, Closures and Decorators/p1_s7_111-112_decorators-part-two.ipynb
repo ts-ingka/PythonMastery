{
 "cells": [
  {
   "cell_type": "code",
   "execution_count": 18,
   "metadata": {},
   "outputs": [],
   "source": [
    "# let's look at parameterised decorators\n",
    "\n",
    "def timed(reps=1):\n",
    "    def outer(fn):\n",
    "        from time import perf_counter\n",
    "        from functools import wraps\n",
    "        \n",
    "        @wraps(fn)\n",
    "        def inner(*args, **kwargs):\n",
    "            elapsed_total = 0\n",
    "            elapsed_count = 0\n",
    "            \n",
    "            for _ in range(reps):\n",
    "                start = perf_counter()\n",
    "                result = fn(*args, **kwargs)\n",
    "                end = perf_counter()\n",
    "                elapsed = end - start\n",
    "                elapsed_total += elapsed\n",
    "                elapsed_count += 1\n",
    "            \n",
    "            args_ = [str(a) for a in args]\n",
    "            kwargs_ = [f\"{k}={v}\" for k, v in kwargs.items()]\n",
    "            all_args = args_ + kwargs_\n",
    "            args_str = \",\".join(all_args)\n",
    "            \n",
    "            elapsed_avg = elapsed_total / elapsed_count\n",
    "            print(f\"{fn.__name__} was called {elapsed_count} times with with arguments: {args_str} and it took {elapsed_avg:.6f}  on average seconds to run\")\n",
    "            \n",
    "            return result\n",
    "\n",
    "        return inner\n",
    "    \n",
    "    return outer"
   ]
  },
  {
   "cell_type": "code",
   "execution_count": 19,
   "metadata": {},
   "outputs": [],
   "source": [
    "@timed(reps=10)\n",
    "def my_func():\n",
    "    print(\"Hello world\")"
   ]
  },
  {
   "cell_type": "code",
   "execution_count": 20,
   "metadata": {},
   "outputs": [
    {
     "name": "stdout",
     "output_type": "stream",
     "text": [
      "Hello world\n",
      "Hello world\n",
      "Hello world\n",
      "Hello world\n",
      "Hello world\n",
      "Hello world\n",
      "Hello world\n",
      "Hello world\n",
      "Hello world\n",
      "Hello world\n",
      "my_func was called 10 times with with arguments:  and it took 0.000003  on average seconds to run\n"
     ]
    }
   ],
   "source": [
    "my_func()"
   ]
  },
  {
   "cell_type": "code",
   "execution_count": 21,
   "metadata": {},
   "outputs": [
    {
     "name": "stdout",
     "output_type": "stream",
     "text": [
      "Help on function my_func in module __main__:\n",
      "\n",
      "my_func()\n",
      "\n"
     ]
    }
   ],
   "source": [
    "help(my_func)"
   ]
  },
  {
   "cell_type": "code",
   "execution_count": null,
   "metadata": {},
   "outputs": [],
   "source": []
  }
 ],
 "metadata": {
  "kernelspec": {
   "display_name": "Python 3",
   "language": "python",
   "name": "python3"
  },
  "language_info": {
   "codemirror_mode": {
    "name": "ipython",
    "version": 3
   },
   "file_extension": ".py",
   "mimetype": "text/x-python",
   "name": "python",
   "nbconvert_exporter": "python",
   "pygments_lexer": "ipython3",
   "version": "3.11.0"
  },
  "orig_nbformat": 4
 },
 "nbformat": 4,
 "nbformat_minor": 2
}
