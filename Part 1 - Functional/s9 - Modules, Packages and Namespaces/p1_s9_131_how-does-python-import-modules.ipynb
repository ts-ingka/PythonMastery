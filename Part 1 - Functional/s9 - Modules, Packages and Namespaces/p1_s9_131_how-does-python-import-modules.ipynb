{
 "cells": [
  {
   "cell_type": "code",
   "execution_count": 1,
   "metadata": {},
   "outputs": [
    {
     "data": {
      "text/plain": [
       "['/Users/thomas.steck/Desktop/Code/Python/FredBaptiste/Part 1 - Functional/s9 - Modules, Packages and Namespaces',\n",
       " '/opt/homebrew/Cellar/python@3.11/3.11.3/Frameworks/Python.framework/Versions/3.11/lib/python311.zip',\n",
       " '/opt/homebrew/Cellar/python@3.11/3.11.3/Frameworks/Python.framework/Versions/3.11/lib/python3.11',\n",
       " '/opt/homebrew/Cellar/python@3.11/3.11.3/Frameworks/Python.framework/Versions/3.11/lib/python3.11/lib-dynload',\n",
       " '',\n",
       " '/Users/thomas.steck/Library/Python/3.11/lib/python/site-packages',\n",
       " '/opt/homebrew/lib/python3.11/site-packages',\n",
       " '/Users/thomas.steck/Desktop/Code/Experiments/hello-world/src']"
      ]
     },
     "execution_count": 1,
     "metadata": {},
     "output_type": "execute_result"
    }
   ],
   "source": [
    "# Where does Python look for imports?\n",
    "\n",
    "from sys import path\n",
    "path"
   ]
  },
  {
   "cell_type": "code",
   "execution_count": null,
   "metadata": {},
   "outputs": [],
   "source": [
    "# checks sys modules cache if already imported\n",
    "# creates a new module object types.ModuleType\n",
    "# loads the source code from file\n",
    "# adds an entry to sys.modules with name as key\n",
    "# compiles and executes the code"
   ]
  }
 ],
 "metadata": {
  "kernelspec": {
   "display_name": "Python 3",
   "language": "python",
   "name": "python3"
  },
  "language_info": {
   "codemirror_mode": {
    "name": "ipython",
    "version": 3
   },
   "file_extension": ".py",
   "mimetype": "text/x-python",
   "name": "python",
   "nbconvert_exporter": "python",
   "pygments_lexer": "ipython3",
   "version": "3.11.3"
  },
  "orig_nbformat": 4
 },
 "nbformat": 4,
 "nbformat_minor": 2
}
