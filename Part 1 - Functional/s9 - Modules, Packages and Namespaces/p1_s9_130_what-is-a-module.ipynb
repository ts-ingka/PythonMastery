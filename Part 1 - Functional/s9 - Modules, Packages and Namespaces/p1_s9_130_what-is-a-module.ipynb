{
 "cells": [
  {
   "cell_type": "code",
   "execution_count": 1,
   "metadata": {},
   "outputs": [],
   "source": [
    "def func():\n",
    "    a = 10\n",
    "    return a"
   ]
  },
  {
   "cell_type": "code",
   "execution_count": 2,
   "metadata": {},
   "outputs": [
    {
     "data": {
      "text/plain": [
       "<function __main__.func()>"
      ]
     },
     "execution_count": 2,
     "metadata": {},
     "output_type": "execute_result"
    }
   ],
   "source": [
    "func"
   ]
  },
  {
   "cell_type": "code",
   "execution_count": 3,
   "metadata": {},
   "outputs": [
    {
     "data": {
      "text/plain": [
       "4439663424"
      ]
     },
     "execution_count": 3,
     "metadata": {},
     "output_type": "execute_result"
    }
   ],
   "source": [
    "id(func)"
   ]
  },
  {
   "cell_type": "code",
   "execution_count": 4,
   "metadata": {},
   "outputs": [
    {
     "data": {
      "text/plain": [
       "{'__name__': '__main__',\n",
       " '__doc__': 'Automatically created module for IPython interactive environment',\n",
       " '__package__': None,\n",
       " '__loader__': None,\n",
       " '__spec__': None,\n",
       " '__builtin__': <module 'builtins' (built-in)>,\n",
       " '__builtins__': <module 'builtins' (built-in)>,\n",
       " '_ih': ['',\n",
       "  'def func():\\n    a = 10\\n    return a',\n",
       "  'func',\n",
       "  'id(func)',\n",
       "  '# where does Python know where to find func?\\nglobals()'],\n",
       " '_oh': {2: <function __main__.func()>, 3: 4439663424},\n",
       " '_dh': [PosixPath('/Users/thomas.steck/Desktop/Code/Python/FredBaptiste/Part 1 - Functional/s9 - Modules, Packages and Namespaces'),\n",
       "  PosixPath('/Users/thomas.steck/Desktop/Code/Python/FredBaptiste/Part 1 - Functional/s9 - Modules, Packages and Namespaces')],\n",
       " 'In': ['',\n",
       "  'def func():\\n    a = 10\\n    return a',\n",
       "  'func',\n",
       "  'id(func)',\n",
       "  '# where does Python know where to find func?\\nglobals()'],\n",
       " 'Out': {2: <function __main__.func()>, 3: 4439663424},\n",
       " 'get_ipython': <bound method InteractiveShell.get_ipython of <ipykernel.zmqshell.ZMQInteractiveShell object at 0x10897c750>>,\n",
       " 'exit': <IPython.core.autocall.ZMQExitAutocall at 0x1089d85d0>,\n",
       " 'quit': <IPython.core.autocall.ZMQExitAutocall at 0x1089d85d0>,\n",
       " 'open': <function io.open(file, mode='r', buffering=-1, encoding=None, errors=None, newline=None, closefd=True, opener=None)>,\n",
       " '_': 4439663424,\n",
       " '__': <function __main__.func()>,\n",
       " '___': '',\n",
       " '__vsc_ipynb_file__': '/Users/thomas.steck/Desktop/Code/Python/FredBaptiste/Part 1 - Functional/s9 - Modules, Packages and Namespaces/p1_s9_130_what-is-a-module.ipynb',\n",
       " '_i': 'id(func)',\n",
       " '_ii': 'func',\n",
       " '_iii': 'def func():\\n    a = 10\\n    return a',\n",
       " '_i1': 'def func():\\n    a = 10\\n    return a',\n",
       " 'func': <function __main__.func()>,\n",
       " '_i2': 'func',\n",
       " '_2': <function __main__.func()>,\n",
       " '_i3': 'id(func)',\n",
       " '_3': 4439663424,\n",
       " '_i4': '# where does Python know where to find func?\\nglobals()'}"
      ]
     },
     "execution_count": 4,
     "metadata": {},
     "output_type": "execute_result"
    }
   ],
   "source": [
    "# where does Python know where to find func?\n",
    "globals()"
   ]
  },
  {
   "cell_type": "code",
   "execution_count": 5,
   "metadata": {},
   "outputs": [
    {
     "data": {
      "text/plain": [
       "True"
      ]
     },
     "execution_count": 5,
     "metadata": {},
     "output_type": "execute_result"
    }
   ],
   "source": [
    "f = globals()[\"func\"]\n",
    "f is func"
   ]
  },
  {
   "cell_type": "code",
   "execution_count": 7,
   "metadata": {},
   "outputs": [
    {
     "data": {
      "text/plain": [
       "{'__name__': '__main__',\n",
       " '__doc__': 'Automatically created module for IPython interactive environment',\n",
       " '__package__': None,\n",
       " '__loader__': None,\n",
       " '__spec__': None,\n",
       " '__builtin__': <module 'builtins' (built-in)>,\n",
       " '__builtins__': <module 'builtins' (built-in)>,\n",
       " '_ih': ['',\n",
       "  'def func():\\n    a = 10\\n    return a',\n",
       "  'func',\n",
       "  'id(func)',\n",
       "  '# where does Python know where to find func?\\nglobals()',\n",
       "  'f = globals()[\"func\"]\\nf is func',\n",
       "  'f()',\n",
       "  'f()\\na = 100\\nglobals()'],\n",
       " '_oh': {2: <function __main__.func()>,\n",
       "  3: 4439663424,\n",
       "  4: {...},\n",
       "  5: True,\n",
       "  6: 10},\n",
       " '_dh': [PosixPath('/Users/thomas.steck/Desktop/Code/Python/FredBaptiste/Part 1 - Functional/s9 - Modules, Packages and Namespaces'),\n",
       "  PosixPath('/Users/thomas.steck/Desktop/Code/Python/FredBaptiste/Part 1 - Functional/s9 - Modules, Packages and Namespaces')],\n",
       " 'In': ['',\n",
       "  'def func():\\n    a = 10\\n    return a',\n",
       "  'func',\n",
       "  'id(func)',\n",
       "  '# where does Python know where to find func?\\nglobals()',\n",
       "  'f = globals()[\"func\"]\\nf is func',\n",
       "  'f()',\n",
       "  'f()\\na = 100\\nglobals()'],\n",
       " 'Out': {2: <function __main__.func()>,\n",
       "  3: 4439663424,\n",
       "  4: {...},\n",
       "  5: True,\n",
       "  6: 10},\n",
       " 'get_ipython': <bound method InteractiveShell.get_ipython of <ipykernel.zmqshell.ZMQInteractiveShell object at 0x10897c750>>,\n",
       " 'exit': <IPython.core.autocall.ZMQExitAutocall at 0x1089d85d0>,\n",
       " 'quit': <IPython.core.autocall.ZMQExitAutocall at 0x1089d85d0>,\n",
       " 'open': <function io.open(file, mode='r', buffering=-1, encoding=None, errors=None, newline=None, closefd=True, opener=None)>,\n",
       " '_': 10,\n",
       " '__': True,\n",
       " '___': {...},\n",
       " '__vsc_ipynb_file__': '/Users/thomas.steck/Desktop/Code/Python/FredBaptiste/Part 1 - Functional/s9 - Modules, Packages and Namespaces/p1_s9_130_what-is-a-module.ipynb',\n",
       " '_i': 'f()',\n",
       " '_ii': 'f = globals()[\"func\"]\\nf is func',\n",
       " '_iii': '# where does Python know where to find func?\\nglobals()',\n",
       " '_i1': 'def func():\\n    a = 10\\n    return a',\n",
       " 'func': <function __main__.func()>,\n",
       " '_i2': 'func',\n",
       " '_2': <function __main__.func()>,\n",
       " '_i3': 'id(func)',\n",
       " '_3': 4439663424,\n",
       " '_i4': '# where does Python know where to find func?\\nglobals()',\n",
       " '_4': {...},\n",
       " '_i5': 'f = globals()[\"func\"]\\nf is func',\n",
       " 'f': <function __main__.func()>,\n",
       " '_5': True,\n",
       " '_i6': 'f()',\n",
       " '_6': 10,\n",
       " '_i7': 'f()\\na = 100\\nglobals()',\n",
       " 'a': 100}"
      ]
     },
     "execution_count": 7,
     "metadata": {},
     "output_type": "execute_result"
    }
   ],
   "source": [
    "f()\n",
    "a = 100\n",
    "globals()"
   ]
  },
  {
   "cell_type": "code",
   "execution_count": 8,
   "metadata": {},
   "outputs": [],
   "source": [
    "def func():\n",
    "    a = 10\n",
    "    b = 10\n",
    "    print(locals())"
   ]
  },
  {
   "cell_type": "code",
   "execution_count": 9,
   "metadata": {},
   "outputs": [
    {
     "name": "stdout",
     "output_type": "stream",
     "text": [
      "{'a': 10, 'b': 10}\n"
     ]
    }
   ],
   "source": [
    "func()"
   ]
  },
  {
   "cell_type": "code",
   "execution_count": 10,
   "metadata": {},
   "outputs": [
    {
     "data": {
      "text/plain": [
       "<module 'math' from '/opt/homebrew/Cellar/python@3.11/3.11.3/Frameworks/Python.framework/Versions/3.11/lib/python3.11/lib-dynload/math.cpython-311-darwin.so'>"
      ]
     },
     "execution_count": 10,
     "metadata": {},
     "output_type": "execute_result"
    }
   ],
   "source": [
    "import math\n",
    "math"
   ]
  },
  {
   "cell_type": "code",
   "execution_count": 11,
   "metadata": {},
   "outputs": [],
   "source": [
    "import fractions"
   ]
  },
  {
   "cell_type": "code",
   "execution_count": 12,
   "metadata": {},
   "outputs": [
    {
     "data": {
      "text/plain": [
       "<module 'fractions' from '/opt/homebrew/Cellar/python@3.11/3.11.3/Frameworks/Python.framework/Versions/3.11/lib/python3.11/fractions.py'>"
      ]
     },
     "execution_count": 12,
     "metadata": {},
     "output_type": "execute_result"
    }
   ],
   "source": [
    "fractions"
   ]
  },
  {
   "cell_type": "code",
   "execution_count": 13,
   "metadata": {},
   "outputs": [],
   "source": [
    "junk = math"
   ]
  },
  {
   "cell_type": "code",
   "execution_count": 14,
   "metadata": {},
   "outputs": [
    {
     "data": {
      "text/plain": [
       "True"
      ]
     },
     "execution_count": 14,
     "metadata": {},
     "output_type": "execute_result"
    }
   ],
   "source": [
    "junk is math"
   ]
  },
  {
   "cell_type": "code",
   "execution_count": 15,
   "metadata": {},
   "outputs": [
    {
     "data": {
      "text/plain": [
       "1.4142135623730951"
      ]
     },
     "execution_count": 15,
     "metadata": {},
     "output_type": "execute_result"
    }
   ],
   "source": [
    "junk.sqrt(2)"
   ]
  },
  {
   "cell_type": "code",
   "execution_count": 16,
   "metadata": {},
   "outputs": [
    {
     "data": {
      "text/plain": [
       "<module 'math' from '/opt/homebrew/Cellar/python@3.11/3.11.3/Frameworks/Python.framework/Versions/3.11/lib/python3.11/lib-dynload/math.cpython-311-darwin.so'>"
      ]
     },
     "execution_count": 16,
     "metadata": {},
     "output_type": "execute_result"
    }
   ],
   "source": [
    "globals()[\"math\"]"
   ]
  },
  {
   "cell_type": "code",
   "execution_count": 17,
   "metadata": {},
   "outputs": [
    {
     "data": {
      "text/plain": [
       "dict"
      ]
     },
     "execution_count": 17,
     "metadata": {},
     "output_type": "execute_result"
    }
   ],
   "source": [
    "type(globals())"
   ]
  },
  {
   "cell_type": "code",
   "execution_count": 18,
   "metadata": {},
   "outputs": [
    {
     "data": {
      "text/plain": [
       "module"
      ]
     },
     "execution_count": 18,
     "metadata": {},
     "output_type": "execute_result"
    }
   ],
   "source": [
    "type(math)"
   ]
  },
  {
   "cell_type": "code",
   "execution_count": 19,
   "metadata": {},
   "outputs": [
    {
     "data": {
      "text/plain": [
       "4347504224"
      ]
     },
     "execution_count": 19,
     "metadata": {},
     "output_type": "execute_result"
    }
   ],
   "source": [
    "id(math)"
   ]
  },
  {
   "cell_type": "code",
   "execution_count": 20,
   "metadata": {},
   "outputs": [],
   "source": [
    "import math"
   ]
  },
  {
   "cell_type": "code",
   "execution_count": 21,
   "metadata": {},
   "outputs": [
    {
     "data": {
      "text/plain": [
       "4347504224"
      ]
     },
     "execution_count": 21,
     "metadata": {},
     "output_type": "execute_result"
    }
   ],
   "source": [
    "id(math)"
   ]
  },
  {
   "cell_type": "code",
   "execution_count": 22,
   "metadata": {},
   "outputs": [],
   "source": [
    "import sys"
   ]
  },
  {
   "cell_type": "code",
   "execution_count": 23,
   "metadata": {},
   "outputs": [
    {
     "data": {
      "text/plain": [
       "module"
      ]
     },
     "execution_count": 23,
     "metadata": {},
     "output_type": "execute_result"
    }
   ],
   "source": [
    "type(sys)"
   ]
  },
  {
   "cell_type": "code",
   "execution_count": 24,
   "metadata": {},
   "outputs": [
    {
     "data": {
      "text/plain": [
       "{'sys': <module 'sys' (built-in)>,\n",
       " 'builtins': <module 'builtins' (built-in)>,\n",
       " '_frozen_importlib': <module '_frozen_importlib' (frozen)>,\n",
       " '_imp': <module '_imp' (built-in)>,\n",
       " '_thread': <module '_thread' (built-in)>,\n",
       " '_warnings': <module '_warnings' (built-in)>,\n",
       " '_weakref': <module '_weakref' (built-in)>,\n",
       " '_io': <module '_io' (built-in)>,\n",
       " 'marshal': <module 'marshal' (built-in)>,\n",
       " 'posix': <module 'posix' (built-in)>,\n",
       " '_frozen_importlib_external': <module '_frozen_importlib_external' (frozen)>,\n",
       " 'time': <module 'time' (built-in)>,\n",
       " 'zipimport': <module 'zipimport' (frozen)>,\n",
       " '_codecs': <module '_codecs' (built-in)>,\n",
       " 'codecs': <module 'codecs' (frozen)>,\n",
       " 'encodings.aliases': <module 'encodings.aliases' from '/opt/homebrew/Cellar/python@3.11/3.11.3/Frameworks/Python.framework/Versions/3.11/lib/python3.11/encodings/aliases.py'>,\n",
       " 'encodings': <module 'encodings' from '/opt/homebrew/Cellar/python@3.11/3.11.3/Frameworks/Python.framework/Versions/3.11/lib/python3.11/encodings/__init__.py'>,\n",
       " 'encodings.utf_8': <module 'encodings.utf_8' from '/opt/homebrew/Cellar/python@3.11/3.11.3/Frameworks/Python.framework/Versions/3.11/lib/python3.11/encodings/utf_8.py'>,\n",
       " '_signal': <module '_signal' (built-in)>,\n",
       " '_abc': <module '_abc' (built-in)>,\n",
       " 'abc': <module 'abc' (frozen)>,\n",
       " 'io': <module 'io' (frozen)>,\n",
       " '__main__': <module '__main__'>,\n",
       " '_stat': <module '_stat' (built-in)>,\n",
       " 'stat': <module 'stat' (frozen)>,\n",
       " '_collections_abc': <module '_collections_abc' (frozen)>,\n",
       " 'genericpath': <module 'genericpath' (frozen)>,\n",
       " 'posixpath': <module 'posixpath' (frozen)>,\n",
       " 'os.path': <module 'posixpath' (frozen)>,\n",
       " 'os': <module 'os' (frozen)>,\n",
       " '_sitebuiltins': <module '_sitebuiltins' (frozen)>,\n",
       " '_distutils_hack': <module '_distutils_hack' from '/opt/homebrew/Cellar/python@3.11/3.11.3/Frameworks/Python.framework/Versions/3.11/lib/python3.11/site-packages/_distutils_hack/__init__.py'>,\n",
       " 'types': <module 'types' from '/opt/homebrew/Cellar/python@3.11/3.11.3/Frameworks/Python.framework/Versions/3.11/lib/python3.11/types.py'>,\n",
       " 'importlib._bootstrap': <module '_frozen_importlib' (frozen)>,\n",
       " 'importlib._bootstrap_external': <module '_frozen_importlib_external' (frozen)>,\n",
       " 'warnings': <module 'warnings' from '/opt/homebrew/Cellar/python@3.11/3.11.3/Frameworks/Python.framework/Versions/3.11/lib/python3.11/warnings.py'>,\n",
       " 'importlib': <module 'importlib' from '/opt/homebrew/Cellar/python@3.11/3.11.3/Frameworks/Python.framework/Versions/3.11/lib/python3.11/importlib/__init__.py'>,\n",
       " 'importlib._abc': <module 'importlib._abc' from '/opt/homebrew/Cellar/python@3.11/3.11.3/Frameworks/Python.framework/Versions/3.11/lib/python3.11/importlib/_abc.py'>,\n",
       " 'itertools': <module 'itertools' (built-in)>,\n",
       " 'keyword': <module 'keyword' from '/opt/homebrew/Cellar/python@3.11/3.11.3/Frameworks/Python.framework/Versions/3.11/lib/python3.11/keyword.py'>,\n",
       " '_operator': <module '_operator' (built-in)>,\n",
       " 'operator': <module 'operator' from '/opt/homebrew/Cellar/python@3.11/3.11.3/Frameworks/Python.framework/Versions/3.11/lib/python3.11/operator.py'>,\n",
       " 'reprlib': <module 'reprlib' from '/opt/homebrew/Cellar/python@3.11/3.11.3/Frameworks/Python.framework/Versions/3.11/lib/python3.11/reprlib.py'>,\n",
       " '_collections': <module '_collections' (built-in)>,\n",
       " 'collections': <module 'collections' from '/opt/homebrew/Cellar/python@3.11/3.11.3/Frameworks/Python.framework/Versions/3.11/lib/python3.11/collections/__init__.py'>,\n",
       " '_functools': <module '_functools' (built-in)>,\n",
       " 'functools': <module 'functools' from '/opt/homebrew/Cellar/python@3.11/3.11.3/Frameworks/Python.framework/Versions/3.11/lib/python3.11/functools.py'>,\n",
       " 'contextlib': <module 'contextlib' from '/opt/homebrew/Cellar/python@3.11/3.11.3/Frameworks/Python.framework/Versions/3.11/lib/python3.11/contextlib.py'>,\n",
       " 'importlib.util': <module 'importlib.util' (frozen)>,\n",
       " 'importlib.machinery': <module 'importlib.machinery' (frozen)>,\n",
       " 'google': <module 'google' (<_frozen_importlib_external.NamespaceLoader object at 0x103076190>)>,\n",
       " 'google.cloud': <module 'google.cloud' (<_frozen_importlib_external.NamespaceLoader object at 0x1030ecd10>)>,\n",
       " 'google.logging': <module 'google.logging' (<_frozen_importlib_external.NamespaceLoader object at 0x1030ed050>)>,\n",
       " 'google.iam': <module 'google.iam' (<_frozen_importlib_external.NamespaceLoader object at 0x1030ed190>)>,\n",
       " 'mpl_toolkits': <module 'mpl_toolkits' (<_frozen_importlib_external.NamespaceLoader object at 0x1030ed2d0>)>,\n",
       " 'sphinxcontrib': <module 'sphinxcontrib' (<_frozen_importlib_external.NamespaceLoader object at 0x1030ed4d0>)>,\n",
       " 'enum': <module 'enum' from '/opt/homebrew/Cellar/python@3.11/3.11.3/Frameworks/Python.framework/Versions/3.11/lib/python3.11/enum.py'>,\n",
       " '_sre': <module '_sre' (built-in)>,\n",
       " 're._constants': <module 're._constants' from '/opt/homebrew/Cellar/python@3.11/3.11.3/Frameworks/Python.framework/Versions/3.11/lib/python3.11/re/_constants.py'>,\n",
       " 're._parser': <module 're._parser' from '/opt/homebrew/Cellar/python@3.11/3.11.3/Frameworks/Python.framework/Versions/3.11/lib/python3.11/re/_parser.py'>,\n",
       " 're._casefix': <module 're._casefix' from '/opt/homebrew/Cellar/python@3.11/3.11.3/Frameworks/Python.framework/Versions/3.11/lib/python3.11/re/_casefix.py'>,\n",
       " 're._compiler': <module 're._compiler' from '/opt/homebrew/Cellar/python@3.11/3.11.3/Frameworks/Python.framework/Versions/3.11/lib/python3.11/re/_compiler.py'>,\n",
       " 'copyreg': <module 'copyreg' from '/opt/homebrew/Cellar/python@3.11/3.11.3/Frameworks/Python.framework/Versions/3.11/lib/python3.11/copyreg.py'>,\n",
       " 're': <module 're' from '/opt/homebrew/Cellar/python@3.11/3.11.3/Frameworks/Python.framework/Versions/3.11/lib/python3.11/re/__init__.py'>,\n",
       " 'sitecustomize': <module 'sitecustomize' from '/opt/homebrew/Cellar/python@3.11/3.11.3/Frameworks/Python.framework/Versions/3.11/lib/python3.11/sitecustomize.py'>,\n",
       " 'site': <module 'site' (frozen)>,\n",
       " 'runpy': <module 'runpy' (frozen)>,\n",
       " 'collections.abc': <module 'collections.abc' from '/opt/homebrew/Cellar/python@3.11/3.11.3/Frameworks/Python.framework/Versions/3.11/lib/python3.11/collections/abc.py'>,\n",
       " '_typing': <module '_typing' from '/opt/homebrew/Cellar/python@3.11/3.11.3/Frameworks/Python.framework/Versions/3.11/lib/python3.11/lib-dynload/_typing.cpython-311-darwin.so'>,\n",
       " 'typing.io': typing.io,\n",
       " 'typing.re': typing.re,\n",
       " 'typing': <module 'typing' from '/opt/homebrew/Cellar/python@3.11/3.11.3/Frameworks/Python.framework/Versions/3.11/lib/python3.11/typing.py'>,\n",
       " 'ipykernel._version': <module 'ipykernel._version' from '/Users/thomas.steck/Library/Python/3.11/lib/python/site-packages/ipykernel/_version.py'>,\n",
       " '_json': <module '_json' from '/opt/homebrew/Cellar/python@3.11/3.11.3/Frameworks/Python.framework/Versions/3.11/lib/python3.11/lib-dynload/_json.cpython-311-darwin.so'>,\n",
       " 'json.scanner': <module 'json.scanner' from '/opt/homebrew/Cellar/python@3.11/3.11.3/Frameworks/Python.framework/Versions/3.11/lib/python3.11/json/scanner.py'>,\n",
       " 'json.decoder': <module 'json.decoder' from '/opt/homebrew/Cellar/python@3.11/3.11.3/Frameworks/Python.framework/Versions/3.11/lib/python3.11/json/decoder.py'>,\n",
       " 'json.encoder': <module 'json.encoder' from '/opt/homebrew/Cellar/python@3.11/3.11.3/Frameworks/Python.framework/Versions/3.11/lib/python3.11/json/encoder.py'>,\n",
       " 'json': <module 'json' from '/opt/homebrew/Cellar/python@3.11/3.11.3/Frameworks/Python.framework/Versions/3.11/lib/python3.11/json/__init__.py'>,\n",
       " 'errno': <module 'errno' (built-in)>,\n",
       " '_locale': <module '_locale' (built-in)>,\n",
       " 'locale': <module 'locale' from '/opt/homebrew/Cellar/python@3.11/3.11.3/Frameworks/Python.framework/Versions/3.11/lib/python3.11/locale.py'>,\n",
       " 'signal': <module 'signal' from '/opt/homebrew/Cellar/python@3.11/3.11.3/Frameworks/Python.framework/Versions/3.11/lib/python3.11/signal.py'>,\n",
       " '_weakrefset': <module '_weakrefset' from '/opt/homebrew/Cellar/python@3.11/3.11.3/Frameworks/Python.framework/Versions/3.11/lib/python3.11/_weakrefset.py'>,\n",
       " 'threading': <module 'threading' from '/opt/homebrew/Cellar/python@3.11/3.11.3/Frameworks/Python.framework/Versions/3.11/lib/python3.11/threading.py'>,\n",
       " 'fcntl': <module 'fcntl' from '/opt/homebrew/Cellar/python@3.11/3.11.3/Frameworks/Python.framework/Versions/3.11/lib/python3.11/lib-dynload/fcntl.cpython-311-darwin.so'>,\n",
       " '_posixsubprocess': <module '_posixsubprocess' from '/opt/homebrew/Cellar/python@3.11/3.11.3/Frameworks/Python.framework/Versions/3.11/lib/python3.11/lib-dynload/_posixsubprocess.cpython-311-darwin.so'>,\n",
       " 'select': <module 'select' from '/opt/homebrew/Cellar/python@3.11/3.11.3/Frameworks/Python.framework/Versions/3.11/lib/python3.11/lib-dynload/select.cpython-311-darwin.so'>,\n",
       " 'math': <module 'math' from '/opt/homebrew/Cellar/python@3.11/3.11.3/Frameworks/Python.framework/Versions/3.11/lib/python3.11/lib-dynload/math.cpython-311-darwin.so'>,\n",
       " 'selectors': <module 'selectors' from '/opt/homebrew/Cellar/python@3.11/3.11.3/Frameworks/Python.framework/Versions/3.11/lib/python3.11/selectors.py'>,\n",
       " 'subprocess': <module 'subprocess' from '/opt/homebrew/Cellar/python@3.11/3.11.3/Frameworks/Python.framework/Versions/3.11/lib/python3.11/subprocess.py'>,\n",
       " 'jupyter_client._version': <module 'jupyter_client._version' from '/Users/thomas.steck/Library/Python/3.11/lib/python/site-packages/jupyter_client/_version.py'>,\n",
       " '_ast': <module '_ast' (built-in)>,\n",
       " 'ast': <module 'ast' from '/opt/homebrew/Cellar/python@3.11/3.11.3/Frameworks/Python.framework/Versions/3.11/lib/python3.11/ast.py'>,\n",
       " '_opcode': <module '_opcode' from '/opt/homebrew/Cellar/python@3.11/3.11.3/Frameworks/Python.framework/Versions/3.11/lib/python3.11/lib-dynload/_opcode.cpython-311-darwin.so'>,\n",
       " 'opcode': <module 'opcode' from '/opt/homebrew/Cellar/python@3.11/3.11.3/Frameworks/Python.framework/Versions/3.11/lib/python3.11/opcode.py'>,\n",
       " 'dis': <module 'dis' from '/opt/homebrew/Cellar/python@3.11/3.11.3/Frameworks/Python.framework/Versions/3.11/lib/python3.11/dis.py'>,\n",
       " 'token': <module 'token' from '/opt/homebrew/Cellar/python@3.11/3.11.3/Frameworks/Python.framework/Versions/3.11/lib/python3.11/token.py'>,\n",
       " 'tokenize': <module 'tokenize' from '/opt/homebrew/Cellar/python@3.11/3.11.3/Frameworks/Python.framework/Versions/3.11/lib/python3.11/tokenize.py'>,\n",
       " 'linecache': <module 'linecache' from '/opt/homebrew/Cellar/python@3.11/3.11.3/Frameworks/Python.framework/Versions/3.11/lib/python3.11/linecache.py'>,\n",
       " 'inspect': <module 'inspect' from '/opt/homebrew/Cellar/python@3.11/3.11.3/Frameworks/Python.framework/Versions/3.11/lib/python3.11/inspect.py'>,\n",
       " 'traitlets.utils': <module 'traitlets.utils' from '/Users/thomas.steck/Library/Python/3.11/lib/python/site-packages/traitlets/utils/__init__.py'>,\n",
       " 'traitlets.utils.bunch': <module 'traitlets.utils.bunch' from '/Users/thomas.steck/Library/Python/3.11/lib/python/site-packages/traitlets/utils/bunch.py'>,\n",
       " 'traitlets.utils.descriptions': <module 'traitlets.utils.descriptions' from '/Users/thomas.steck/Library/Python/3.11/lib/python/site-packages/traitlets/utils/descriptions.py'>,\n",
       " 'traitlets.utils.getargspec': <module 'traitlets.utils.getargspec' from '/Users/thomas.steck/Library/Python/3.11/lib/python/site-packages/traitlets/utils/getargspec.py'>,\n",
       " 'traitlets.utils.importstring': <module 'traitlets.utils.importstring' from '/Users/thomas.steck/Library/Python/3.11/lib/python/site-packages/traitlets/utils/importstring.py'>,\n",
       " 'traitlets.utils.sentinel': <module 'traitlets.utils.sentinel' from '/Users/thomas.steck/Library/Python/3.11/lib/python/site-packages/traitlets/utils/sentinel.py'>,\n",
       " 'traitlets.traitlets': <module 'traitlets.traitlets' from '/Users/thomas.steck/Library/Python/3.11/lib/python/site-packages/traitlets/traitlets.py'>,\n",
       " 'traitlets._version': <module 'traitlets._version' from '/Users/thomas.steck/Library/Python/3.11/lib/python/site-packages/traitlets/_version.py'>,\n",
       " 'weakref': <module 'weakref' from '/opt/homebrew/Cellar/python@3.11/3.11.3/Frameworks/Python.framework/Versions/3.11/lib/python3.11/weakref.py'>,\n",
       " 'copy': <module 'copy' from '/opt/homebrew/Cellar/python@3.11/3.11.3/Frameworks/Python.framework/Versions/3.11/lib/python3.11/copy.py'>,\n",
       " 'traitlets.utils.decorators': <module 'traitlets.utils.decorators' from '/Users/thomas.steck/Library/Python/3.11/lib/python/site-packages/traitlets/utils/decorators.py'>,\n",
       " 'traitlets': <module 'traitlets' from '/Users/thomas.steck/Library/Python/3.11/lib/python/site-packages/traitlets/__init__.py'>,\n",
       " 'concurrent': <module 'concurrent' from '/opt/homebrew/Cellar/python@3.11/3.11.3/Frameworks/Python.framework/Versions/3.11/lib/python3.11/concurrent/__init__.py'>,\n",
       " 'textwrap': <module 'textwrap' from '/opt/homebrew/Cellar/python@3.11/3.11.3/Frameworks/Python.framework/Versions/3.11/lib/python3.11/textwrap.py'>,\n",
       " 'traceback': <module 'traceback' from '/opt/homebrew/Cellar/python@3.11/3.11.3/Frameworks/Python.framework/Versions/3.11/lib/python3.11/traceback.py'>,\n",
       " '_string': <module '_string' (built-in)>,\n",
       " 'string': <module 'string' from '/opt/homebrew/Cellar/python@3.11/3.11.3/Frameworks/Python.framework/Versions/3.11/lib/python3.11/string.py'>,\n",
       " 'atexit': <module 'atexit' (built-in)>,\n",
       " 'logging': <module 'logging' from '/opt/homebrew/Cellar/python@3.11/3.11.3/Frameworks/Python.framework/Versions/3.11/lib/python3.11/logging/__init__.py'>,\n",
       " 'concurrent.futures._base': <module 'concurrent.futures._base' from '/opt/homebrew/Cellar/python@3.11/3.11.3/Frameworks/Python.framework/Versions/3.11/lib/python3.11/concurrent/futures/_base.py'>,\n",
       " 'concurrent.futures': <module 'concurrent.futures' from '/opt/homebrew/Cellar/python@3.11/3.11.3/Frameworks/Python.framework/Versions/3.11/lib/python3.11/concurrent/futures/__init__.py'>,\n",
       " '_heapq': <module '_heapq' from '/opt/homebrew/Cellar/python@3.11/3.11.3/Frameworks/Python.framework/Versions/3.11/lib/python3.11/lib-dynload/_heapq.cpython-311-darwin.so'>,\n",
       " 'heapq': <module 'heapq' from '/opt/homebrew/Cellar/python@3.11/3.11.3/Frameworks/Python.framework/Versions/3.11/lib/python3.11/heapq.py'>,\n",
       " '_socket': <module '_socket' from '/opt/homebrew/Cellar/python@3.11/3.11.3/Frameworks/Python.framework/Versions/3.11/lib/python3.11/lib-dynload/_socket.cpython-311-darwin.so'>,\n",
       " 'array': <module 'array' from '/opt/homebrew/Cellar/python@3.11/3.11.3/Frameworks/Python.framework/Versions/3.11/lib/python3.11/lib-dynload/array.cpython-311-darwin.so'>,\n",
       " 'socket': <module 'socket' from '/opt/homebrew/Cellar/python@3.11/3.11.3/Frameworks/Python.framework/Versions/3.11/lib/python3.11/socket.py'>,\n",
       " '_ssl': <module '_ssl' from '/opt/homebrew/Cellar/python@3.11/3.11.3/Frameworks/Python.framework/Versions/3.11/lib/python3.11/lib-dynload/_ssl.cpython-311-darwin.so'>,\n",
       " '_struct': <module '_struct' from '/opt/homebrew/Cellar/python@3.11/3.11.3/Frameworks/Python.framework/Versions/3.11/lib/python3.11/lib-dynload/_struct.cpython-311-darwin.so'>,\n",
       " 'struct': <module 'struct' from '/opt/homebrew/Cellar/python@3.11/3.11.3/Frameworks/Python.framework/Versions/3.11/lib/python3.11/struct.py'>,\n",
       " 'binascii': <module 'binascii' from '/opt/homebrew/Cellar/python@3.11/3.11.3/Frameworks/Python.framework/Versions/3.11/lib/python3.11/lib-dynload/binascii.cpython-311-darwin.so'>,\n",
       " 'base64': <module 'base64' from '/opt/homebrew/Cellar/python@3.11/3.11.3/Frameworks/Python.framework/Versions/3.11/lib/python3.11/base64.py'>,\n",
       " 'ssl': <module 'ssl' from '/opt/homebrew/Cellar/python@3.11/3.11.3/Frameworks/Python.framework/Versions/3.11/lib/python3.11/ssl.py'>,\n",
       " 'asyncio.constants': <module 'asyncio.constants' from '/opt/homebrew/Cellar/python@3.11/3.11.3/Frameworks/Python.framework/Versions/3.11/lib/python3.11/asyncio/constants.py'>,\n",
       " 'asyncio.coroutines': <module 'asyncio.coroutines' from '/opt/homebrew/Cellar/python@3.11/3.11.3/Frameworks/Python.framework/Versions/3.11/lib/python3.11/asyncio/coroutines.py'>,\n",
       " '_contextvars': <module '_contextvars' from '/opt/homebrew/Cellar/python@3.11/3.11.3/Frameworks/Python.framework/Versions/3.11/lib/python3.11/lib-dynload/_contextvars.cpython-311-darwin.so'>,\n",
       " 'contextvars': <module 'contextvars' from '/opt/homebrew/Cellar/python@3.11/3.11.3/Frameworks/Python.framework/Versions/3.11/lib/python3.11/contextvars.py'>,\n",
       " 'asyncio.format_helpers': <module 'asyncio.format_helpers' from '/opt/homebrew/Cellar/python@3.11/3.11.3/Frameworks/Python.framework/Versions/3.11/lib/python3.11/asyncio/format_helpers.py'>,\n",
       " 'asyncio.base_futures': <module 'asyncio.base_futures' from '/opt/homebrew/Cellar/python@3.11/3.11.3/Frameworks/Python.framework/Versions/3.11/lib/python3.11/asyncio/base_futures.py'>,\n",
       " 'asyncio.exceptions': <module 'asyncio.exceptions' from '/opt/homebrew/Cellar/python@3.11/3.11.3/Frameworks/Python.framework/Versions/3.11/lib/python3.11/asyncio/exceptions.py'>,\n",
       " 'asyncio.base_tasks': <module 'asyncio.base_tasks' from '/opt/homebrew/Cellar/python@3.11/3.11.3/Frameworks/Python.framework/Versions/3.11/lib/python3.11/asyncio/base_tasks.py'>,\n",
       " '_asyncio': <module '_asyncio' from '/opt/homebrew/Cellar/python@3.11/3.11.3/Frameworks/Python.framework/Versions/3.11/lib/python3.11/lib-dynload/_asyncio.cpython-311-darwin.so'>,\n",
       " 'asyncio.events': <module 'asyncio.events' from '/opt/homebrew/Cellar/python@3.11/3.11.3/Frameworks/Python.framework/Versions/3.11/lib/python3.11/asyncio/events.py'>,\n",
       " 'asyncio.futures': <module 'asyncio.futures' from '/opt/homebrew/Cellar/python@3.11/3.11.3/Frameworks/Python.framework/Versions/3.11/lib/python3.11/asyncio/futures.py'>,\n",
       " 'asyncio.protocols': <module 'asyncio.protocols' from '/opt/homebrew/Cellar/python@3.11/3.11.3/Frameworks/Python.framework/Versions/3.11/lib/python3.11/asyncio/protocols.py'>,\n",
       " 'asyncio.transports': <module 'asyncio.transports' from '/opt/homebrew/Cellar/python@3.11/3.11.3/Frameworks/Python.framework/Versions/3.11/lib/python3.11/asyncio/transports.py'>,\n",
       " 'asyncio.log': <module 'asyncio.log' from '/opt/homebrew/Cellar/python@3.11/3.11.3/Frameworks/Python.framework/Versions/3.11/lib/python3.11/asyncio/log.py'>,\n",
       " 'asyncio.sslproto': <module 'asyncio.sslproto' from '/opt/homebrew/Cellar/python@3.11/3.11.3/Frameworks/Python.framework/Versions/3.11/lib/python3.11/asyncio/sslproto.py'>,\n",
       " 'asyncio.mixins': <module 'asyncio.mixins' from '/opt/homebrew/Cellar/python@3.11/3.11.3/Frameworks/Python.framework/Versions/3.11/lib/python3.11/asyncio/mixins.py'>,\n",
       " 'asyncio.tasks': <module 'asyncio.tasks' from '/opt/homebrew/Cellar/python@3.11/3.11.3/Frameworks/Python.framework/Versions/3.11/lib/python3.11/asyncio/tasks.py'>,\n",
       " 'asyncio.locks': <module 'asyncio.locks' from '/opt/homebrew/Cellar/python@3.11/3.11.3/Frameworks/Python.framework/Versions/3.11/lib/python3.11/asyncio/locks.py'>,\n",
       " 'asyncio.staggered': <module 'asyncio.staggered' from '/opt/homebrew/Cellar/python@3.11/3.11.3/Frameworks/Python.framework/Versions/3.11/lib/python3.11/asyncio/staggered.py'>,\n",
       " 'asyncio.trsock': <module 'asyncio.trsock' from '/opt/homebrew/Cellar/python@3.11/3.11.3/Frameworks/Python.framework/Versions/3.11/lib/python3.11/asyncio/trsock.py'>,\n",
       " 'asyncio.base_events': <module 'asyncio.base_events' from '/opt/homebrew/Cellar/python@3.11/3.11.3/Frameworks/Python.framework/Versions/3.11/lib/python3.11/asyncio/base_events.py'>,\n",
       " 'asyncio.runners': <module 'asyncio.runners' from '/opt/homebrew/Cellar/python@3.11/3.11.3/Frameworks/Python.framework/Versions/3.11/lib/python3.11/asyncio/runners.py'>,\n",
       " 'asyncio.queues': <module 'asyncio.queues' from '/opt/homebrew/Cellar/python@3.11/3.11.3/Frameworks/Python.framework/Versions/3.11/lib/python3.11/asyncio/queues.py'>,\n",
       " 'asyncio.streams': <module 'asyncio.streams' from '/opt/homebrew/Cellar/python@3.11/3.11.3/Frameworks/Python.framework/Versions/3.11/lib/python3.11/asyncio/streams.py'>,\n",
       " 'asyncio.subprocess': <module 'asyncio.subprocess' from '/opt/homebrew/Cellar/python@3.11/3.11.3/Frameworks/Python.framework/Versions/3.11/lib/python3.11/asyncio/subprocess.py'>,\n",
       " 'asyncio.taskgroups': <module 'asyncio.taskgroups' from '/opt/homebrew/Cellar/python@3.11/3.11.3/Frameworks/Python.framework/Versions/3.11/lib/python3.11/asyncio/taskgroups.py'>,\n",
       " 'asyncio.timeouts': <module 'asyncio.timeouts' from '/opt/homebrew/Cellar/python@3.11/3.11.3/Frameworks/Python.framework/Versions/3.11/lib/python3.11/asyncio/timeouts.py'>,\n",
       " 'asyncio.threads': <module 'asyncio.threads' from '/opt/homebrew/Cellar/python@3.11/3.11.3/Frameworks/Python.framework/Versions/3.11/lib/python3.11/asyncio/threads.py'>,\n",
       " 'asyncio.base_subprocess': <module 'asyncio.base_subprocess' from '/opt/homebrew/Cellar/python@3.11/3.11.3/Frameworks/Python.framework/Versions/3.11/lib/python3.11/asyncio/base_subprocess.py'>,\n",
       " 'asyncio.selector_events': <module 'asyncio.selector_events' from '/opt/homebrew/Cellar/python@3.11/3.11.3/Frameworks/Python.framework/Versions/3.11/lib/python3.11/asyncio/selector_events.py'>,\n",
       " 'asyncio.unix_events': <module 'asyncio.unix_events' from '/opt/homebrew/Cellar/python@3.11/3.11.3/Frameworks/Python.framework/Versions/3.11/lib/python3.11/asyncio/unix_events.py'>,\n",
       " 'asyncio': <module 'asyncio' from '/opt/homebrew/Cellar/python@3.11/3.11.3/Frameworks/Python.framework/Versions/3.11/lib/python3.11/asyncio/__init__.py'>,\n",
       " '_queue': <module '_queue' from '/opt/homebrew/Cellar/python@3.11/3.11.3/Frameworks/Python.framework/Versions/3.11/lib/python3.11/lib-dynload/_queue.cpython-311-darwin.so'>,\n",
       " 'queue': <module 'queue' from '/opt/homebrew/Cellar/python@3.11/3.11.3/Frameworks/Python.framework/Versions/3.11/lib/python3.11/queue.py'>,\n",
       " 'platform': <module 'platform' from '/opt/homebrew/Cellar/python@3.11/3.11.3/Frameworks/Python.framework/Versions/3.11/lib/python3.11/platform.py'>,\n",
       " '_ctypes': <module '_ctypes' from '/opt/homebrew/Cellar/python@3.11/3.11.3/Frameworks/Python.framework/Versions/3.11/lib/python3.11/lib-dynload/_ctypes.cpython-311-darwin.so'>,\n",
       " 'ctypes._endian': <module 'ctypes._endian' from '/opt/homebrew/Cellar/python@3.11/3.11.3/Frameworks/Python.framework/Versions/3.11/lib/python3.11/ctypes/_endian.py'>,\n",
       " 'ctypes': <module 'ctypes' from '/opt/homebrew/Cellar/python@3.11/3.11.3/Frameworks/Python.framework/Versions/3.11/lib/python3.11/ctypes/__init__.py'>,\n",
       " 'zmq.backend.select': <module 'zmq.backend.select' from '/Users/thomas.steck/Library/Python/3.11/lib/python/site-packages/zmq/backend/select.py'>,\n",
       " '_cython_0_29_32': <module '_cython_0_29_32'>,\n",
       " 'cython_runtime': <module 'cython_runtime'>,\n",
       " 'zmq.error': <module 'zmq.error' from '/Users/thomas.steck/Library/Python/3.11/lib/python/site-packages/zmq/error.py'>,\n",
       " 'zmq.backend.cython.context': <module 'zmq.backend.cython.context' from '/Users/thomas.steck/Library/Python/3.11/lib/python/site-packages/zmq/backend/cython/context.cpython-311-darwin.so'>,\n",
       " 'zmq.backend.cython.message': <module 'zmq.backend.cython.message' from '/Users/thomas.steck/Library/Python/3.11/lib/python/site-packages/zmq/backend/cython/message.cpython-311-darwin.so'>,\n",
       " '_bisect': <module '_bisect' from '/opt/homebrew/Cellar/python@3.11/3.11.3/Frameworks/Python.framework/Versions/3.11/lib/python3.11/lib-dynload/_bisect.cpython-311-darwin.so'>,\n",
       " 'bisect': <module 'bisect' from '/opt/homebrew/Cellar/python@3.11/3.11.3/Frameworks/Python.framework/Versions/3.11/lib/python3.11/bisect.py'>,\n",
       " '_random': <module '_random' from '/opt/homebrew/Cellar/python@3.11/3.11.3/Frameworks/Python.framework/Versions/3.11/lib/python3.11/lib-dynload/_random.cpython-311-darwin.so'>,\n",
       " '_sha512': <module '_sha512' from '/opt/homebrew/Cellar/python@3.11/3.11.3/Frameworks/Python.framework/Versions/3.11/lib/python3.11/lib-dynload/_sha512.cpython-311-darwin.so'>,\n",
       " 'random': <module 'random' from '/opt/homebrew/Cellar/python@3.11/3.11.3/Frameworks/Python.framework/Versions/3.11/lib/python3.11/random.py'>,\n",
       " '_compat_pickle': <module '_compat_pickle' from '/opt/homebrew/Cellar/python@3.11/3.11.3/Frameworks/Python.framework/Versions/3.11/lib/python3.11/_compat_pickle.py'>,\n",
       " '_pickle': <module '_pickle' from '/opt/homebrew/Cellar/python@3.11/3.11.3/Frameworks/Python.framework/Versions/3.11/lib/python3.11/lib-dynload/_pickle.cpython-311-darwin.so'>,\n",
       " 'pickle': <module 'pickle' from '/opt/homebrew/Cellar/python@3.11/3.11.3/Frameworks/Python.framework/Versions/3.11/lib/python3.11/pickle.py'>,\n",
       " 'zmq.constants': <module 'zmq.constants' from '/Users/thomas.steck/Library/Python/3.11/lib/python/site-packages/zmq/constants.py'>,\n",
       " 'zmq.backend.cython.socket': <module 'zmq.backend.cython.socket' from '/Users/thomas.steck/Library/Python/3.11/lib/python/site-packages/zmq/backend/cython/socket.cpython-311-darwin.so'>,\n",
       " 'zmq.backend.cython._device': <module 'zmq.backend.cython._device' from '/Users/thomas.steck/Library/Python/3.11/lib/python/site-packages/zmq/backend/cython/_device.cpython-311-darwin.so'>,\n",
       " 'zmq.backend.cython._poll': <module 'zmq.backend.cython._poll' from '/Users/thomas.steck/Library/Python/3.11/lib/python/site-packages/zmq/backend/cython/_poll.cpython-311-darwin.so'>,\n",
       " 'zmq.backend.cython._proxy_steerable': <module 'zmq.backend.cython._proxy_steerable' from '/Users/thomas.steck/Library/Python/3.11/lib/python/site-packages/zmq/backend/cython/_proxy_steerable.cpython-311-darwin.so'>,\n",
       " 'zmq.backend.cython._version': <module 'zmq.backend.cython._version' from '/Users/thomas.steck/Library/Python/3.11/lib/python/site-packages/zmq/backend/cython/_version.cpython-311-darwin.so'>,\n",
       " 'zmq.backend.cython.error': <module 'zmq.backend.cython.error' from '/Users/thomas.steck/Library/Python/3.11/lib/python/site-packages/zmq/backend/cython/error.cpython-311-darwin.so'>,\n",
       " 'zmq.backend.cython.utils': <module 'zmq.backend.cython.utils' from '/Users/thomas.steck/Library/Python/3.11/lib/python/site-packages/zmq/backend/cython/utils.cpython-311-darwin.so'>,\n",
       " 'zmq.backend.cython': <module 'zmq.backend.cython' from '/Users/thomas.steck/Library/Python/3.11/lib/python/site-packages/zmq/backend/cython/__init__.py'>,\n",
       " 'zmq.backend': <module 'zmq.backend' from '/Users/thomas.steck/Library/Python/3.11/lib/python/site-packages/zmq/backend/__init__.py'>,\n",
       " 'zmq.sugar.attrsettr': <module 'zmq.sugar.attrsettr' from '/Users/thomas.steck/Library/Python/3.11/lib/python/site-packages/zmq/sugar/attrsettr.py'>,\n",
       " 'zmq._typing': <module 'zmq._typing' from '/Users/thomas.steck/Library/Python/3.11/lib/python/site-packages/zmq/_typing.py'>,\n",
       " 'zmq.utils': <module 'zmq.utils' from '/Users/thomas.steck/Library/Python/3.11/lib/python/site-packages/zmq/utils/__init__.py'>,\n",
       " 'zmq.utils.jsonapi': <module 'zmq.utils.jsonapi' from '/Users/thomas.steck/Library/Python/3.11/lib/python/site-packages/zmq/utils/jsonapi.py'>,\n",
       " 'zmq.sugar.poll': <module 'zmq.sugar.poll' from '/Users/thomas.steck/Library/Python/3.11/lib/python/site-packages/zmq/sugar/poll.py'>,\n",
       " 'zmq.sugar.socket': <module 'zmq.sugar.socket' from '/Users/thomas.steck/Library/Python/3.11/lib/python/site-packages/zmq/sugar/socket.py'>,\n",
       " 'zmq.sugar.context': <module 'zmq.sugar.context' from '/Users/thomas.steck/Library/Python/3.11/lib/python/site-packages/zmq/sugar/context.py'>,\n",
       " 'zmq.sugar.frame': <module 'zmq.sugar.frame' from '/Users/thomas.steck/Library/Python/3.11/lib/python/site-packages/zmq/sugar/frame.py'>,\n",
       " 'zmq.sugar.tracker': <module 'zmq.sugar.tracker' from '/Users/thomas.steck/Library/Python/3.11/lib/python/site-packages/zmq/sugar/tracker.py'>,\n",
       " 'zmq.sugar.version': <module 'zmq.sugar.version' from '/Users/thomas.steck/Library/Python/3.11/lib/python/site-packages/zmq/sugar/version.py'>,\n",
       " 'zmq.sugar.stopwatch': <module 'zmq.sugar.stopwatch' from '/Users/thomas.steck/Library/Python/3.11/lib/python/site-packages/zmq/sugar/stopwatch.py'>,\n",
       " 'zmq.sugar': <module 'zmq.sugar' from '/Users/thomas.steck/Library/Python/3.11/lib/python/site-packages/zmq/sugar/__init__.py'>,\n",
       " 'zmq': <module 'zmq' from '/Users/thomas.steck/Library/Python/3.11/lib/python/site-packages/zmq/__init__.py'>,\n",
       " 'zmq._future': <module 'zmq._future' from '/Users/thomas.steck/Library/Python/3.11/lib/python/site-packages/zmq/_future.py'>,\n",
       " 'zmq.asyncio': <module 'zmq.asyncio' from '/Users/thomas.steck/Library/Python/3.11/lib/python/site-packages/zmq/asyncio.py'>,\n",
       " 'jupyter_client.channelsabc': <module 'jupyter_client.channelsabc' from '/Users/thomas.steck/Library/Python/3.11/lib/python/site-packages/jupyter_client/channelsabc.py'>,\n",
       " '_hashlib': <module '_hashlib' from '/opt/homebrew/Cellar/python@3.11/3.11.3/Frameworks/Python.framework/Versions/3.11/lib/python3.11/lib-dynload/_hashlib.cpython-311-darwin.so'>,\n",
       " '_blake2': <module '_blake2' from '/opt/homebrew/Cellar/python@3.11/3.11.3/Frameworks/Python.framework/Versions/3.11/lib/python3.11/lib-dynload/_blake2.cpython-311-darwin.so'>,\n",
       " 'hashlib': <module 'hashlib' from '/opt/homebrew/Cellar/python@3.11/3.11.3/Frameworks/Python.framework/Versions/3.11/lib/python3.11/hashlib.py'>,\n",
       " 'hmac': <module 'hmac' from '/opt/homebrew/Cellar/python@3.11/3.11.3/Frameworks/Python.framework/Versions/3.11/lib/python3.11/hmac.py'>,\n",
       " 'dataclasses': <module 'dataclasses' from '/opt/homebrew/Cellar/python@3.11/3.11.3/Frameworks/Python.framework/Versions/3.11/lib/python3.11/dataclasses.py'>,\n",
       " 'pprint': <module 'pprint' from '/opt/homebrew/Cellar/python@3.11/3.11.3/Frameworks/Python.framework/Versions/3.11/lib/python3.11/pprint.py'>,\n",
       " '_datetime': <module '_datetime' from '/opt/homebrew/Cellar/python@3.11/3.11.3/Frameworks/Python.framework/Versions/3.11/lib/python3.11/lib-dynload/_datetime.cpython-311-darwin.so'>,\n",
       " 'datetime': <module 'datetime' from '/opt/homebrew/Cellar/python@3.11/3.11.3/Frameworks/Python.framework/Versions/3.11/lib/python3.11/datetime.py'>,\n",
       " 'logging.handlers': <module 'logging.handlers' from '/opt/homebrew/Cellar/python@3.11/3.11.3/Frameworks/Python.framework/Versions/3.11/lib/python3.11/logging/handlers.py'>,\n",
       " 'socketserver': <module 'socketserver' from '/opt/homebrew/Cellar/python@3.11/3.11.3/Frameworks/Python.framework/Versions/3.11/lib/python3.11/socketserver.py'>,\n",
       " 'logging.config': <module 'logging.config' from '/opt/homebrew/Cellar/python@3.11/3.11.3/Frameworks/Python.framework/Versions/3.11/lib/python3.11/logging/config.py'>,\n",
       " 'traitlets.utils.text': <module 'traitlets.utils.text' from '/Users/thomas.steck/Library/Python/3.11/lib/python/site-packages/traitlets/utils/text.py'>,\n",
       " 'gettext': <module 'gettext' from '/opt/homebrew/Cellar/python@3.11/3.11.3/Frameworks/Python.framework/Versions/3.11/lib/python3.11/gettext.py'>,\n",
       " 'argparse': <module 'argparse' from '/opt/homebrew/Cellar/python@3.11/3.11.3/Frameworks/Python.framework/Versions/3.11/lib/python3.11/argparse.py'>,\n",
       " 'traitlets.config.loader': <module 'traitlets.config.loader' from '/Users/thomas.steck/Library/Python/3.11/lib/python/site-packages/traitlets/config/loader.py'>,\n",
       " 'traitlets.config.configurable': <module 'traitlets.config.configurable' from '/Users/thomas.steck/Library/Python/3.11/lib/python/site-packages/traitlets/config/configurable.py'>,\n",
       " 'traitlets.utils.nested_update': <module 'traitlets.utils.nested_update' from '/Users/thomas.steck/Library/Python/3.11/lib/python/site-packages/traitlets/utils/nested_update.py'>,\n",
       " 'traitlets.config.application': <module 'traitlets.config.application' from '/Users/thomas.steck/Library/Python/3.11/lib/python/site-packages/traitlets/config/application.py'>,\n",
       " 'traitlets.config': <module 'traitlets.config' from '/Users/thomas.steck/Library/Python/3.11/lib/python/site-packages/traitlets/config/__init__.py'>,\n",
       " 'traitlets.log': <module 'traitlets.log' from '/Users/thomas.steck/Library/Python/3.11/lib/python/site-packages/traitlets/log.py'>,\n",
       " 'tornado': <module 'tornado' from '/Users/thomas.steck/Library/Python/3.11/lib/python/site-packages/tornado/__init__.py'>,\n",
       " 'numbers': <module 'numbers' from '/opt/homebrew/Cellar/python@3.11/3.11.3/Frameworks/Python.framework/Versions/3.11/lib/python3.11/numbers.py'>,\n",
       " 'html.entities': <module 'html.entities' from '/opt/homebrew/Cellar/python@3.11/3.11.3/Frameworks/Python.framework/Versions/3.11/lib/python3.11/html/entities.py'>,\n",
       " 'html': <module 'html' from '/opt/homebrew/Cellar/python@3.11/3.11.3/Frameworks/Python.framework/Versions/3.11/lib/python3.11/html/__init__.py'>,\n",
       " 'urllib': <module 'urllib' from '/opt/homebrew/Cellar/python@3.11/3.11.3/Frameworks/Python.framework/Versions/3.11/lib/python3.11/urllib/__init__.py'>,\n",
       " 'urllib.parse': <module 'urllib.parse' from '/opt/homebrew/Cellar/python@3.11/3.11.3/Frameworks/Python.framework/Versions/3.11/lib/python3.11/urllib/parse.py'>,\n",
       " 'zlib': <module 'zlib' from '/opt/homebrew/Cellar/python@3.11/3.11.3/Frameworks/Python.framework/Versions/3.11/lib/python3.11/lib-dynload/zlib.cpython-311-darwin.so'>,\n",
       " 'tornado.speedups': <module 'tornado.speedups' from '/Users/thomas.steck/Library/Python/3.11/lib/python/site-packages/tornado/speedups.abi3.so'>,\n",
       " 'tornado.util': <module 'tornado.util' from '/Users/thomas.steck/Library/Python/3.11/lib/python/site-packages/tornado/util.py'>,\n",
       " 'tornado.escape': <module 'tornado.escape' from '/Users/thomas.steck/Library/Python/3.11/lib/python/site-packages/tornado/escape.py'>,\n",
       " '_curses': <module '_curses' from '/opt/homebrew/Cellar/python@3.11/3.11.3/Frameworks/Python.framework/Versions/3.11/lib/python3.11/lib-dynload/_curses.cpython-311-darwin.so'>,\n",
       " 'curses': <module 'curses' from '/opt/homebrew/Cellar/python@3.11/3.11.3/Frameworks/Python.framework/Versions/3.11/lib/python3.11/curses/__init__.py'>,\n",
       " 'tornado.log': <module 'tornado.log' from '/Users/thomas.steck/Library/Python/3.11/lib/python/site-packages/tornado/log.py'>,\n",
       " 'tornado.concurrent': <module 'tornado.concurrent' from '/Users/thomas.steck/Library/Python/3.11/lib/python/site-packages/tornado/concurrent.py'>,\n",
       " 'tornado.ioloop': <module 'tornado.ioloop' from '/Users/thomas.steck/Library/Python/3.11/lib/python/site-packages/tornado/ioloop.py'>,\n",
       " 'tornado.platform': <module 'tornado.platform' from '/Users/thomas.steck/Library/Python/3.11/lib/python/site-packages/tornado/platform/__init__.py'>,\n",
       " 'tornado.gen': <module 'tornado.gen' from '/Users/thomas.steck/Library/Python/3.11/lib/python/site-packages/tornado/gen.py'>,\n",
       " 'tornado.platform.asyncio': <module 'tornado.platform.asyncio' from '/Users/thomas.steck/Library/Python/3.11/lib/python/site-packages/tornado/platform/asyncio.py'>,\n",
       " 'zmq.eventloop.ioloop': <module 'zmq.eventloop.ioloop' from '/Users/thomas.steck/Library/Python/3.11/lib/python/site-packages/zmq/eventloop/ioloop.py'>,\n",
       " 'zmq.eventloop': <module 'zmq.eventloop' from '/Users/thomas.steck/Library/Python/3.11/lib/python/site-packages/zmq/eventloop/__init__.py'>,\n",
       " 'zmq.eventloop.zmqstream': <module 'zmq.eventloop.zmqstream' from '/Users/thomas.steck/Library/Python/3.11/lib/python/site-packages/zmq/eventloop/zmqstream.py'>,\n",
       " 'jupyter_client.adapter': <module 'jupyter_client.adapter' from '/Users/thomas.steck/Library/Python/3.11/lib/python/site-packages/jupyter_client/adapter.py'>,\n",
       " 'dateutil._version': <module 'dateutil._version' from '/Users/thomas.steck/Library/Python/3.11/lib/python/site-packages/dateutil/_version.py'>,\n",
       " 'dateutil': <module 'dateutil' from '/Users/thomas.steck/Library/Python/3.11/lib/python/site-packages/dateutil/__init__.py'>,\n",
       " '__future__': <module '__future__' from '/opt/homebrew/Cellar/python@3.11/3.11.3/Frameworks/Python.framework/Versions/3.11/lib/python3.11/__future__.py'>,\n",
       " 'calendar': <module 'calendar' from '/opt/homebrew/Cellar/python@3.11/3.11.3/Frameworks/Python.framework/Versions/3.11/lib/python3.11/calendar.py'>,\n",
       " 'six': <module 'six' from '/Users/thomas.steck/Library/Python/3.11/lib/python/site-packages/six.py'>,\n",
       " '_decimal': <module '_decimal' from '/opt/homebrew/Cellar/python@3.11/3.11.3/Frameworks/Python.framework/Versions/3.11/lib/python3.11/lib-dynload/_decimal.cpython-311-darwin.so'>,\n",
       " 'decimal': <module 'decimal' from '/opt/homebrew/Cellar/python@3.11/3.11.3/Frameworks/Python.framework/Versions/3.11/lib/python3.11/decimal.py'>,\n",
       " 'dateutil._common': <module 'dateutil._common' from '/Users/thomas.steck/Library/Python/3.11/lib/python/site-packages/dateutil/_common.py'>,\n",
       " 'dateutil.relativedelta': <module 'dateutil.relativedelta' from '/Users/thomas.steck/Library/Python/3.11/lib/python/site-packages/dateutil/relativedelta.py'>,\n",
       " 'six.moves': <module 'six.moves' (<six._SixMetaPathImporter object at 0x1059b5d50>)>,\n",
       " 'dateutil.tz._common': <module 'dateutil.tz._common' from '/Users/thomas.steck/Library/Python/3.11/lib/python/site-packages/dateutil/tz/_common.py'>,\n",
       " 'dateutil.tz._factories': <module 'dateutil.tz._factories' from '/Users/thomas.steck/Library/Python/3.11/lib/python/site-packages/dateutil/tz/_factories.py'>,\n",
       " 'dateutil.tz.tz': <module 'dateutil.tz.tz' from '/Users/thomas.steck/Library/Python/3.11/lib/python/site-packages/dateutil/tz/tz.py'>,\n",
       " 'dateutil.tz': <module 'dateutil.tz' from '/Users/thomas.steck/Library/Python/3.11/lib/python/site-packages/dateutil/tz/__init__.py'>,\n",
       " 'dateutil.parser._parser': <module 'dateutil.parser._parser' from '/Users/thomas.steck/Library/Python/3.11/lib/python/site-packages/dateutil/parser/_parser.py'>,\n",
       " 'dateutil.parser.isoparser': <module 'dateutil.parser.isoparser' from '/Users/thomas.steck/Library/Python/3.11/lib/python/site-packages/dateutil/parser/isoparser.py'>,\n",
       " 'dateutil.parser': <module 'dateutil.parser' from '/Users/thomas.steck/Library/Python/3.11/lib/python/site-packages/dateutil/parser/__init__.py'>,\n",
       " '_strptime': <module '_strptime' from '/opt/homebrew/Cellar/python@3.11/3.11.3/Frameworks/Python.framework/Versions/3.11/lib/python3.11/_strptime.py'>,\n",
       " 'jupyter_client.jsonutil': <module 'jupyter_client.jsonutil' from '/Users/thomas.steck/Library/Python/3.11/lib/python/site-packages/jupyter_client/jsonutil.py'>,\n",
       " 'jupyter_client.session': <module 'jupyter_client.session' from '/Users/thomas.steck/Library/Python/3.11/lib/python/site-packages/jupyter_client/session.py'>,\n",
       " 'jupyter_client.channels': <module 'jupyter_client.channels' from '/Users/thomas.steck/Library/Python/3.11/lib/python/site-packages/jupyter_client/channels.py'>,\n",
       " 'termios': <module 'termios' from '/opt/homebrew/Cellar/python@3.11/3.11.3/Frameworks/Python.framework/Versions/3.11/lib/python3.11/lib-dynload/termios.cpython-311-darwin.so'>,\n",
       " 'getpass': <module 'getpass' from '/opt/homebrew/Cellar/python@3.11/3.11.3/Frameworks/Python.framework/Versions/3.11/lib/python3.11/getpass.py'>,\n",
       " 'jupyter_client.clientabc': <module 'jupyter_client.clientabc' from '/Users/thomas.steck/Library/Python/3.11/lib/python/site-packages/jupyter_client/clientabc.py'>,\n",
       " 'fnmatch': <module 'fnmatch' from '/opt/homebrew/Cellar/python@3.11/3.11.3/Frameworks/Python.framework/Versions/3.11/lib/python3.11/fnmatch.py'>,\n",
       " 'glob': <module 'glob' from '/opt/homebrew/Cellar/python@3.11/3.11.3/Frameworks/Python.framework/Versions/3.11/lib/python3.11/glob.py'>,\n",
       " '_compression': <module '_compression' from '/opt/homebrew/Cellar/python@3.11/3.11.3/Frameworks/Python.framework/Versions/3.11/lib/python3.11/_compression.py'>,\n",
       " '_bz2': <module '_bz2' from '/opt/homebrew/Cellar/python@3.11/3.11.3/Frameworks/Python.framework/Versions/3.11/lib/python3.11/lib-dynload/_bz2.cpython-311-darwin.so'>,\n",
       " 'bz2': <module 'bz2' from '/opt/homebrew/Cellar/python@3.11/3.11.3/Frameworks/Python.framework/Versions/3.11/lib/python3.11/bz2.py'>,\n",
       " '_lzma': <module '_lzma' from '/opt/homebrew/Cellar/python@3.11/3.11.3/Frameworks/Python.framework/Versions/3.11/lib/python3.11/lib-dynload/_lzma.cpython-311-darwin.so'>,\n",
       " 'lzma': <module 'lzma' from '/opt/homebrew/Cellar/python@3.11/3.11.3/Frameworks/Python.framework/Versions/3.11/lib/python3.11/lzma.py'>,\n",
       " 'shutil': <module 'shutil' from '/opt/homebrew/Cellar/python@3.11/3.11.3/Frameworks/Python.framework/Versions/3.11/lib/python3.11/shutil.py'>,\n",
       " 'tempfile': <module 'tempfile' from '/opt/homebrew/Cellar/python@3.11/3.11.3/Frameworks/Python.framework/Versions/3.11/lib/python3.11/tempfile.py'>,\n",
       " 'jupyter_core.version': <module 'jupyter_core.version' from '/Users/thomas.steck/Library/Python/3.11/lib/python/site-packages/jupyter_core/version.py'>,\n",
       " 'jupyter_core': <module 'jupyter_core' from '/Users/thomas.steck/Library/Python/3.11/lib/python/site-packages/jupyter_core/__init__.py'>,\n",
       " 'ntpath': <module 'ntpath' (frozen)>,\n",
       " 'pathlib': <module 'pathlib' from '/opt/homebrew/Cellar/python@3.11/3.11.3/Frameworks/Python.framework/Versions/3.11/lib/python3.11/pathlib.py'>,\n",
       " 'platformdirs.api': <module 'platformdirs.api' from '/Users/thomas.steck/Library/Python/3.11/lib/python/site-packages/platformdirs/api.py'>,\n",
       " 'platformdirs.version': <module 'platformdirs.version' from '/Users/thomas.steck/Library/Python/3.11/lib/python/site-packages/platformdirs/version.py'>,\n",
       " 'platformdirs.macos': <module 'platformdirs.macos' from '/Users/thomas.steck/Library/Python/3.11/lib/python/site-packages/platformdirs/macos.py'>,\n",
       " 'platformdirs': <module 'platformdirs' from '/Users/thomas.steck/Library/Python/3.11/lib/python/site-packages/platformdirs/__init__.py'>,\n",
       " 'jupyter_core.utils': <module 'jupyter_core.utils' from '/Users/thomas.steck/Library/Python/3.11/lib/python/site-packages/jupyter_core/utils/__init__.py'>,\n",
       " 'jupyter_core.paths': <module 'jupyter_core.paths' from '/Users/thomas.steck/Library/Python/3.11/lib/python/site-packages/jupyter_core/paths.py'>,\n",
       " 'jupyter_client.localinterfaces': <module 'jupyter_client.localinterfaces' from '/Users/thomas.steck/Library/Python/3.11/lib/python/site-packages/jupyter_client/localinterfaces.py'>,\n",
       " 'jupyter_client.utils': <module 'jupyter_client.utils' from '/Users/thomas.steck/Library/Python/3.11/lib/python/site-packages/jupyter_client/utils.py'>,\n",
       " 'jupyter_client.connect': <module 'jupyter_client.connect' from '/Users/thomas.steck/Library/Python/3.11/lib/python/site-packages/jupyter_client/connect.py'>,\n",
       " 'jupyter_client.client': <module 'jupyter_client.client' from '/Users/thomas.steck/Library/Python/3.11/lib/python/site-packages/jupyter_client/client.py'>,\n",
       " 'jupyter_client.asynchronous.client': <module 'jupyter_client.asynchronous.client' from '/Users/thomas.steck/Library/Python/3.11/lib/python/site-packages/jupyter_client/asynchronous/client.py'>,\n",
       " 'jupyter_client.asynchronous': <module 'jupyter_client.asynchronous' from '/Users/thomas.steck/Library/Python/3.11/lib/python/site-packages/jupyter_client/asynchronous/__init__.py'>,\n",
       " 'jupyter_client.blocking.client': <module 'jupyter_client.blocking.client' from '/Users/thomas.steck/Library/Python/3.11/lib/python/site-packages/jupyter_client/blocking/client.py'>,\n",
       " 'jupyter_client.blocking': <module 'jupyter_client.blocking' from '/Users/thomas.steck/Library/Python/3.11/lib/python/site-packages/jupyter_client/blocking/__init__.py'>,\n",
       " 'jupyter_client.launcher': <module 'jupyter_client.launcher' from '/Users/thomas.steck/Library/Python/3.11/lib/python/site-packages/jupyter_client/launcher.py'>,\n",
       " '_uuid': <module '_uuid' from '/opt/homebrew/Cellar/python@3.11/3.11.3/Frameworks/Python.framework/Versions/3.11/lib/python3.11/lib-dynload/_uuid.cpython-311-darwin.so'>,\n",
       " 'uuid': <module 'uuid' from '/opt/homebrew/Cellar/python@3.11/3.11.3/Frameworks/Python.framework/Versions/3.11/lib/python3.11/uuid.py'>,\n",
       " 'jupyter_client.managerabc': <module 'jupyter_client.managerabc' from '/Users/thomas.steck/Library/Python/3.11/lib/python/site-packages/jupyter_client/managerabc.py'>,\n",
       " 'zipfile': <module 'zipfile' from '/opt/homebrew/Cellar/python@3.11/3.11.3/Frameworks/Python.framework/Versions/3.11/lib/python3.11/zipfile.py'>,\n",
       " 'configparser': <module 'configparser' from '/opt/homebrew/Cellar/python@3.11/3.11.3/Frameworks/Python.framework/Versions/3.11/lib/python3.11/configparser.py'>,\n",
       " 'entrypoints': <module 'entrypoints' from '/Users/thomas.steck/Library/Python/3.11/lib/python/site-packages/entrypoints.py'>,\n",
       " 'jupyter_client.provisioning.provisioner_base': <module 'jupyter_client.provisioning.provisioner_base' from '/Users/thomas.steck/Library/Python/3.11/lib/python/site-packages/jupyter_client/provisioning/provisioner_base.py'>,\n",
       " 'jupyter_client.provisioning.factory': <module 'jupyter_client.provisioning.factory' from '/Users/thomas.steck/Library/Python/3.11/lib/python/site-packages/jupyter_client/provisioning/factory.py'>,\n",
       " 'jupyter_client.provisioning.local_provisioner': <module 'jupyter_client.provisioning.local_provisioner' from '/Users/thomas.steck/Library/Python/3.11/lib/python/site-packages/jupyter_client/provisioning/local_provisioner.py'>,\n",
       " 'jupyter_client.provisioning': <module 'jupyter_client.provisioning' from '/Users/thomas.steck/Library/Python/3.11/lib/python/site-packages/jupyter_client/provisioning/__init__.py'>,\n",
       " 'jupyter_client.kernelspec': <module 'jupyter_client.kernelspec' from '/Users/thomas.steck/Library/Python/3.11/lib/python/site-packages/jupyter_client/kernelspec.py'>,\n",
       " 'jupyter_client.manager': <module 'jupyter_client.manager' from '/Users/thomas.steck/Library/Python/3.11/lib/python/site-packages/jupyter_client/manager.py'>,\n",
       " 'jupyter_client.multikernelmanager': <module 'jupyter_client.multikernelmanager' from '/Users/thomas.steck/Library/Python/3.11/lib/python/site-packages/jupyter_client/multikernelmanager.py'>,\n",
       " 'jupyter_client': <module 'jupyter_client' from '/Users/thomas.steck/Library/Python/3.11/lib/python/site-packages/jupyter_client/__init__.py'>,\n",
       " 'ipykernel.connect': <module 'ipykernel.connect' from '/Users/thomas.steck/Library/Python/3.11/lib/python/site-packages/ipykernel/connect.py'>,\n",
       " 'ipykernel': <module 'ipykernel' from '/Users/thomas.steck/Library/Python/3.11/lib/python/site-packages/ipykernel/__init__.py'>,\n",
       " 'IPython.core': <module 'IPython.core' from '/Users/thomas.steck/Library/Python/3.11/lib/python/site-packages/IPython/core/__init__.py'>,\n",
       " 'IPython.core.getipython': <module 'IPython.core.getipython' from '/Users/thomas.steck/Library/Python/3.11/lib/python/site-packages/IPython/core/getipython.py'>,\n",
       " 'IPython.core.release': <module 'IPython.core.release' from '/Users/thomas.steck/Library/Python/3.11/lib/python/site-packages/IPython/core/release.py'>,\n",
       " 'pkgutil': <module 'pkgutil' from '/opt/homebrew/Cellar/python@3.11/3.11.3/Frameworks/Python.framework/Versions/3.11/lib/python3.11/pkgutil.py'>,\n",
       " 'sysconfig': <module 'sysconfig' from '/opt/homebrew/Cellar/python@3.11/3.11.3/Frameworks/Python.framework/Versions/3.11/lib/python3.11/sysconfig.py'>,\n",
       " '_sysconfigdata__darwin_darwin': <module '_sysconfigdata__darwin_darwin' from '/opt/homebrew/Cellar/python@3.11/3.11.3/Frameworks/Python.framework/Versions/3.11/lib/python3.11/_sysconfigdata__darwin_darwin.py'>,\n",
       " '_osx_support': <module '_osx_support' from '/opt/homebrew/Cellar/python@3.11/3.11.3/Frameworks/Python.framework/Versions/3.11/lib/python3.11/_osx_support.py'>,\n",
       " 'pydoc': <module 'pydoc' from '/opt/homebrew/Cellar/python@3.11/3.11.3/Frameworks/Python.framework/Versions/3.11/lib/python3.11/pydoc.py'>,\n",
       " 'executing._exceptions': <module 'executing._exceptions' from '/Users/thomas.steck/Library/Python/3.11/lib/python/site-packages/executing/_exceptions.py'>,\n",
       " 'executing._position_node_finder': <module 'executing._position_node_finder' from '/Users/thomas.steck/Library/Python/3.11/lib/python/site-packages/executing/_position_node_finder.py'>,\n",
       " 'executing.executing': <module 'executing.executing' from '/Users/thomas.steck/Library/Python/3.11/lib/python/site-packages/executing/executing.py'>,\n",
       " 'executing.version': <module 'executing.version' from '/Users/thomas.steck/Library/Python/3.11/lib/python/site-packages/executing/version.py'>,\n",
       " 'executing': <module 'executing' from '/Users/thomas.steck/Library/Python/3.11/lib/python/site-packages/executing/__init__.py'>,\n",
       " 'asttokens.line_numbers': <module 'asttokens.line_numbers' from '/Users/thomas.steck/Library/Python/3.11/lib/python/site-packages/asttokens/line_numbers.py'>,\n",
       " 'asttokens.util': <module 'asttokens.util' from '/Users/thomas.steck/Library/Python/3.11/lib/python/site-packages/asttokens/util.py'>,\n",
       " 'asttokens.asttokens': <module 'asttokens.asttokens' from '/Users/thomas.steck/Library/Python/3.11/lib/python/site-packages/asttokens/asttokens.py'>,\n",
       " 'asttokens': <module 'asttokens' from '/Users/thomas.steck/Library/Python/3.11/lib/python/site-packages/asttokens/__init__.py'>,\n",
       " 'fractions': <module 'fractions' from '/opt/homebrew/Cellar/python@3.11/3.11.3/Frameworks/Python.framework/Versions/3.11/lib/python3.11/fractions.py'>,\n",
       " 'pure_eval.utils': <module 'pure_eval.utils' from '/Users/thomas.steck/Library/Python/3.11/lib/python/site-packages/pure_eval/utils.py'>,\n",
       " 'pure_eval.my_getattr_static': <module 'pure_eval.my_getattr_static' from '/Users/thomas.steck/Library/Python/3.11/lib/python/site-packages/pure_eval/my_getattr_static.py'>,\n",
       " 'pure_eval.core': <module 'pure_eval.core' from '/Users/thomas.steck/Library/Python/3.11/lib/python/site-packages/pure_eval/core.py'>,\n",
       " 'pure_eval.version': <module 'pure_eval.version' from '/Users/thomas.steck/Library/Python/3.11/lib/python/site-packages/pure_eval/version.py'>,\n",
       " 'pure_eval': <module 'pure_eval' from '/Users/thomas.steck/Library/Python/3.11/lib/python/site-packages/pure_eval/__init__.py'>,\n",
       " 'stack_data.utils': <module 'stack_data.utils' from '/Users/thomas.steck/Library/Python/3.11/lib/python/site-packages/stack_data/utils.py'>,\n",
       " 'stack_data.core': <module 'stack_data.core' from '/Users/thomas.steck/Library/Python/3.11/lib/python/site-packages/stack_data/core.py'>,\n",
       " 'stack_data.formatting': <module 'stack_data.formatting' from '/Users/thomas.steck/Library/Python/3.11/lib/python/site-packages/stack_data/formatting.py'>,\n",
       " 'stack_data.serializing': <module 'stack_data.serializing' from '/Users/thomas.steck/Library/Python/3.11/lib/python/site-packages/stack_data/serializing.py'>,\n",
       " 'stack_data.version': <module 'stack_data.version' from '/Users/thomas.steck/Library/Python/3.11/lib/python/site-packages/stack_data/version.py'>,\n",
       " 'stack_data': <module 'stack_data' from '/Users/thomas.steck/Library/Python/3.11/lib/python/site-packages/stack_data/__init__.py'>,\n",
       " 'pygments': <module 'pygments' from '/Users/thomas.steck/Library/Python/3.11/lib/python/site-packages/pygments/__init__.py'>,\n",
       " 'pygments.formatters._mapping': <module 'pygments.formatters._mapping' from '/Users/thomas.steck/Library/Python/3.11/lib/python/site-packages/pygments/formatters/_mapping.py'>,\n",
       " 'pygments.plugin': <module 'pygments.plugin' from '/Users/thomas.steck/Library/Python/3.11/lib/python/site-packages/pygments/plugin.py'>,\n",
       " 'pygments.util': <module 'pygments.util' from '/Users/thomas.steck/Library/Python/3.11/lib/python/site-packages/pygments/util.py'>,\n",
       " 'pygments.formatters': <module 'pygments.formatters' from '/Users/thomas.steck/Library/Python/3.11/lib/python/site-packages/pygments/formatters/__init__.py'>,\n",
       " 'pygments.styles': <module 'pygments.styles' from '/Users/thomas.steck/Library/Python/3.11/lib/python/site-packages/pygments/styles/__init__.py'>,\n",
       " 'pygments.formatter': <module 'pygments.formatter' from '/Users/thomas.steck/Library/Python/3.11/lib/python/site-packages/pygments/formatter.py'>,\n",
       " 'pygments.console': <module 'pygments.console' from '/Users/thomas.steck/Library/Python/3.11/lib/python/site-packages/pygments/console.py'>,\n",
       " 'pygments.token': <module 'pygments.token' from '/Users/thomas.steck/Library/Python/3.11/lib/python/site-packages/pygments/token.py'>,\n",
       " 'pygments.style': <module 'pygments.style' from '/Users/thomas.steck/Library/Python/3.11/lib/python/site-packages/pygments/style.py'>,\n",
       " 'pygments.formatters.terminal256': <module 'pygments.formatters.terminal256' from '/Users/thomas.steck/Library/Python/3.11/lib/python/site-packages/pygments/formatters/terminal256.py'>,\n",
       " 'IPython.utils': <module 'IPython.utils' from '/Users/thomas.steck/Library/Python/3.11/lib/python/site-packages/IPython/utils/__init__.py'>,\n",
       " 'IPython.utils.ipstruct': <module 'IPython.utils.ipstruct' from '/Users/thomas.steck/Library/Python/3.11/lib/python/site-packages/IPython/utils/ipstruct.py'>,\n",
       " 'IPython.utils.coloransi': <module 'IPython.utils.coloransi' from '/Users/thomas.steck/Library/Python/3.11/lib/python/site-packages/IPython/utils/coloransi.py'>,\n",
       " 'IPython.utils.colorable': <module 'IPython.utils.colorable' from '/Users/thomas.steck/Library/Python/3.11/lib/python/site-packages/IPython/utils/colorable.py'>,\n",
       " 'IPython.utils.PyColorize': <module 'IPython.utils.PyColorize' from '/Users/thomas.steck/Library/Python/3.11/lib/python/site-packages/IPython/utils/PyColorize.py'>,\n",
       " 'IPython.utils.encoding': <module 'IPython.utils.encoding' from '/Users/thomas.steck/Library/Python/3.11/lib/python/site-packages/IPython/utils/encoding.py'>,\n",
       " 'IPython.utils.py3compat': <module 'IPython.utils.py3compat' from '/Users/thomas.steck/Library/Python/3.11/lib/python/site-packages/IPython/utils/py3compat.py'>,\n",
       " 'IPython.core.excolors': <module 'IPython.core.excolors' from '/Users/thomas.steck/Library/Python/3.11/lib/python/site-packages/IPython/core/excolors.py'>,\n",
       " 'cmd': <module 'cmd' from '/opt/homebrew/Cellar/python@3.11/3.11.3/Frameworks/Python.framework/Versions/3.11/lib/python3.11/cmd.py'>,\n",
       " 'bdb': <module 'bdb' from '/opt/homebrew/Cellar/python@3.11/3.11.3/Frameworks/Python.framework/Versions/3.11/lib/python3.11/bdb.py'>,\n",
       " 'codeop': <module 'codeop' from '/opt/homebrew/Cellar/python@3.11/3.11.3/Frameworks/Python.framework/Versions/3.11/lib/python3.11/codeop.py'>,\n",
       " 'code': <module 'code' from '/opt/homebrew/Cellar/python@3.11/3.11.3/Frameworks/Python.framework/Versions/3.11/lib/python3.11/code.py'>,\n",
       " 'pdb': <module 'pdb' from '/opt/homebrew/Cellar/python@3.11/3.11.3/Frameworks/Python.framework/Versions/3.11/lib/python3.11/pdb.py'>,\n",
       " 'IPython.core.debugger': <module 'IPython.core.debugger' from '/Users/thomas.steck/Library/Python/3.11/lib/python/site-packages/IPython/core/debugger.py'>,\n",
       " 'IPython.core.display_trap': <module 'IPython.core.display_trap' from '/Users/thomas.steck/Library/Python/3.11/lib/python/site-packages/IPython/core/display_trap.py'>,\n",
       " 'pexpect.exceptions': <module 'pexpect.exceptions' from '/Users/thomas.steck/Library/Python/3.11/lib/python/site-packages/pexpect/exceptions.py'>,\n",
       " 'pexpect.utils': <module 'pexpect.utils' from '/Users/thomas.steck/Library/Python/3.11/lib/python/site-packages/pexpect/utils.py'>,\n",
       " 'pexpect.expect': <module 'pexpect.expect' from '/Users/thomas.steck/Library/Python/3.11/lib/python/site-packages/pexpect/expect.py'>,\n",
       " 'tty': <module 'tty' from '/opt/homebrew/Cellar/python@3.11/3.11.3/Frameworks/Python.framework/Versions/3.11/lib/python3.11/tty.py'>,\n",
       " 'pty': <module 'pty' from '/opt/homebrew/Cellar/python@3.11/3.11.3/Frameworks/Python.framework/Versions/3.11/lib/python3.11/pty.py'>,\n",
       " 'resource': <module 'resource' from '/opt/homebrew/Cellar/python@3.11/3.11.3/Frameworks/Python.framework/Versions/3.11/lib/python3.11/lib-dynload/resource.cpython-311-darwin.so'>,\n",
       " 'ptyprocess.util': <module 'ptyprocess.util' from '/Users/thomas.steck/Library/Python/3.11/lib/python/site-packages/ptyprocess/util.py'>,\n",
       " 'ptyprocess.ptyprocess': <module 'ptyprocess.ptyprocess' from '/Users/thomas.steck/Library/Python/3.11/lib/python/site-packages/ptyprocess/ptyprocess.py'>,\n",
       " 'ptyprocess': <module 'ptyprocess' from '/Users/thomas.steck/Library/Python/3.11/lib/python/site-packages/ptyprocess/__init__.py'>,\n",
       " 'pexpect.spawnbase': <module 'pexpect.spawnbase' from '/Users/thomas.steck/Library/Python/3.11/lib/python/site-packages/pexpect/spawnbase.py'>,\n",
       " 'pexpect.pty_spawn': <module 'pexpect.pty_spawn' from '/Users/thomas.steck/Library/Python/3.11/lib/python/site-packages/pexpect/pty_spawn.py'>,\n",
       " 'pexpect.run': <module 'pexpect.run' from '/Users/thomas.steck/Library/Python/3.11/lib/python/site-packages/pexpect/run.py'>,\n",
       " 'pexpect': <module 'pexpect' from '/Users/thomas.steck/Library/Python/3.11/lib/python/site-packages/pexpect/__init__.py'>,\n",
       " 'shlex': <module 'shlex' from '/opt/homebrew/Cellar/python@3.11/3.11.3/Frameworks/Python.framework/Versions/3.11/lib/python3.11/shlex.py'>,\n",
       " 'IPython.utils._process_common': <module 'IPython.utils._process_common' from '/Users/thomas.steck/Library/Python/3.11/lib/python/site-packages/IPython/utils/_process_common.py'>,\n",
       " 'IPython.utils._process_posix': <module 'IPython.utils._process_posix' from '/Users/thomas.steck/Library/Python/3.11/lib/python/site-packages/IPython/utils/_process_posix.py'>,\n",
       " 'IPython.utils.process': <module 'IPython.utils.process' from '/Users/thomas.steck/Library/Python/3.11/lib/python/site-packages/IPython/utils/process.py'>,\n",
       " 'IPython.utils.path': <module 'IPython.utils.path' from '/Users/thomas.steck/Library/Python/3.11/lib/python/site-packages/IPython/utils/path.py'>,\n",
       " 'IPython.utils.terminal': <module 'IPython.utils.terminal' from '/Users/thomas.steck/Library/Python/3.11/lib/python/site-packages/IPython/utils/terminal.py'>,\n",
       " 'IPython.core.ultratb': <module 'IPython.core.ultratb' from '/Users/thomas.steck/Library/Python/3.11/lib/python/site-packages/IPython/core/ultratb.py'>,\n",
       " 'IPython.utils._sysinfo': <module 'IPython.utils._sysinfo' from '/Users/thomas.steck/Library/Python/3.11/lib/python/site-packages/IPython/utils/_sysinfo.py'>,\n",
       " 'IPython.utils.sysinfo': <module 'IPython.utils.sysinfo' from '/Users/thomas.steck/Library/Python/3.11/lib/python/site-packages/IPython/utils/sysinfo.py'>,\n",
       " 'IPython.core.crashhandler': <module 'IPython.core.crashhandler' from '/Users/thomas.steck/Library/Python/3.11/lib/python/site-packages/IPython/core/crashhandler.py'>,\n",
       " 'IPython.utils.importstring': <module 'IPython.utils.importstring' from '/Users/thomas.steck/Library/Python/3.11/lib/python/site-packages/IPython/utils/importstring.py'>,\n",
       " 'IPython.paths': <module 'IPython.paths' from '/Users/thomas.steck/Library/Python/3.11/lib/python/site-packages/IPython/paths.py'>,\n",
       " 'IPython.core.profiledir': <module 'IPython.core.profiledir' from '/Users/thomas.steck/Library/Python/3.11/lib/python/site-packages/IPython/core/profiledir.py'>,\n",
       " 'IPython.core.application': <module 'IPython.core.application' from '/Users/thomas.steck/Library/Python/3.11/lib/python/site-packages/IPython/core/application.py'>,\n",
       " 'IPython.terminal': <module 'IPython.terminal' from '/Users/thomas.steck/Library/Python/3.11/lib/python/site-packages/IPython/terminal/__init__.py'>,\n",
       " 'IPython.core.compilerop': <module 'IPython.core.compilerop' from '/Users/thomas.steck/Library/Python/3.11/lib/python/site-packages/IPython/core/compilerop.py'>,\n",
       " 'IPython.core.error': <module 'IPython.core.error' from '/Users/thomas.steck/Library/Python/3.11/lib/python/site-packages/IPython/core/error.py'>,\n",
       " 'IPython.utils.docs': <module 'IPython.utils.docs' from '/Users/thomas.steck/Library/Python/3.11/lib/python/site-packages/IPython/utils/docs.py'>,\n",
       " 'IPython.utils.decorators': <module 'IPython.utils.decorators' from '/Users/thomas.steck/Library/Python/3.11/lib/python/site-packages/IPython/utils/decorators.py'>,\n",
       " 'IPython.utils.text': <module 'IPython.utils.text' from '/Users/thomas.steck/Library/Python/3.11/lib/python/site-packages/IPython/utils/text.py'>,\n",
       " 'IPython.core.magic_arguments': <module 'IPython.core.magic_arguments' from '/Users/thomas.steck/Library/Python/3.11/lib/python/site-packages/IPython/core/magic_arguments.py'>,\n",
       " 'getopt': <module 'getopt' from '/opt/homebrew/Cellar/python@3.11/3.11.3/Frameworks/Python.framework/Versions/3.11/lib/python3.11/getopt.py'>,\n",
       " 'IPython.core.display_functions': <module 'IPython.core.display_functions' from '/Users/thomas.steck/Library/Python/3.11/lib/python/site-packages/IPython/core/display_functions.py'>,\n",
       " 'mimetypes': <module 'mimetypes' from '/opt/homebrew/Cellar/python@3.11/3.11.3/Frameworks/Python.framework/Versions/3.11/lib/python3.11/mimetypes.py'>,\n",
       " 'IPython.testing': <module 'IPython.testing' from '/Users/thomas.steck/Library/Python/3.11/lib/python/site-packages/IPython/testing/__init__.py'>,\n",
       " 'IPython.testing.skipdoctest': <module 'IPython.testing.skipdoctest' from '/Users/thomas.steck/Library/Python/3.11/lib/python/site-packages/IPython/testing/skipdoctest.py'>,\n",
       " 'IPython.core.display': <module 'IPython.core.display' from '/Users/thomas.steck/Library/Python/3.11/lib/python/site-packages/IPython/core/display.py'>,\n",
       " 'IPython.lib': <module 'IPython.lib' from '/Users/thomas.steck/Library/Python/3.11/lib/python/site-packages/IPython/lib/__init__.py'>,\n",
       " 'IPython.lib.display': <module 'IPython.lib.display' from '/Users/thomas.steck/Library/Python/3.11/lib/python/site-packages/IPython/lib/display.py'>,\n",
       " 'IPython.display': <module 'IPython.display' from '/Users/thomas.steck/Library/Python/3.11/lib/python/site-packages/IPython/display.py'>,\n",
       " 'IPython.utils.data': <module 'IPython.utils.data' from '/Users/thomas.steck/Library/Python/3.11/lib/python/site-packages/IPython/utils/data.py'>,\n",
       " 'IPython.core.page': <module 'IPython.core.page' from '/Users/thomas.steck/Library/Python/3.11/lib/python/site-packages/IPython/core/page.py'>,\n",
       " 'IPython.lib.pretty': <module 'IPython.lib.pretty' from '/Users/thomas.steck/Library/Python/3.11/lib/python/site-packages/IPython/lib/pretty.py'>,\n",
       " 'IPython.utils.openpy': <module 'IPython.utils.openpy' from '/Users/thomas.steck/Library/Python/3.11/lib/python/site-packages/IPython/utils/openpy.py'>,\n",
       " 'IPython.utils.dir2': <module 'IPython.utils.dir2' from '/Users/thomas.steck/Library/Python/3.11/lib/python/site-packages/IPython/utils/dir2.py'>,\n",
       " 'IPython.utils.wildcard': <module 'IPython.utils.wildcard' from '/Users/thomas.steck/Library/Python/3.11/lib/python/site-packages/IPython/utils/wildcard.py'>,\n",
       " 'pygments.lexers._mapping': <module 'pygments.lexers._mapping' from '/Users/thomas.steck/Library/Python/3.11/lib/python/site-packages/pygments/lexers/_mapping.py'>,\n",
       " 'pygments.modeline': <module 'pygments.modeline' from '/Users/thomas.steck/Library/Python/3.11/lib/python/site-packages/pygments/modeline.py'>,\n",
       " 'pygments.lexers': <module 'pygments.lexers' from '/Users/thomas.steck/Library/Python/3.11/lib/python/site-packages/pygments/lexers/__init__.py'>,\n",
       " 'pygments.filter': <module 'pygments.filter' from '/Users/thomas.steck/Library/Python/3.11/lib/python/site-packages/pygments/filter.py'>,\n",
       " 'pygments.filters': <module 'pygments.filters' from '/Users/thomas.steck/Library/Python/3.11/lib/python/site-packages/pygments/filters/__init__.py'>,\n",
       " 'pygments.regexopt': <module 'pygments.regexopt' from '/Users/thomas.steck/Library/Python/3.11/lib/python/site-packages/pygments/regexopt.py'>,\n",
       " 'pygments.lexer': <module 'pygments.lexer' from '/Users/thomas.steck/Library/Python/3.11/lib/python/site-packages/pygments/lexer.py'>,\n",
       " 'pygments.unistring': <module 'pygments.unistring' from '/Users/thomas.steck/Library/Python/3.11/lib/python/site-packages/pygments/unistring.py'>,\n",
       " 'pygments.lexers.python': <module 'pygments.lexers.python' from '/Users/thomas.steck/Library/Python/3.11/lib/python/site-packages/pygments/lexers/python.py'>,\n",
       " 'pygments.formatters.html': <module 'pygments.formatters.html' from '/Users/thomas.steck/Library/Python/3.11/lib/python/site-packages/pygments/formatters/html.py'>,\n",
       " 'IPython.core.oinspect': <module 'IPython.core.oinspect' from '/Users/thomas.steck/Library/Python/3.11/lib/python/site-packages/IPython/core/oinspect.py'>,\n",
       " 'IPython.core.inputtransformer2': <module 'IPython.core.inputtransformer2' from '/Users/thomas.steck/Library/Python/3.11/lib/python/site-packages/IPython/core/inputtransformer2.py'>,\n",
       " 'IPython.core.magic': <module 'IPython.core.magic' from '/Users/thomas.steck/Library/Python/3.11/lib/python/site-packages/IPython/core/magic.py'>,\n",
       " 'pickleshare': <module 'pickleshare' from '/Users/thomas.steck/Library/Python/3.11/lib/python/site-packages/pickleshare.py'>,\n",
       " 'IPython.core.hooks': <module 'IPython.core.hooks' from '/Users/thomas.steck/Library/Python/3.11/lib/python/site-packages/IPython/core/hooks.py'>,\n",
       " 'IPython.core.autocall': <module 'IPython.core.autocall' from '/Users/thomas.steck/Library/Python/3.11/lib/python/site-packages/IPython/core/autocall.py'>,\n",
       " 'IPython.core.macro': <module 'IPython.core.macro' from '/Users/thomas.steck/Library/Python/3.11/lib/python/site-packages/IPython/core/macro.py'>,\n",
       " 'IPython.core.splitinput': <module 'IPython.core.splitinput' from '/Users/thomas.steck/Library/Python/3.11/lib/python/site-packages/IPython/core/splitinput.py'>,\n",
       " 'IPython.core.prefilter': <module 'IPython.core.prefilter' from '/Users/thomas.steck/Library/Python/3.11/lib/python/site-packages/IPython/core/prefilter.py'>,\n",
       " 'IPython.core.alias': <module 'IPython.core.alias' from '/Users/thomas.steck/Library/Python/3.11/lib/python/site-packages/IPython/core/alias.py'>,\n",
       " 'IPython.core.builtin_trap': <module 'IPython.core.builtin_trap' from '/Users/thomas.steck/Library/Python/3.11/lib/python/site-packages/IPython/core/builtin_trap.py'>,\n",
       " 'IPython.core.displayhook': <module 'IPython.core.displayhook' from '/Users/thomas.steck/Library/Python/3.11/lib/python/site-packages/IPython/core/displayhook.py'>,\n",
       " 'IPython.core.displaypub': <module 'IPython.core.displaypub' from '/Users/thomas.steck/Library/Python/3.11/lib/python/site-packages/IPython/core/displaypub.py'>,\n",
       " 'backcall.backcall': <module 'backcall.backcall' from '/Users/thomas.steck/Library/Python/3.11/lib/python/site-packages/backcall/backcall.py'>,\n",
       " 'backcall': <module 'backcall' from '/Users/thomas.steck/Library/Python/3.11/lib/python/site-packages/backcall/__init__.py'>,\n",
       " 'IPython.core.events': <module 'IPython.core.events' from '/Users/thomas.steck/Library/Python/3.11/lib/python/site-packages/IPython/core/events.py'>,\n",
       " 'IPython.core.extensions': <module 'IPython.core.extensions' from '/Users/thomas.steck/Library/Python/3.11/lib/python/site-packages/IPython/core/extensions.py'>,\n",
       " 'decorator': <module 'decorator' from '/Users/thomas.steck/Library/Python/3.11/lib/python/site-packages/decorator.py'>,\n",
       " 'IPython.utils.sentinel': <module 'IPython.utils.sentinel' from '/Users/thomas.steck/Library/Python/3.11/lib/python/site-packages/IPython/utils/sentinel.py'>,\n",
       " 'IPython.core.formatters': <module 'IPython.core.formatters' from '/Users/thomas.steck/Library/Python/3.11/lib/python/site-packages/IPython/core/formatters.py'>,\n",
       " '_sqlite3': <module '_sqlite3' from '/opt/homebrew/Cellar/python@3.11/3.11.3/Frameworks/Python.framework/Versions/3.11/lib/python3.11/lib-dynload/_sqlite3.cpython-311-darwin.so'>,\n",
       " 'sqlite3.dbapi2': <module 'sqlite3.dbapi2' from '/opt/homebrew/Cellar/python@3.11/3.11.3/Frameworks/Python.framework/Versions/3.11/lib/python3.11/sqlite3/dbapi2.py'>,\n",
       " 'sqlite3': <module 'sqlite3' from '/opt/homebrew/Cellar/python@3.11/3.11.3/Frameworks/Python.framework/Versions/3.11/lib/python3.11/sqlite3/__init__.py'>,\n",
       " 'IPython.core.history': <module 'IPython.core.history' from '/Users/thomas.steck/Library/Python/3.11/lib/python/site-packages/IPython/core/history.py'>,\n",
       " 'IPython.core.logger': <module 'IPython.core.logger' from '/Users/thomas.steck/Library/Python/3.11/lib/python/site-packages/IPython/core/logger.py'>,\n",
       " 'IPython.core.payload': <module 'IPython.core.payload' from '/Users/thomas.steck/Library/Python/3.11/lib/python/site-packages/IPython/core/payload.py'>,\n",
       " 'IPython.core.usage': <module 'IPython.core.usage' from '/Users/thomas.steck/Library/Python/3.11/lib/python/site-packages/IPython/core/usage.py'>,\n",
       " 'IPython.utils.capture': <module 'IPython.utils.capture' from '/Users/thomas.steck/Library/Python/3.11/lib/python/site-packages/IPython/utils/capture.py'>,\n",
       " 'IPython.utils.io': <module 'IPython.utils.io' from '/Users/thomas.steck/Library/Python/3.11/lib/python/site-packages/IPython/utils/io.py'>,\n",
       " 'IPython.utils.strdispatch': <module 'IPython.utils.strdispatch' from '/Users/thomas.steck/Library/Python/3.11/lib/python/site-packages/IPython/utils/strdispatch.py'>,\n",
       " 'IPython.utils.syspathcontext': <module 'IPython.utils.syspathcontext' from '/Users/thomas.steck/Library/Python/3.11/lib/python/site-packages/IPython/utils/syspathcontext.py'>,\n",
       " 'IPython.core.async_helpers': <module 'IPython.core.async_helpers' from '/Users/thomas.steck/Library/Python/3.11/lib/python/site-packages/IPython/core/async_helpers.py'>,\n",
       " 'IPython.core.interactiveshell': <module 'IPython.core.interactiveshell' from '/Users/thomas.steck/Library/Python/3.11/lib/python/site-packages/IPython/core/interactiveshell.py'>,\n",
       " 'prompt_toolkit.application.current': <module 'prompt_toolkit.application.current' from '/Users/thomas.steck/Library/Python/3.11/lib/python/site-packages/prompt_toolkit/application/current.py'>,\n",
       " 'prompt_toolkit.eventloop.async_context_manager': <module 'prompt_toolkit.eventloop.async_context_manager' from '/Users/thomas.steck/Library/Python/3.11/lib/python/site-packages/prompt_toolkit/eventloop/async_context_manager.py'>,\n",
       " 'prompt_toolkit.eventloop.utils': <module 'prompt_toolkit.eventloop.utils' from '/Users/thomas.steck/Library/Python/3.11/lib/python/site-packages/prompt_toolkit/eventloop/utils.py'>,\n",
       " 'prompt_toolkit.eventloop.async_generator': <module 'prompt_toolkit.eventloop.async_generator' from '/Users/thomas.steck/Library/Python/3.11/lib/python/site-packages/prompt_toolkit/eventloop/async_generator.py'>,\n",
       " 'prompt_toolkit.eventloop.inputhook': <module 'prompt_toolkit.eventloop.inputhook' from '/Users/thomas.steck/Library/Python/3.11/lib/python/site-packages/prompt_toolkit/eventloop/inputhook.py'>,\n",
       " 'prompt_toolkit.eventloop': <module 'prompt_toolkit.eventloop' from '/Users/thomas.steck/Library/Python/3.11/lib/python/site-packages/prompt_toolkit/eventloop/__init__.py'>,\n",
       " 'prompt_toolkit.application.run_in_terminal': <module 'prompt_toolkit.application.run_in_terminal' from '/Users/thomas.steck/Library/Python/3.11/lib/python/site-packages/prompt_toolkit/application/run_in_terminal.py'>,\n",
       " 'prompt_toolkit.selection': <module 'prompt_toolkit.selection' from '/Users/thomas.steck/Library/Python/3.11/lib/python/site-packages/prompt_toolkit/selection.py'>,\n",
       " 'prompt_toolkit.clipboard.base': <module 'prompt_toolkit.clipboard.base' from '/Users/thomas.steck/Library/Python/3.11/lib/python/site-packages/prompt_toolkit/clipboard/base.py'>,\n",
       " 'prompt_toolkit.clipboard.in_memory': <module 'prompt_toolkit.clipboard.in_memory' from '/Users/thomas.steck/Library/Python/3.11/lib/python/site-packages/prompt_toolkit/clipboard/in_memory.py'>,\n",
       " 'prompt_toolkit.clipboard': <module 'prompt_toolkit.clipboard' from '/Users/thomas.steck/Library/Python/3.11/lib/python/site-packages/prompt_toolkit/clipboard/__init__.py'>,\n",
       " 'prompt_toolkit.cache': <module 'prompt_toolkit.cache' from '/Users/thomas.steck/Library/Python/3.11/lib/python/site-packages/prompt_toolkit/cache.py'>,\n",
       " 'prompt_toolkit.enums': <module 'prompt_toolkit.enums' from '/Users/thomas.steck/Library/Python/3.11/lib/python/site-packages/prompt_toolkit/enums.py'>,\n",
       " 'prompt_toolkit.filters.base': <module 'prompt_toolkit.filters.base' from '/Users/thomas.steck/Library/Python/3.11/lib/python/site-packages/prompt_toolkit/filters/base.py'>,\n",
       " 'prompt_toolkit.filters.app': <module 'prompt_toolkit.filters.app' from '/Users/thomas.steck/Library/Python/3.11/lib/python/site-packages/prompt_toolkit/filters/app.py'>,\n",
       " 'prompt_toolkit.filters.cli': <module 'prompt_toolkit.filters.cli' from '/Users/thomas.steck/Library/Python/3.11/lib/python/site-packages/prompt_toolkit/filters/cli.py'>,\n",
       " 'prompt_toolkit.filters.utils': <module 'prompt_toolkit.filters.utils' from '/Users/thomas.steck/Library/Python/3.11/lib/python/site-packages/prompt_toolkit/filters/utils.py'>,\n",
       " 'prompt_toolkit.filters': <module 'prompt_toolkit.filters' from '/Users/thomas.steck/Library/Python/3.11/lib/python/site-packages/prompt_toolkit/filters/__init__.py'>,\n",
       " 'prompt_toolkit.document': <module 'prompt_toolkit.document' from '/Users/thomas.steck/Library/Python/3.11/lib/python/site-packages/prompt_toolkit/document.py'>,\n",
       " 'prompt_toolkit.auto_suggest': <module 'prompt_toolkit.auto_suggest' from '/Users/thomas.steck/Library/Python/3.11/lib/python/site-packages/prompt_toolkit/auto_suggest.py'>,\n",
       " 'prompt_toolkit.keys': <module 'prompt_toolkit.keys' from '/Users/thomas.steck/Library/Python/3.11/lib/python/site-packages/prompt_toolkit/keys.py'>,\n",
       " 'prompt_toolkit.key_binding.key_bindings': <module 'prompt_toolkit.key_binding.key_bindings' from '/Users/thomas.steck/Library/Python/3.11/lib/python/site-packages/prompt_toolkit/key_binding/key_bindings.py'>,\n",
       " 'wcwidth.table_wide': <module 'wcwidth.table_wide' from '/Users/thomas.steck/Library/Python/3.11/lib/python/site-packages/wcwidth/table_wide.py'>,\n",
       " 'wcwidth.table_zero': <module 'wcwidth.table_zero' from '/Users/thomas.steck/Library/Python/3.11/lib/python/site-packages/wcwidth/table_zero.py'>,\n",
       " 'wcwidth.unicode_versions': <module 'wcwidth.unicode_versions' from '/Users/thomas.steck/Library/Python/3.11/lib/python/site-packages/wcwidth/unicode_versions.py'>,\n",
       " 'wcwidth.wcwidth': <module 'wcwidth.wcwidth' from '/Users/thomas.steck/Library/Python/3.11/lib/python/site-packages/wcwidth/wcwidth.py'>,\n",
       " 'wcwidth': <module 'wcwidth' from '/Users/thomas.steck/Library/Python/3.11/lib/python/site-packages/wcwidth/__init__.py'>,\n",
       " 'prompt_toolkit.utils': <module 'prompt_toolkit.utils' from '/Users/thomas.steck/Library/Python/3.11/lib/python/site-packages/prompt_toolkit/utils.py'>,\n",
       " 'prompt_toolkit.key_binding.key_processor': <module 'prompt_toolkit.key_binding.key_processor' from '/Users/thomas.steck/Library/Python/3.11/lib/python/site-packages/prompt_toolkit/key_binding/key_processor.py'>,\n",
       " 'prompt_toolkit.key_binding': <module 'prompt_toolkit.key_binding' from '/Users/thomas.steck/Library/Python/3.11/lib/python/site-packages/prompt_toolkit/key_binding/__init__.py'>,\n",
       " 'prompt_toolkit.key_binding.vi_state': <module 'prompt_toolkit.key_binding.vi_state' from '/Users/thomas.steck/Library/Python/3.11/lib/python/site-packages/prompt_toolkit/key_binding/vi_state.py'>,\n",
       " 'prompt_toolkit.cursor_shapes': <module 'prompt_toolkit.cursor_shapes' from '/Users/thomas.steck/Library/Python/3.11/lib/python/site-packages/prompt_toolkit/cursor_shapes.py'>,\n",
       " 'prompt_toolkit.data_structures': <module 'prompt_toolkit.data_structures' from '/Users/thomas.steck/Library/Python/3.11/lib/python/site-packages/prompt_toolkit/data_structures.py'>,\n",
       " 'prompt_toolkit.styles.base': <module 'prompt_toolkit.styles.base' from '/Users/thomas.steck/Library/Python/3.11/lib/python/site-packages/prompt_toolkit/styles/base.py'>,\n",
       " 'prompt_toolkit.styles.named_colors': <module 'prompt_toolkit.styles.named_colors' from '/Users/thomas.steck/Library/Python/3.11/lib/python/site-packages/prompt_toolkit/styles/named_colors.py'>,\n",
       " 'prompt_toolkit.styles.style': <module 'prompt_toolkit.styles.style' from '/Users/thomas.steck/Library/Python/3.11/lib/python/site-packages/prompt_toolkit/styles/style.py'>,\n",
       " 'prompt_toolkit.styles.defaults': <module 'prompt_toolkit.styles.defaults' from '/Users/thomas.steck/Library/Python/3.11/lib/python/site-packages/prompt_toolkit/styles/defaults.py'>,\n",
       " 'prompt_toolkit.styles.pygments': <module 'prompt_toolkit.styles.pygments' from '/Users/thomas.steck/Library/Python/3.11/lib/python/site-packages/prompt_toolkit/styles/pygments.py'>,\n",
       " 'colorsys': <module 'colorsys' from '/opt/homebrew/Cellar/python@3.11/3.11.3/Frameworks/Python.framework/Versions/3.11/lib/python3.11/colorsys.py'>,\n",
       " 'prompt_toolkit.styles.style_transformation': <module 'prompt_toolkit.styles.style_transformation' from '/Users/thomas.steck/Library/Python/3.11/lib/python/site-packages/prompt_toolkit/styles/style_transformation.py'>,\n",
       " 'prompt_toolkit.styles': <module 'prompt_toolkit.styles' from '/Users/thomas.steck/Library/Python/3.11/lib/python/site-packages/prompt_toolkit/styles/__init__.py'>,\n",
       " 'prompt_toolkit.output.color_depth': <module 'prompt_toolkit.output.color_depth' from '/Users/thomas.steck/Library/Python/3.11/lib/python/site-packages/prompt_toolkit/output/color_depth.py'>,\n",
       " 'prompt_toolkit.output.base': <module 'prompt_toolkit.output.base' from '/Users/thomas.steck/Library/Python/3.11/lib/python/site-packages/prompt_toolkit/output/base.py'>,\n",
       " 'prompt_toolkit.output.flush_stdout': <module 'prompt_toolkit.output.flush_stdout' from '/Users/thomas.steck/Library/Python/3.11/lib/python/site-packages/prompt_toolkit/output/flush_stdout.py'>,\n",
       " 'prompt_toolkit.output.plain_text': <module 'prompt_toolkit.output.plain_text' from '/Users/thomas.steck/Library/Python/3.11/lib/python/site-packages/prompt_toolkit/output/plain_text.py'>,\n",
       " 'prompt_toolkit.output.defaults': <module 'prompt_toolkit.output.defaults' from '/Users/thomas.steck/Library/Python/3.11/lib/python/site-packages/prompt_toolkit/output/defaults.py'>,\n",
       " 'prompt_toolkit.output': <module 'prompt_toolkit.output' from '/Users/thomas.steck/Library/Python/3.11/lib/python/site-packages/prompt_toolkit/output/__init__.py'>,\n",
       " 'prompt_toolkit.output.vt100': <module 'prompt_toolkit.output.vt100' from '/Users/thomas.steck/Library/Python/3.11/lib/python/site-packages/prompt_toolkit/output/vt100.py'>,\n",
       " 'prompt_toolkit.mouse_events': <module 'prompt_toolkit.mouse_events' from '/Users/thomas.steck/Library/Python/3.11/lib/python/site-packages/prompt_toolkit/mouse_events.py'>,\n",
       " 'prompt_toolkit.formatted_text.base': <module 'prompt_toolkit.formatted_text.base' from '/Users/thomas.steck/Library/Python/3.11/lib/python/site-packages/prompt_toolkit/formatted_text/base.py'>,\n",
       " 'prompt_toolkit.formatted_text.ansi': <module 'prompt_toolkit.formatted_text.ansi' from '/Users/thomas.steck/Library/Python/3.11/lib/python/site-packages/prompt_toolkit/formatted_text/ansi.py'>,\n",
       " 'xml': <module 'xml' from '/opt/homebrew/Cellar/python@3.11/3.11.3/Frameworks/Python.framework/Versions/3.11/lib/python3.11/xml/__init__.py'>,\n",
       " 'xml.dom.domreg': <module 'xml.dom.domreg' from '/opt/homebrew/Cellar/python@3.11/3.11.3/Frameworks/Python.framework/Versions/3.11/lib/python3.11/xml/dom/domreg.py'>,\n",
       " 'xml.dom': <module 'xml.dom' from '/opt/homebrew/Cellar/python@3.11/3.11.3/Frameworks/Python.framework/Versions/3.11/lib/python3.11/xml/dom/__init__.py'>,\n",
       " 'xml.dom.minicompat': <module 'xml.dom.minicompat' from '/opt/homebrew/Cellar/python@3.11/3.11.3/Frameworks/Python.framework/Versions/3.11/lib/python3.11/xml/dom/minicompat.py'>,\n",
       " 'xml.dom.NodeFilter': <module 'xml.dom.NodeFilter' from '/opt/homebrew/Cellar/python@3.11/3.11.3/Frameworks/Python.framework/Versions/3.11/lib/python3.11/xml/dom/NodeFilter.py'>,\n",
       " 'xml.dom.xmlbuilder': <module 'xml.dom.xmlbuilder' from '/opt/homebrew/Cellar/python@3.11/3.11.3/Frameworks/Python.framework/Versions/3.11/lib/python3.11/xml/dom/xmlbuilder.py'>,\n",
       " 'xml.dom.minidom': <module 'xml.dom.minidom' from '/opt/homebrew/Cellar/python@3.11/3.11.3/Frameworks/Python.framework/Versions/3.11/lib/python3.11/xml/dom/minidom.py'>,\n",
       " 'prompt_toolkit.formatted_text.html': <module 'prompt_toolkit.formatted_text.html' from '/Users/thomas.steck/Library/Python/3.11/lib/python/site-packages/prompt_toolkit/formatted_text/html.py'>,\n",
       " 'prompt_toolkit.formatted_text.pygments': <module 'prompt_toolkit.formatted_text.pygments' from '/Users/thomas.steck/Library/Python/3.11/lib/python/site-packages/prompt_toolkit/formatted_text/pygments.py'>,\n",
       " 'prompt_toolkit.formatted_text.utils': <module 'prompt_toolkit.formatted_text.utils' from '/Users/thomas.steck/Library/Python/3.11/lib/python/site-packages/prompt_toolkit/formatted_text/utils.py'>,\n",
       " 'prompt_toolkit.formatted_text': <module 'prompt_toolkit.formatted_text' from '/Users/thomas.steck/Library/Python/3.11/lib/python/site-packages/prompt_toolkit/formatted_text/__init__.py'>,\n",
       " 'prompt_toolkit.completion.base': <module 'prompt_toolkit.completion.base' from '/Users/thomas.steck/Library/Python/3.11/lib/python/site-packages/prompt_toolkit/completion/base.py'>,\n",
       " 'prompt_toolkit.completion.deduplicate': <module 'prompt_toolkit.completion.deduplicate' from '/Users/thomas.steck/Library/Python/3.11/lib/python/site-packages/prompt_toolkit/completion/deduplicate.py'>,\n",
       " 'prompt_toolkit.completion.filesystem': <module 'prompt_toolkit.completion.filesystem' from '/Users/thomas.steck/Library/Python/3.11/lib/python/site-packages/prompt_toolkit/completion/filesystem.py'>,\n",
       " 'prompt_toolkit.completion.word_completer': <module 'prompt_toolkit.completion.word_completer' from '/Users/thomas.steck/Library/Python/3.11/lib/python/site-packages/prompt_toolkit/completion/word_completer.py'>,\n",
       " 'prompt_toolkit.completion.fuzzy_completer': <module 'prompt_toolkit.completion.fuzzy_completer' from '/Users/thomas.steck/Library/Python/3.11/lib/python/site-packages/prompt_toolkit/completion/fuzzy_completer.py'>,\n",
       " 'prompt_toolkit.completion.nested': <module 'prompt_toolkit.completion.nested' from '/Users/thomas.steck/Library/Python/3.11/lib/python/site-packages/prompt_toolkit/completion/nested.py'>,\n",
       " 'prompt_toolkit.completion': <module 'prompt_toolkit.completion' from '/Users/thomas.steck/Library/Python/3.11/lib/python/site-packages/prompt_toolkit/completion/__init__.py'>,\n",
       " 'prompt_toolkit.history': <module 'prompt_toolkit.history' from '/Users/thomas.steck/Library/Python/3.11/lib/python/site-packages/prompt_toolkit/history.py'>,\n",
       " 'prompt_toolkit.search': <module 'prompt_toolkit.search' from '/Users/thomas.steck/Library/Python/3.11/lib/python/site-packages/prompt_toolkit/search.py'>,\n",
       " 'prompt_toolkit.validation': <module 'prompt_toolkit.validation' from '/Users/thomas.steck/Library/Python/3.11/lib/python/site-packages/prompt_toolkit/validation.py'>,\n",
       " 'prompt_toolkit.buffer': <module 'prompt_toolkit.buffer' from '/Users/thomas.steck/Library/Python/3.11/lib/python/site-packages/prompt_toolkit/buffer.py'>,\n",
       " 'prompt_toolkit.input.base': <module 'prompt_toolkit.input.base' from '/Users/thomas.steck/Library/Python/3.11/lib/python/site-packages/prompt_toolkit/input/base.py'>,\n",
       " 'prompt_toolkit.input.defaults': <module 'prompt_toolkit.input.defaults' from '/Users/thomas.steck/Library/Python/3.11/lib/python/site-packages/prompt_toolkit/input/defaults.py'>,\n",
       " 'prompt_toolkit.input': <module 'prompt_toolkit.input' from '/Users/thomas.steck/Library/Python/3.11/lib/python/site-packages/prompt_toolkit/input/__init__.py'>,\n",
       " 'prompt_toolkit.input.typeahead': <module 'prompt_toolkit.input.typeahead' from '/Users/thomas.steck/Library/Python/3.11/lib/python/site-packages/prompt_toolkit/input/typeahead.py'>,\n",
       " 'prompt_toolkit.key_binding.bindings': <module 'prompt_toolkit.key_binding.bindings' from '/Users/thomas.steck/Library/Python/3.11/lib/python/site-packages/prompt_toolkit/key_binding/bindings/__init__.py'>,\n",
       " 'prompt_toolkit.key_binding.bindings.scroll': <module 'prompt_toolkit.key_binding.bindings.scroll' from '/Users/thomas.steck/Library/Python/3.11/lib/python/site-packages/prompt_toolkit/key_binding/bindings/scroll.py'>,\n",
       " 'prompt_toolkit.key_binding.bindings.page_navigation': <module 'prompt_toolkit.key_binding.bindings.page_navigation' from '/Users/thomas.steck/Library/Python/3.11/lib/python/site-packages/prompt_toolkit/key_binding/bindings/page_navigation.py'>,\n",
       " 'prompt_toolkit.lexers.base': <module 'prompt_toolkit.lexers.base' from '/Users/thomas.steck/Library/Python/3.11/lib/python/site-packages/prompt_toolkit/lexers/base.py'>,\n",
       " 'prompt_toolkit.lexers.pygments': <module 'prompt_toolkit.lexers.pygments' from '/Users/thomas.steck/Library/Python/3.11/lib/python/site-packages/prompt_toolkit/lexers/pygments.py'>,\n",
       " 'prompt_toolkit.lexers': <module 'prompt_toolkit.lexers' from '/Users/thomas.steck/Library/Python/3.11/lib/python/site-packages/prompt_toolkit/lexers/__init__.py'>,\n",
       " 'prompt_toolkit.layout.utils': <module 'prompt_toolkit.layout.utils' from '/Users/thomas.steck/Library/Python/3.11/lib/python/site-packages/prompt_toolkit/layout/utils.py'>,\n",
       " 'prompt_toolkit.layout.processors': <module 'prompt_toolkit.layout.processors' from '/Users/thomas.steck/Library/Python/3.11/lib/python/site-packages/prompt_toolkit/layout/processors.py'>,\n",
       " 'prompt_toolkit.layout.controls': <module 'prompt_toolkit.layout.controls' from '/Users/thomas.steck/Library/Python/3.11/lib/python/site-packages/prompt_toolkit/layout/controls.py'>,\n",
       " 'prompt_toolkit.layout.dimension': <module 'prompt_toolkit.layout.dimension' from '/Users/thomas.steck/Library/Python/3.11/lib/python/site-packages/prompt_toolkit/layout/dimension.py'>,\n",
       " 'prompt_toolkit.layout.margins': <module 'prompt_toolkit.layout.margins' from '/Users/thomas.steck/Library/Python/3.11/lib/python/site-packages/prompt_toolkit/layout/margins.py'>,\n",
       " 'prompt_toolkit.layout.mouse_handlers': <module 'prompt_toolkit.layout.mouse_handlers' from '/Users/thomas.steck/Library/Python/3.11/lib/python/site-packages/prompt_toolkit/layout/mouse_handlers.py'>,\n",
       " 'prompt_toolkit.layout.screen': <module 'prompt_toolkit.layout.screen' from '/Users/thomas.steck/Library/Python/3.11/lib/python/site-packages/prompt_toolkit/layout/screen.py'>,\n",
       " 'prompt_toolkit.layout.containers': <module 'prompt_toolkit.layout.containers' from '/Users/thomas.steck/Library/Python/3.11/lib/python/site-packages/prompt_toolkit/layout/containers.py'>,\n",
       " 'prompt_toolkit.layout.layout': <module 'prompt_toolkit.layout.layout' from '/Users/thomas.steck/Library/Python/3.11/lib/python/site-packages/prompt_toolkit/layout/layout.py'>,\n",
       " 'prompt_toolkit.layout.menus': <module 'prompt_toolkit.layout.menus' from '/Users/thomas.steck/Library/Python/3.11/lib/python/site-packages/prompt_toolkit/layout/menus.py'>,\n",
       " 'prompt_toolkit.layout.scrollable_pane': <module 'prompt_toolkit.layout.scrollable_pane' from '/Users/thomas.steck/Library/Python/3.11/lib/python/site-packages/prompt_toolkit/layout/scrollable_pane.py'>,\n",
       " 'prompt_toolkit.layout': <module 'prompt_toolkit.layout' from '/Users/thomas.steck/Library/Python/3.11/lib/python/site-packages/prompt_toolkit/layout/__init__.py'>,\n",
       " 'prompt_toolkit.key_binding.bindings.completion': <module 'prompt_toolkit.key_binding.bindings.completion' from '/Users/thomas.steck/Library/Python/3.11/lib/python/site-packages/prompt_toolkit/key_binding/bindings/completion.py'>,\n",
       " 'prompt_toolkit.key_binding.bindings.named_commands': <module 'prompt_toolkit.key_binding.bindings.named_commands' from '/Users/thomas.steck/Library/Python/3.11/lib/python/site-packages/prompt_toolkit/key_binding/bindings/named_commands.py'>,\n",
       " 'prompt_toolkit.key_binding.bindings.basic': <module 'prompt_toolkit.key_binding.bindings.basic' from '/Users/thomas.steck/Library/Python/3.11/lib/python/site-packages/prompt_toolkit/key_binding/bindings/basic.py'>,\n",
       " 'prompt_toolkit.key_binding.bindings.cpr': <module 'prompt_toolkit.key_binding.bindings.cpr' from '/Users/thomas.steck/Library/Python/3.11/lib/python/site-packages/prompt_toolkit/key_binding/bindings/cpr.py'>,\n",
       " 'prompt_toolkit.key_binding.bindings.emacs': <module 'prompt_toolkit.key_binding.bindings.emacs' from '/Users/thomas.steck/Library/Python/3.11/lib/python/site-packages/prompt_toolkit/key_binding/bindings/emacs.py'>,\n",
       " 'prompt_toolkit.key_binding.bindings.mouse': <module 'prompt_toolkit.key_binding.bindings.mouse' from '/Users/thomas.steck/Library/Python/3.11/lib/python/site-packages/prompt_toolkit/key_binding/bindings/mouse.py'>,\n",
       " 'prompt_toolkit.input.ansi_escape_sequences': <module 'prompt_toolkit.input.ansi_escape_sequences' from '/Users/thomas.steck/Library/Python/3.11/lib/python/site-packages/prompt_toolkit/input/ansi_escape_sequences.py'>,\n",
       " 'prompt_toolkit.input.vt100_parser': <module 'prompt_toolkit.input.vt100_parser' from '/Users/thomas.steck/Library/Python/3.11/lib/python/site-packages/prompt_toolkit/input/vt100_parser.py'>,\n",
       " 'prompt_toolkit.key_binding.digraphs': <module 'prompt_toolkit.key_binding.digraphs' from '/Users/thomas.steck/Library/Python/3.11/lib/python/site-packages/prompt_toolkit/key_binding/digraphs.py'>,\n",
       " 'prompt_toolkit.key_binding.bindings.vi': <module 'prompt_toolkit.key_binding.bindings.vi' from '/Users/thomas.steck/Library/Python/3.11/lib/python/site-packages/prompt_toolkit/key_binding/bindings/vi.py'>,\n",
       " 'prompt_toolkit.key_binding.defaults': <module 'prompt_toolkit.key_binding.defaults' from '/Users/thomas.steck/Library/Python/3.11/lib/python/site-packages/prompt_toolkit/key_binding/defaults.py'>,\n",
       " 'prompt_toolkit.key_binding.emacs_state': <module 'prompt_toolkit.key_binding.emacs_state' from '/Users/thomas.steck/Library/Python/3.11/lib/python/site-packages/prompt_toolkit/key_binding/emacs_state.py'>,\n",
       " 'prompt_toolkit.layout.dummy': <module 'prompt_toolkit.layout.dummy' from '/Users/thomas.steck/Library/Python/3.11/lib/python/site-packages/prompt_toolkit/layout/dummy.py'>,\n",
       " 'prompt_toolkit.renderer': <module 'prompt_toolkit.renderer' from '/Users/thomas.steck/Library/Python/3.11/lib/python/site-packages/prompt_toolkit/renderer.py'>,\n",
       " 'prompt_toolkit.application.application': <module 'prompt_toolkit.application.application' from '/Users/thomas.steck/Library/Python/3.11/lib/python/site-packages/prompt_toolkit/application/application.py'>,\n",
       " 'prompt_toolkit.application.dummy': <module 'prompt_toolkit.application.dummy' from '/Users/thomas.steck/Library/Python/3.11/lib/python/site-packages/prompt_toolkit/application/dummy.py'>,\n",
       " 'prompt_toolkit.application': <module 'prompt_toolkit.application' from '/Users/thomas.steck/Library/Python/3.11/lib/python/site-packages/prompt_toolkit/application/__init__.py'>,\n",
       " 'prompt_toolkit.key_binding.bindings.focus': <module 'prompt_toolkit.key_binding.bindings.focus' from '/Users/thomas.steck/Library/Python/3.11/lib/python/site-packages/prompt_toolkit/key_binding/bindings/focus.py'>,\n",
       " 'prompt_toolkit.widgets.toolbars': <module 'prompt_toolkit.widgets.toolbars' from '/Users/thomas.steck/Library/Python/3.11/lib/python/site-packages/prompt_toolkit/widgets/toolbars.py'>,\n",
       " 'prompt_toolkit.widgets.base': <module 'prompt_toolkit.widgets.base' from '/Users/thomas.steck/Library/Python/3.11/lib/python/site-packages/prompt_toolkit/widgets/base.py'>,\n",
       " 'prompt_toolkit.widgets.dialogs': <module 'prompt_toolkit.widgets.dialogs' from '/Users/thomas.steck/Library/Python/3.11/lib/python/site-packages/prompt_toolkit/widgets/dialogs.py'>,\n",
       " 'prompt_toolkit.widgets.menus': <module 'prompt_toolkit.widgets.menus' from '/Users/thomas.steck/Library/Python/3.11/lib/python/site-packages/prompt_toolkit/widgets/menus.py'>,\n",
       " 'prompt_toolkit.widgets': <module 'prompt_toolkit.widgets' from '/Users/thomas.steck/Library/Python/3.11/lib/python/site-packages/prompt_toolkit/widgets/__init__.py'>,\n",
       " 'prompt_toolkit.shortcuts.dialogs': <module 'prompt_toolkit.shortcuts.dialogs' from '/Users/thomas.steck/Library/Python/3.11/lib/python/site-packages/prompt_toolkit/shortcuts/dialogs.py'>,\n",
       " 'prompt_toolkit.shortcuts.progress_bar.formatters': <module 'prompt_toolkit.shortcuts.progress_bar.formatters' from '/Users/thomas.steck/Library/Python/3.11/lib/python/site-packages/prompt_toolkit/shortcuts/progress_bar/formatters.py'>,\n",
       " 'prompt_toolkit.shortcuts.progress_bar.base': <module 'prompt_toolkit.shortcuts.progress_bar.base' from '/Users/thomas.steck/Library/Python/3.11/lib/python/site-packages/prompt_toolkit/shortcuts/progress_bar/base.py'>,\n",
       " 'prompt_toolkit.shortcuts.progress_bar': <module 'prompt_toolkit.shortcuts.progress_bar' from '/Users/thomas.steck/Library/Python/3.11/lib/python/site-packages/prompt_toolkit/shortcuts/progress_bar/__init__.py'>,\n",
       " 'prompt_toolkit.key_binding.bindings.auto_suggest': <module 'prompt_toolkit.key_binding.bindings.auto_suggest' from '/Users/thomas.steck/Library/Python/3.11/lib/python/site-packages/prompt_toolkit/key_binding/bindings/auto_suggest.py'>,\n",
       " 'prompt_toolkit.key_binding.bindings.open_in_editor': <module 'prompt_toolkit.key_binding.bindings.open_in_editor' from '/Users/thomas.steck/Library/Python/3.11/lib/python/site-packages/prompt_toolkit/key_binding/bindings/open_in_editor.py'>,\n",
       " 'prompt_toolkit.shortcuts.prompt': <module 'prompt_toolkit.shortcuts.prompt' from '/Users/thomas.steck/Library/Python/3.11/lib/python/site-packages/prompt_toolkit/shortcuts/prompt.py'>,\n",
       " 'prompt_toolkit.shortcuts.utils': <module 'prompt_toolkit.shortcuts.utils' from '/Users/thomas.steck/Library/Python/3.11/lib/python/site-packages/prompt_toolkit/shortcuts/utils.py'>,\n",
       " 'prompt_toolkit.shortcuts': <module 'prompt_toolkit.shortcuts' from '/Users/thomas.steck/Library/Python/3.11/lib/python/site-packages/prompt_toolkit/shortcuts/__init__.py'>,\n",
       " 'prompt_toolkit': <module 'prompt_toolkit' from '/Users/thomas.steck/Library/Python/3.11/lib/python/site-packages/prompt_toolkit/__init__.py'>,\n",
       " 'prompt_toolkit.patch_stdout': <module 'prompt_toolkit.patch_stdout' from '/Users/thomas.steck/Library/Python/3.11/lib/python/site-packages/prompt_toolkit/patch_stdout.py'>,\n",
       " 'unicodedata': <module 'unicodedata' from '/opt/homebrew/Cellar/python@3.11/3.11.3/Frameworks/Python.framework/Versions/3.11/lib/python3.11/lib-dynload/unicodedata.cpython-311-darwin.so'>,\n",
       " 'IPython.core.latex_symbols': <module 'IPython.core.latex_symbols' from '/Users/thomas.steck/Library/Python/3.11/lib/python/site-packages/IPython/core/latex_symbols.py'>,\n",
       " 'IPython.utils.generics': <module 'IPython.utils.generics' from '/Users/thomas.steck/Library/Python/3.11/lib/python/site-packages/IPython/utils/generics.py'>,\n",
       " 'parso.utils': <module 'parso.utils' from '/Users/thomas.steck/Library/Python/3.11/lib/python/site-packages/parso/utils.py'>,\n",
       " 'parso.tree': <module 'parso.tree' from '/Users/thomas.steck/Library/Python/3.11/lib/python/site-packages/parso/tree.py'>,\n",
       " 'parso.python': <module 'parso.python' from '/Users/thomas.steck/Library/Python/3.11/lib/python/site-packages/parso/python/__init__.py'>,\n",
       " 'parso.python.token': <module 'parso.python.token' from '/Users/thomas.steck/Library/Python/3.11/lib/python/site-packages/parso/python/token.py'>,\n",
       " 'parso.python.tokenize': <module 'parso.python.tokenize' from '/Users/thomas.steck/Library/Python/3.11/lib/python/site-packages/parso/python/tokenize.py'>,\n",
       " 'parso.pgen2.grammar_parser': <module 'parso.pgen2.grammar_parser' from '/Users/thomas.steck/Library/Python/3.11/lib/python/site-packages/parso/pgen2/grammar_parser.py'>,\n",
       " 'parso.pgen2.generator': <module 'parso.pgen2.generator' from '/Users/thomas.steck/Library/Python/3.11/lib/python/site-packages/parso/pgen2/generator.py'>,\n",
       " 'parso.pgen2': <module 'parso.pgen2' from '/Users/thomas.steck/Library/Python/3.11/lib/python/site-packages/parso/pgen2/__init__.py'>,\n",
       " 'parso.parser': <module 'parso.parser' from '/Users/thomas.steck/Library/Python/3.11/lib/python/site-packages/parso/parser.py'>,\n",
       " 'parso._compatibility': <module 'parso._compatibility' from '/Users/thomas.steck/Library/Python/3.11/lib/python/site-packages/parso/_compatibility.py'>,\n",
       " 'difflib': <module 'difflib' from '/opt/homebrew/Cellar/python@3.11/3.11.3/Frameworks/Python.framework/Versions/3.11/lib/python3.11/difflib.py'>,\n",
       " 'parso.python.prefix': <module 'parso.python.prefix' from '/Users/thomas.steck/Library/Python/3.11/lib/python/site-packages/parso/python/prefix.py'>,\n",
       " 'parso.python.tree': <module 'parso.python.tree' from '/Users/thomas.steck/Library/Python/3.11/lib/python/site-packages/parso/python/tree.py'>,\n",
       " 'parso.python.parser': <module 'parso.python.parser' from '/Users/thomas.steck/Library/Python/3.11/lib/python/site-packages/parso/python/parser.py'>,\n",
       " 'parso.python.diff': <module 'parso.python.diff' from '/Users/thomas.steck/Library/Python/3.11/lib/python/site-packages/parso/python/diff.py'>,\n",
       " 'gc': <module 'gc' (built-in)>,\n",
       " 'parso.cache': <module 'parso.cache' from '/Users/thomas.steck/Library/Python/3.11/lib/python/site-packages/parso/cache.py'>,\n",
       " 'parso.normalizer': <module 'parso.normalizer' from '/Users/thomas.steck/Library/Python/3.11/lib/python/site-packages/parso/normalizer.py'>,\n",
       " 'parso.python.errors': <module 'parso.python.errors' from '/Users/thomas.steck/Library/Python/3.11/lib/python/site-packages/parso/python/errors.py'>,\n",
       " 'parso.python.pep8': <module 'parso.python.pep8' from '/Users/thomas.steck/Library/Python/3.11/lib/python/site-packages/parso/python/pep8.py'>,\n",
       " 'parso.file_io': <module 'parso.file_io' from '/Users/thomas.steck/Library/Python/3.11/lib/python/site-packages/parso/file_io.py'>,\n",
       " 'parso.grammar': <module 'parso.grammar' from '/Users/thomas.steck/Library/Python/3.11/lib/python/site-packages/parso/grammar.py'>,\n",
       " 'parso': <module 'parso' from '/Users/thomas.steck/Library/Python/3.11/lib/python/site-packages/parso/__init__.py'>,\n",
       " 'jedi.parser_utils': <module 'jedi.parser_utils' from '/Users/thomas.steck/Library/Python/3.11/lib/python/site-packages/jedi/parser_utils.py'>,\n",
       " 'jedi.debug': <module 'jedi.debug' from '/Users/thomas.steck/Library/Python/3.11/lib/python/site-packages/jedi/debug.py'>,\n",
       " 'jedi.settings': <module 'jedi.settings' from '/Users/thomas.steck/Library/Python/3.11/lib/python/site-packages/jedi/settings.py'>,\n",
       " 'jedi.cache': <module 'jedi.cache' from '/Users/thomas.steck/Library/Python/3.11/lib/python/site-packages/jedi/cache.py'>,\n",
       " 'jedi.file_io': <module 'jedi.file_io' from '/Users/thomas.steck/Library/Python/3.11/lib/python/site-packages/jedi/file_io.py'>,\n",
       " 'jedi.inference.cache': <module 'jedi.inference.cache' from '/Users/thomas.steck/Library/Python/3.11/lib/python/site-packages/jedi/inference/cache.py'>,\n",
       " 'jedi.inference.helpers': <module 'jedi.inference.helpers' from '/Users/thomas.steck/Library/Python/3.11/lib/python/site-packages/jedi/inference/helpers.py'>,\n",
       " 'jedi.inference.utils': <module 'jedi.inference.utils' from '/Users/thomas.steck/Library/Python/3.11/lib/python/site-packages/jedi/inference/utils.py'>,\n",
       " 'jedi.inference.base_value': <module 'jedi.inference.base_value' from '/Users/thomas.steck/Library/Python/3.11/lib/python/site-packages/jedi/inference/base_value.py'>,\n",
       " 'jedi.inference.sys_path': <module 'jedi.inference.sys_path' from '/Users/thomas.steck/Library/Python/3.11/lib/python/site-packages/jedi/inference/sys_path.py'>,\n",
       " 'jedi.inference.recursion': <module 'jedi.inference.recursion' from '/Users/thomas.steck/Library/Python/3.11/lib/python/site-packages/jedi/inference/recursion.py'>,\n",
       " 'jedi.inference.flow_analysis': <module 'jedi.inference.flow_analysis' from '/Users/thomas.steck/Library/Python/3.11/lib/python/site-packages/jedi/inference/flow_analysis.py'>,\n",
       " 'jedi.common': <module 'jedi.common' from '/Users/thomas.steck/Library/Python/3.11/lib/python/site-packages/jedi/common.py'>,\n",
       " 'jedi.inference.lazy_value': <module 'jedi.inference.lazy_value' from '/Users/thomas.steck/Library/Python/3.11/lib/python/site-packages/jedi/inference/lazy_value.py'>,\n",
       " 'jedi.inference.docstrings': <module 'jedi.inference.docstrings' from '/Users/thomas.steck/Library/Python/3.11/lib/python/site-packages/jedi/inference/docstrings.py'>,\n",
       " 'jedi.plugins': <module 'jedi.plugins' from '/Users/thomas.steck/Library/Python/3.11/lib/python/site-packages/jedi/plugins/__init__.py'>,\n",
       " 'jedi.inference.names': <module 'jedi.inference.names' from '/Users/thomas.steck/Library/Python/3.11/lib/python/site-packages/jedi/inference/names.py'>,\n",
       " 'jedi.inference.filters': <module 'jedi.inference.filters' from '/Users/thomas.steck/Library/Python/3.11/lib/python/site-packages/jedi/inference/filters.py'>,\n",
       " 'jedi.inference.compiled.getattr_static': <module 'jedi.inference.compiled.getattr_static' from '/Users/thomas.steck/Library/Python/3.11/lib/python/site-packages/jedi/inference/compiled/getattr_static.py'>,\n",
       " 'jedi.inference.compiled.access': <module 'jedi.inference.compiled.access' from '/Users/thomas.steck/Library/Python/3.11/lib/python/site-packages/jedi/inference/compiled/access.py'>,\n",
       " 'jedi.inference.signature': <module 'jedi.inference.signature' from '/Users/thomas.steck/Library/Python/3.11/lib/python/site-packages/jedi/inference/signature.py'>,\n",
       " 'jedi.inference.context': <module 'jedi.inference.context' from '/Users/thomas.steck/Library/Python/3.11/lib/python/site-packages/jedi/inference/context.py'>,\n",
       " 'jedi.inference.compiled.value': <module 'jedi.inference.compiled.value' from '/Users/thomas.steck/Library/Python/3.11/lib/python/site-packages/jedi/inference/compiled/value.py'>,\n",
       " 'jedi.inference.compiled': <module 'jedi.inference.compiled' from '/Users/thomas.steck/Library/Python/3.11/lib/python/site-packages/jedi/inference/compiled/__init__.py'>,\n",
       " 'jedi.inference.analysis': <module 'jedi.inference.analysis' from '/Users/thomas.steck/Library/Python/3.11/lib/python/site-packages/jedi/inference/analysis.py'>,\n",
       " 'jedi.inference.gradual': <module 'jedi.inference.gradual' from '/Users/thomas.steck/Library/Python/3.11/lib/python/site-packages/jedi/inference/gradual/__init__.py'>,\n",
       " 'jedi.inference.value.module': <module 'jedi.inference.value.module' from '/Users/thomas.steck/Library/Python/3.11/lib/python/site-packages/jedi/inference/value/module.py'>,\n",
       " 'jedi.inference.value.dynamic_arrays': <module 'jedi.inference.value.dynamic_arrays' from '/Users/thomas.steck/Library/Python/3.11/lib/python/site-packages/jedi/inference/value/dynamic_arrays.py'>,\n",
       " 'jedi.inference.value.iterable': <module 'jedi.inference.value.iterable' from '/Users/thomas.steck/Library/Python/3.11/lib/python/site-packages/jedi/inference/value/iterable.py'>,\n",
       " 'jedi.inference.arguments': <module 'jedi.inference.arguments' from '/Users/thomas.steck/Library/Python/3.11/lib/python/site-packages/jedi/inference/arguments.py'>,\n",
       " 'jedi.inference.parser_cache': <module 'jedi.inference.parser_cache' from '/Users/thomas.steck/Library/Python/3.11/lib/python/site-packages/jedi/inference/parser_cache.py'>,\n",
       " 'jedi.inference.gradual.generics': <module 'jedi.inference.gradual.generics' from '/Users/thomas.steck/Library/Python/3.11/lib/python/site-packages/jedi/inference/gradual/generics.py'>,\n",
       " 'jedi.inference.value.function': <module 'jedi.inference.value.function' from '/Users/thomas.steck/Library/Python/3.11/lib/python/site-packages/jedi/inference/value/function.py'>,\n",
       " 'jedi.inference.value.klass': <module 'jedi.inference.value.klass' from '/Users/thomas.steck/Library/Python/3.11/lib/python/site-packages/jedi/inference/value/klass.py'>,\n",
       " 'jedi.inference.value.instance': <module 'jedi.inference.value.instance' from '/Users/thomas.steck/Library/Python/3.11/lib/python/site-packages/jedi/inference/value/instance.py'>,\n",
       " 'jedi.inference.value': <module 'jedi.inference.value' from '/Users/thomas.steck/Library/Python/3.11/lib/python/site-packages/jedi/inference/value/__init__.py'>,\n",
       " 'jedi.inference.gradual.base': <module 'jedi.inference.gradual.base' from '/Users/thomas.steck/Library/Python/3.11/lib/python/site-packages/jedi/inference/gradual/base.py'>,\n",
       " 'jedi.inference.gradual.type_var': <module 'jedi.inference.gradual.type_var' from '/Users/thomas.steck/Library/Python/3.11/lib/python/site-packages/jedi/inference/gradual/type_var.py'>,\n",
       " 'jedi.inference.gradual.typing': <module 'jedi.inference.gradual.typing' from '/Users/thomas.steck/Library/Python/3.11/lib/python/site-packages/jedi/inference/gradual/typing.py'>,\n",
       " 'jedi.inference.gradual.stub_value': <module 'jedi.inference.gradual.stub_value' from '/Users/thomas.steck/Library/Python/3.11/lib/python/site-packages/jedi/inference/gradual/stub_value.py'>,\n",
       " 'jedi.inference.gradual.typeshed': <module 'jedi.inference.gradual.typeshed' from '/Users/thomas.steck/Library/Python/3.11/lib/python/site-packages/jedi/inference/gradual/typeshed.py'>,\n",
       " 'jedi._compatibility': <module 'jedi._compatibility' from '/Users/thomas.steck/Library/Python/3.11/lib/python/site-packages/jedi/_compatibility.py'>,\n",
       " 'jedi.inference.compiled.subprocess.functions': <module 'jedi.inference.compiled.subprocess.functions' from '/Users/thomas.steck/Library/Python/3.11/lib/python/site-packages/jedi/inference/compiled/subprocess/functions.py'>,\n",
       " 'jedi.api.exceptions': <module 'jedi.api.exceptions' from '/Users/thomas.steck/Library/Python/3.11/lib/python/site-packages/jedi/api/exceptions.py'>,\n",
       " 'jedi.inference.compiled.subprocess': <module 'jedi.inference.compiled.subprocess' from '/Users/thomas.steck/Library/Python/3.11/lib/python/site-packages/jedi/inference/compiled/subprocess/__init__.py'>,\n",
       " 'jedi.inference.imports': <module 'jedi.inference.imports' from '/Users/thomas.steck/Library/Python/3.11/lib/python/site-packages/jedi/inference/imports.py'>,\n",
       " 'jedi.inference.param': <module 'jedi.inference.param' from '/Users/thomas.steck/Library/Python/3.11/lib/python/site-packages/jedi/inference/param.py'>,\n",
       " 'jedi.inference.gradual.annotation': <module 'jedi.inference.gradual.annotation' from '/Users/thomas.steck/Library/Python/3.11/lib/python/site-packages/jedi/inference/gradual/annotation.py'>,\n",
       " 'jedi.inference.value.decorator': <module 'jedi.inference.value.decorator' from '/Users/thomas.steck/Library/Python/3.11/lib/python/site-packages/jedi/inference/value/decorator.py'>,\n",
       " 'jedi.inference.syntax_tree': <module 'jedi.inference.syntax_tree' from '/Users/thomas.steck/Library/Python/3.11/lib/python/site-packages/jedi/inference/syntax_tree.py'>,\n",
       " 'jedi.inference': <module 'jedi.inference' from '/Users/thomas.steck/Library/Python/3.11/lib/python/site-packages/jedi/inference/__init__.py'>,\n",
       " 'jedi.inference.gradual.conversion': <module 'jedi.inference.gradual.conversion' from '/Users/thomas.steck/Library/Python/3.11/lib/python/site-packages/jedi/inference/gradual/conversion.py'>,\n",
       " 'jedi.inference.compiled.mixed': <module 'jedi.inference.compiled.mixed' from '/Users/thomas.steck/Library/Python/3.11/lib/python/site-packages/jedi/inference/compiled/mixed.py'>,\n",
       " 'pydoc_data': <module 'pydoc_data' from '/opt/homebrew/Cellar/python@3.11/3.11.3/Frameworks/Python.framework/Versions/3.11/lib/python3.11/pydoc_data/__init__.py'>,\n",
       " 'pydoc_data.topics': <module 'pydoc_data.topics' from '/opt/homebrew/Cellar/python@3.11/3.11.3/Frameworks/Python.framework/Versions/3.11/lib/python3.11/pydoc_data/topics.py'>,\n",
       " 'jedi.api.keywords': <module 'jedi.api.keywords' from '/Users/thomas.steck/Library/Python/3.11/lib/python/site-packages/jedi/api/keywords.py'>,\n",
       " 'jedi.api.completion_cache': <module 'jedi.api.completion_cache' from '/Users/thomas.steck/Library/Python/3.11/lib/python/site-packages/jedi/api/completion_cache.py'>,\n",
       " 'jedi.api.helpers': <module 'jedi.api.helpers' from '/Users/thomas.steck/Library/Python/3.11/lib/python/site-packages/jedi/api/helpers.py'>,\n",
       " 'jedi.api.classes': <module 'jedi.api.classes' from '/Users/thomas.steck/Library/Python/3.11/lib/python/site-packages/jedi/api/classes.py'>,\n",
       " 'jedi.api.interpreter': <module 'jedi.api.interpreter' from '/Users/thomas.steck/Library/Python/3.11/lib/python/site-packages/jedi/api/interpreter.py'>,\n",
       " 'jedi.api.strings': <module 'jedi.api.strings' from '/Users/thomas.steck/Library/Python/3.11/lib/python/site-packages/jedi/api/strings.py'>,\n",
       " 'jedi.api.file_name': <module 'jedi.api.file_name' from '/Users/thomas.steck/Library/Python/3.11/lib/python/site-packages/jedi/api/file_name.py'>,\n",
       " 'jedi.inference.docstring_utils': <module 'jedi.inference.docstring_utils' from '/Users/thomas.steck/Library/Python/3.11/lib/python/site-packages/jedi/inference/docstring_utils.py'>,\n",
       " 'jedi.api.completion': <module 'jedi.api.completion' from '/Users/thomas.steck/Library/Python/3.11/lib/python/site-packages/jedi/api/completion.py'>,\n",
       " 'filecmp': <module 'filecmp' from '/opt/homebrew/Cellar/python@3.11/3.11.3/Frameworks/Python.framework/Versions/3.11/lib/python3.11/filecmp.py'>,\n",
       " 'jedi.api.environment': <module 'jedi.api.environment' from '/Users/thomas.steck/Library/Python/3.11/lib/python/site-packages/jedi/api/environment.py'>,\n",
       " 'jedi.inference.references': <module 'jedi.inference.references' from '/Users/thomas.steck/Library/Python/3.11/lib/python/site-packages/jedi/inference/references.py'>,\n",
       " 'jedi.api.project': <module 'jedi.api.project' from '/Users/thomas.steck/Library/Python/3.11/lib/python/site-packages/jedi/api/project.py'>,\n",
       " 'jedi.api.errors': <module 'jedi.api.errors' from '/Users/thomas.steck/Library/Python/3.11/lib/python/site-packages/jedi/api/errors.py'>,\n",
       " 'jedi.api.refactoring': <module 'jedi.api.refactoring' from '/Users/thomas.steck/Library/Python/3.11/lib/python/site-packages/jedi/api/refactoring/__init__.py'>,\n",
       " 'jedi.api.refactoring.extract': <module 'jedi.api.refactoring.extract' from '/Users/thomas.steck/Library/Python/3.11/lib/python/site-packages/jedi/api/refactoring/extract.py'>,\n",
       " 'jedi.inference.gradual.utils': <module 'jedi.inference.gradual.utils' from '/Users/thomas.steck/Library/Python/3.11/lib/python/site-packages/jedi/inference/gradual/utils.py'>,\n",
       " 'jedi.api': <module 'jedi.api' from '/Users/thomas.steck/Library/Python/3.11/lib/python/site-packages/jedi/api/__init__.py'>,\n",
       " 'jedi.plugins.stdlib': <module 'jedi.plugins.stdlib' from '/Users/thomas.steck/Library/Python/3.11/lib/python/site-packages/jedi/plugins/stdlib.py'>,\n",
       " 'jedi.plugins.flask': <module 'jedi.plugins.flask' from '/Users/thomas.steck/Library/Python/3.11/lib/python/site-packages/jedi/plugins/flask.py'>,\n",
       " 'jedi.plugins.pytest': <module 'jedi.plugins.pytest' from '/Users/thomas.steck/Library/Python/3.11/lib/python/site-packages/jedi/plugins/pytest.py'>,\n",
       " 'jedi.plugins.django': <module 'jedi.plugins.django' from '/Users/thomas.steck/Library/Python/3.11/lib/python/site-packages/jedi/plugins/django.py'>,\n",
       " 'jedi.plugins.registry': <module 'jedi.plugins.registry' from '/Users/thomas.steck/Library/Python/3.11/lib/python/site-packages/jedi/plugins/registry.py'>,\n",
       " 'jedi': <module 'jedi' from '/Users/thomas.steck/Library/Python/3.11/lib/python/site-packages/jedi/__init__.py'>,\n",
       " 'IPython.core.completer': <module 'IPython.core.completer' from '/Users/thomas.steck/Library/Python/3.11/lib/python/site-packages/IPython/core/completer.py'>,\n",
       " 'IPython.terminal.ptutils': <module 'IPython.terminal.ptutils' from '/Users/thomas.steck/Library/Python/3.11/lib/python/site-packages/IPython/terminal/ptutils.py'>,\n",
       " 'IPython.terminal.shortcuts': <module 'IPython.terminal.shortcuts' from '/Users/thomas.steck/Library/Python/3.11/lib/python/site-packages/IPython/terminal/shortcuts.py'>,\n",
       " 'concurrent.futures.thread': <module 'concurrent.futures.thread' from '/opt/homebrew/Cellar/python@3.11/3.11.3/Frameworks/Python.framework/Versions/3.11/lib/python3.11/concurrent/futures/thread.py'>,\n",
       " 'IPython.terminal.debugger': <module 'IPython.terminal.debugger' from '/Users/thomas.steck/Library/Python/3.11/lib/python/site-packages/IPython/terminal/debugger.py'>,\n",
       " 'IPython.lib.clipboard': <module 'IPython.lib.clipboard' from '/Users/thomas.steck/Library/Python/3.11/lib/python/site-packages/IPython/lib/clipboard.py'>,\n",
       " 'IPython.terminal.magics': <module 'IPython.terminal.magics' from '/Users/thomas.steck/Library/Python/3.11/lib/python/site-packages/IPython/terminal/magics.py'>,\n",
       " 'IPython.terminal.pt_inputhooks': <module 'IPython.terminal.pt_inputhooks' from '/Users/thomas.steck/Library/Python/3.11/lib/python/site-packages/IPython/terminal/pt_inputhooks/__init__.py'>,\n",
       " 'IPython.terminal.prompts': <module 'IPython.terminal.prompts' from '/Users/thomas.steck/Library/Python/3.11/lib/python/site-packages/IPython/terminal/prompts.py'>,\n",
       " 'IPython.terminal.interactiveshell': <module 'IPython.terminal.interactiveshell' from '/Users/thomas.steck/Library/Python/3.11/lib/python/site-packages/IPython/terminal/interactiveshell.py'>,\n",
       " 'IPython.core.magics.auto': <module 'IPython.core.magics.auto' from '/Users/thomas.steck/Library/Python/3.11/lib/python/site-packages/IPython/core/magics/auto.py'>,\n",
       " 'IPython.core.magics.basic': <module 'IPython.core.magics.basic' from '/Users/thomas.steck/Library/Python/3.11/lib/python/site-packages/IPython/core/magics/basic.py'>,\n",
       " 'email': <module 'email' from '/opt/homebrew/Cellar/python@3.11/3.11.3/Frameworks/Python.framework/Versions/3.11/lib/python3.11/email/__init__.py'>,\n",
       " 'http': <module 'http' from '/opt/homebrew/Cellar/python@3.11/3.11.3/Frameworks/Python.framework/Versions/3.11/lib/python3.11/http/__init__.py'>,\n",
       " 'email.errors': <module 'email.errors' from '/opt/homebrew/Cellar/python@3.11/3.11.3/Frameworks/Python.framework/Versions/3.11/lib/python3.11/email/errors.py'>,\n",
       " 'email.quoprimime': <module 'email.quoprimime' from '/opt/homebrew/Cellar/python@3.11/3.11.3/Frameworks/Python.framework/Versions/3.11/lib/python3.11/email/quoprimime.py'>,\n",
       " 'email.base64mime': <module 'email.base64mime' from '/opt/homebrew/Cellar/python@3.11/3.11.3/Frameworks/Python.framework/Versions/3.11/lib/python3.11/email/base64mime.py'>,\n",
       " 'quopri': <module 'quopri' from '/opt/homebrew/Cellar/python@3.11/3.11.3/Frameworks/Python.framework/Versions/3.11/lib/python3.11/quopri.py'>,\n",
       " 'email.encoders': <module 'email.encoders' from '/opt/homebrew/Cellar/python@3.11/3.11.3/Frameworks/Python.framework/Versions/3.11/lib/python3.11/email/encoders.py'>,\n",
       " 'email.charset': <module 'email.charset' from '/opt/homebrew/Cellar/python@3.11/3.11.3/Frameworks/Python.framework/Versions/3.11/lib/python3.11/email/charset.py'>,\n",
       " 'email.header': <module 'email.header' from '/opt/homebrew/Cellar/python@3.11/3.11.3/Frameworks/Python.framework/Versions/3.11/lib/python3.11/email/header.py'>,\n",
       " 'email._parseaddr': <module 'email._parseaddr' from '/opt/homebrew/Cellar/python@3.11/3.11.3/Frameworks/Python.framework/Versions/3.11/lib/python3.11/email/_parseaddr.py'>,\n",
       " 'email.utils': <module 'email.utils' from '/opt/homebrew/Cellar/python@3.11/3.11.3/Frameworks/Python.framework/Versions/3.11/lib/python3.11/email/utils.py'>,\n",
       " 'email._policybase': <module 'email._policybase' from '/opt/homebrew/Cellar/python@3.11/3.11.3/Frameworks/Python.framework/Versions/3.11/lib/python3.11/email/_policybase.py'>,\n",
       " 'email.feedparser': <module 'email.feedparser' from '/opt/homebrew/Cellar/python@3.11/3.11.3/Frameworks/Python.framework/Versions/3.11/lib/python3.11/email/feedparser.py'>,\n",
       " 'email.parser': <module 'email.parser' from '/opt/homebrew/Cellar/python@3.11/3.11.3/Frameworks/Python.framework/Versions/3.11/lib/python3.11/email/parser.py'>,\n",
       " 'email._encoded_words': <module 'email._encoded_words' from '/opt/homebrew/Cellar/python@3.11/3.11.3/Frameworks/Python.framework/Versions/3.11/lib/python3.11/email/_encoded_words.py'>,\n",
       " 'email.iterators': <module 'email.iterators' from '/opt/homebrew/Cellar/python@3.11/3.11.3/Frameworks/Python.framework/Versions/3.11/lib/python3.11/email/iterators.py'>,\n",
       " 'email.message': <module 'email.message' from '/opt/homebrew/Cellar/python@3.11/3.11.3/Frameworks/Python.framework/Versions/3.11/lib/python3.11/email/message.py'>,\n",
       " 'http.client': <module 'http.client' from '/opt/homebrew/Cellar/python@3.11/3.11.3/Frameworks/Python.framework/Versions/3.11/lib/python3.11/http/client.py'>,\n",
       " 'urllib.response': <module 'urllib.response' from '/opt/homebrew/Cellar/python@3.11/3.11.3/Frameworks/Python.framework/Versions/3.11/lib/python3.11/urllib/response.py'>,\n",
       " 'urllib.error': <module 'urllib.error' from '/opt/homebrew/Cellar/python@3.11/3.11.3/Frameworks/Python.framework/Versions/3.11/lib/python3.11/urllib/error.py'>,\n",
       " '_scproxy': <module '_scproxy' from '/opt/homebrew/Cellar/python@3.11/3.11.3/Frameworks/Python.framework/Versions/3.11/lib/python3.11/lib-dynload/_scproxy.cpython-311-darwin.so'>,\n",
       " 'urllib.request': <module 'urllib.request' from '/opt/homebrew/Cellar/python@3.11/3.11.3/Frameworks/Python.framework/Versions/3.11/lib/python3.11/urllib/request.py'>,\n",
       " 'IPython.utils.contexts': <module 'IPython.utils.contexts' from '/Users/thomas.steck/Library/Python/3.11/lib/python/site-packages/IPython/utils/contexts.py'>,\n",
       " 'IPython.core.magics.code': <module 'IPython.core.magics.code' from '/Users/thomas.steck/Library/Python/3.11/lib/python/site-packages/IPython/core/magics/code.py'>,\n",
       " 'IPython.core.magics.config': <module 'IPython.core.magics.config' from '/Users/thomas.steck/Library/Python/3.11/lib/python/site-packages/IPython/core/magics/config.py'>,\n",
       " 'IPython.core.magics.display': <module 'IPython.core.magics.display' from '/Users/thomas.steck/Library/Python/3.11/lib/python/site-packages/IPython/core/magics/display.py'>,\n",
       " '_lsprof': <module '_lsprof' from '/opt/homebrew/Cellar/python@3.11/3.11.3/Frameworks/Python.framework/Versions/3.11/lib/python3.11/lib-dynload/_lsprof.cpython-311-darwin.so'>,\n",
       " 'profile': <module 'profile' from '/opt/homebrew/Cellar/python@3.11/3.11.3/Frameworks/Python.framework/Versions/3.11/lib/python3.11/profile.py'>,\n",
       " 'cProfile': <module 'cProfile' from '/opt/homebrew/Cellar/python@3.11/3.11.3/Frameworks/Python.framework/Versions/3.11/lib/python3.11/cProfile.py'>,\n",
       " 'pstats': <module 'pstats' from '/opt/homebrew/Cellar/python@3.11/3.11.3/Frameworks/Python.framework/Versions/3.11/lib/python3.11/pstats.py'>,\n",
       " 'timeit': <module 'timeit' from '/opt/homebrew/Cellar/python@3.11/3.11.3/Frameworks/Python.framework/Versions/3.11/lib/python3.11/timeit.py'>,\n",
       " 'IPython.utils.module_paths': <module 'IPython.utils.module_paths' from '/Users/thomas.steck/Library/Python/3.11/lib/python/site-packages/IPython/utils/module_paths.py'>,\n",
       " 'IPython.utils.timing': <module 'IPython.utils.timing' from '/Users/thomas.steck/Library/Python/3.11/lib/python/site-packages/IPython/utils/timing.py'>,\n",
       " 'IPython.core.magics.execution': <module 'IPython.core.magics.execution' from '/Users/thomas.steck/Library/Python/3.11/lib/python/site-packages/IPython/core/magics/execution.py'>,\n",
       " 'IPython.core.magics.extension': <module 'IPython.core.magics.extension' from '/Users/thomas.steck/Library/Python/3.11/lib/python/site-packages/IPython/core/magics/extension.py'>,\n",
       " 'IPython.core.magics.history': <module 'IPython.core.magics.history' from '/Users/thomas.steck/Library/Python/3.11/lib/python/site-packages/IPython/core/magics/history.py'>,\n",
       " 'IPython.core.magics.logging': <module 'IPython.core.magics.logging' from '/Users/thomas.steck/Library/Python/3.11/lib/python/site-packages/IPython/core/magics/logging.py'>,\n",
       " 'IPython.core.magics.namespace': <module 'IPython.core.magics.namespace' from '/Users/thomas.steck/Library/Python/3.11/lib/python/site-packages/IPython/core/magics/namespace.py'>,\n",
       " 'IPython.core.magics.osm': <module 'IPython.core.magics.osm' from '/Users/thomas.steck/Library/Python/3.11/lib/python/site-packages/IPython/core/magics/osm.py'>,\n",
       " 'IPython.core.magics.packaging': <module 'IPython.core.magics.packaging' from '/Users/thomas.steck/Library/Python/3.11/lib/python/site-packages/IPython/core/magics/packaging.py'>,\n",
       " 'IPython.core.pylabtools': <module 'IPython.core.pylabtools' from '/Users/thomas.steck/Library/Python/3.11/lib/python/site-packages/IPython/core/pylabtools.py'>,\n",
       " 'IPython.core.magics.pylab': <module 'IPython.core.magics.pylab' from '/Users/thomas.steck/Library/Python/3.11/lib/python/site-packages/IPython/core/magics/pylab.py'>,\n",
       " 'IPython.core.magics.script': <module 'IPython.core.magics.script' from '/Users/thomas.steck/Library/Python/3.11/lib/python/site-packages/IPython/core/magics/script.py'>,\n",
       " 'IPython.core.magics': <module 'IPython.core.magics' from '/Users/thomas.steck/Library/Python/3.11/lib/python/site-packages/IPython/core/magics/__init__.py'>,\n",
       " 'IPython.core.shellapp': <module 'IPython.core.shellapp' from '/Users/thomas.steck/Library/Python/3.11/lib/python/site-packages/IPython/core/shellapp.py'>,\n",
       " 'IPython.extensions': <module 'IPython.extensions' from '/Users/thomas.steck/Library/Python/3.11/lib/python/site-packages/IPython/extensions/__init__.py'>,\n",
       " 'IPython.extensions.storemagic': <module 'IPython.extensions.storemagic' from '/Users/thomas.steck/Library/Python/3.11/lib/python/site-packages/IPython/extensions/storemagic.py'>,\n",
       " 'IPython.terminal.ipapp': <module 'IPython.terminal.ipapp' from '/Users/thomas.steck/Library/Python/3.11/lib/python/site-packages/IPython/terminal/ipapp.py'>,\n",
       " 'IPython.terminal.embed': <module 'IPython.terminal.embed' from '/Users/thomas.steck/Library/Python/3.11/lib/python/site-packages/IPython/terminal/embed.py'>,\n",
       " 'IPython.utils.frame': <module 'IPython.utils.frame' from '/Users/thomas.steck/Library/Python/3.11/lib/python/site-packages/IPython/utils/frame.py'>,\n",
       " 'IPython': <module 'IPython' from '/Users/thomas.steck/Library/Python/3.11/lib/python/site-packages/IPython/__init__.py'>,\n",
       " 'ipykernel.control': <module 'ipykernel.control' from '/Users/thomas.steck/Library/Python/3.11/lib/python/site-packages/ipykernel/control.py'>,\n",
       " 'ipykernel.heartbeat': <module 'ipykernel.heartbeat' from '/Users/thomas.steck/Library/Python/3.11/lib/python/site-packages/ipykernel/heartbeat.py'>,\n",
       " 'ipykernel.iostream': <module 'ipykernel.iostream' from '/Users/thomas.steck/Library/Python/3.11/lib/python/site-packages/ipykernel/iostream.py'>,\n",
       " 'IPython.utils.tokenutil': <module 'IPython.utils.tokenutil' from '/Users/thomas.steck/Library/Python/3.11/lib/python/site-packages/IPython/utils/tokenutil.py'>,\n",
       " 'ipykernel.jsonutil': <module 'ipykernel.jsonutil' from '/Users/thomas.steck/Library/Python/3.11/lib/python/site-packages/ipykernel/jsonutil.py'>,\n",
       " 'pwd': <module 'pwd' (built-in)>,\n",
       " 'psutil._common': <module 'psutil._common' from '/Users/thomas.steck/Library/Python/3.11/lib/python/site-packages/psutil/_common.py'>,\n",
       " 'psutil._compat': <module 'psutil._compat' from '/Users/thomas.steck/Library/Python/3.11/lib/python/site-packages/psutil/_compat.py'>,\n",
       " 'psutil._psutil_osx': <module 'psutil._psutil_osx' from '/Users/thomas.steck/Library/Python/3.11/lib/python/site-packages/psutil/_psutil_osx.abi3.so'>,\n",
       " 'psutil._psposix': <module 'psutil._psposix' from '/Users/thomas.steck/Library/Python/3.11/lib/python/site-packages/psutil/_psposix.py'>,\n",
       " 'psutil._psutil_posix': <module 'psutil._psutil_posix' from '/Users/thomas.steck/Library/Python/3.11/lib/python/site-packages/psutil/_psutil_posix.abi3.so'>,\n",
       " 'psutil._psosx': <module 'psutil._psosx' from '/Users/thomas.steck/Library/Python/3.11/lib/python/site-packages/psutil/_psosx.py'>,\n",
       " 'psutil': <module 'psutil' from '/Users/thomas.steck/Library/Python/3.11/lib/python/site-packages/psutil/__init__.py'>,\n",
       " 'tornado.locks': <module 'tornado.locks' from '/Users/thomas.steck/Library/Python/3.11/lib/python/site-packages/tornado/locks.py'>,\n",
       " 'tornado.queues': <module 'tornado.queues' from '/Users/thomas.steck/Library/Python/3.11/lib/python/site-packages/tornado/queues.py'>,\n",
       " 'ipykernel.kernelbase': <module 'ipykernel.kernelbase' from '/Users/thomas.steck/Library/Python/3.11/lib/python/site-packages/ipykernel/kernelbase.py'>,\n",
       " 'ipykernel.comm.comm': <module 'ipykernel.comm.comm' from '/Users/thomas.steck/Library/Python/3.11/lib/python/site-packages/ipykernel/comm/comm.py'>,\n",
       " 'ipykernel.comm.manager': <module 'ipykernel.comm.manager' from '/Users/thomas.steck/Library/Python/3.11/lib/python/site-packages/ipykernel/comm/manager.py'>,\n",
       " 'ipykernel.comm': <module 'ipykernel.comm' from '/Users/thomas.steck/Library/Python/3.11/lib/python/site-packages/ipykernel/comm/__init__.py'>,\n",
       " 'ipykernel.compiler': <module 'ipykernel.compiler' from '/Users/thomas.steck/Library/Python/3.11/lib/python/site-packages/ipykernel/compiler.py'>,\n",
       " 'debugpy._version': <module 'debugpy._version' from '/Users/thomas.steck/Library/Python/3.11/lib/python/site-packages/debugpy/_version.py'>,\n",
       " 'debugpy.public_api': <module 'debugpy.public_api' from '/Users/thomas.steck/Library/Python/3.11/lib/python/site-packages/debugpy/public_api.py'>,\n",
       " 'debugpy': <module 'debugpy' from '/Users/thomas.steck/Library/Python/3.11/lib/python/site-packages/debugpy/__init__.py'>,\n",
       " 'debugpy._vendored._util': <module 'debugpy._vendored._util' from '/Users/thomas.steck/Library/Python/3.11/lib/python/site-packages/debugpy/_vendored/_util.py'>,\n",
       " 'debugpy._vendored': <module 'debugpy._vendored' from '/Users/thomas.steck/Library/Python/3.11/lib/python/site-packages/debugpy/_vendored/__init__.py'>,\n",
       " '_pydevd_bundle': <module '_pydevd_bundle' from '/Users/thomas.steck/Library/Python/3.11/lib/python/site-packages/debugpy/_vendored/pydevd/_pydevd_bundle/__init__.py'>,\n",
       " 'encodings.ascii': <module 'encodings.ascii' from '/opt/homebrew/Cellar/python@3.11/3.11.3/Frameworks/Python.framework/Versions/3.11/lib/python3.11/encodings/ascii.py'>,\n",
       " 'encodings.latin_1': <module 'encodings.latin_1' from '/opt/homebrew/Cellar/python@3.11/3.11.3/Frameworks/Python.framework/Versions/3.11/lib/python3.11/encodings/latin_1.py'>,\n",
       " 'stringprep': <module 'stringprep' from '/opt/homebrew/Cellar/python@3.11/3.11.3/Frameworks/Python.framework/Versions/3.11/lib/python3.11/stringprep.py'>,\n",
       " 'encodings.idna': <module 'encodings.idna' from '/opt/homebrew/Cellar/python@3.11/3.11.3/Frameworks/Python.framework/Versions/3.11/lib/python3.11/encodings/idna.py'>,\n",
       " '_pydevd_bundle.pydevd_vm_type': <module '_pydevd_bundle.pydevd_vm_type' from '/Users/thomas.steck/Library/Python/3.11/lib/python/site-packages/debugpy/_vendored/pydevd/_pydevd_bundle/pydevd_vm_type.py'>,\n",
       " '_pydev_bundle': <module '_pydev_bundle' from '/Users/thomas.steck/Library/Python/3.11/lib/python/site-packages/debugpy/_vendored/pydevd/_pydev_bundle/__init__.py'>,\n",
       " 'xmlrpc': <module 'xmlrpc' from '/opt/homebrew/Cellar/python@3.11/3.11.3/Frameworks/Python.framework/Versions/3.11/lib/python3.11/xmlrpc/__init__.py'>,\n",
       " 'xml.parsers': <module 'xml.parsers' from '/opt/homebrew/Cellar/python@3.11/3.11.3/Frameworks/Python.framework/Versions/3.11/lib/python3.11/xml/parsers/__init__.py'>,\n",
       " 'pyexpat.errors': <module 'pyexpat.errors'>,\n",
       " 'pyexpat.model': <module 'pyexpat.model'>,\n",
       " 'pyexpat': <module 'pyexpat' from '/opt/homebrew/Cellar/python@3.11/3.11.3/Frameworks/Python.framework/Versions/3.11/lib/python3.11/lib-dynload/pyexpat.cpython-311-darwin.so'>,\n",
       " 'xml.parsers.expat.model': <module 'pyexpat.model'>,\n",
       " 'xml.parsers.expat.errors': <module 'pyexpat.errors'>,\n",
       " 'xml.parsers.expat': <module 'xml.parsers.expat' from '/opt/homebrew/Cellar/python@3.11/3.11.3/Frameworks/Python.framework/Versions/3.11/lib/python3.11/xml/parsers/expat.py'>,\n",
       " 'gzip': <module 'gzip' from '/opt/homebrew/Cellar/python@3.11/3.11.3/Frameworks/Python.framework/Versions/3.11/lib/python3.11/gzip.py'>,\n",
       " 'xmlrpc.client': <module 'xmlrpc.client' from '/opt/homebrew/Cellar/python@3.11/3.11.3/Frameworks/Python.framework/Versions/3.11/lib/python3.11/xmlrpc/client.py'>,\n",
       " 'http.server': <module 'http.server' from '/opt/homebrew/Cellar/python@3.11/3.11.3/Frameworks/Python.framework/Versions/3.11/lib/python3.11/http/server.py'>,\n",
       " 'xmlrpc.server': <module 'xmlrpc.server' from '/opt/homebrew/Cellar/python@3.11/3.11.3/Frameworks/Python.framework/Versions/3.11/lib/python3.11/xmlrpc/server.py'>,\n",
       " '_pydev_bundle._pydev_saved_modules': <module '_pydev_bundle._pydev_saved_modules' from '/Users/thomas.steck/Library/Python/3.11/lib/python/site-packages/debugpy/_vendored/pydevd/_pydev_bundle/_pydev_saved_modules.py'>,\n",
       " '_pydevd_bundle.pydevd_constants': <module '_pydevd_bundle.pydevd_constants' from '/Users/thomas.steck/Library/Python/3.11/lib/python/site-packages/debugpy/_vendored/pydevd/_pydevd_bundle/pydevd_constants.py'>,\n",
       " '_pydev_runfiles': <module '_pydev_runfiles' from '/Users/thomas.steck/Library/Python/3.11/lib/python/site-packages/debugpy/_vendored/pydevd/_pydev_runfiles/__init__.py'>,\n",
       " '_pydevd_frame_eval': <module '_pydevd_frame_eval' from '/Users/thomas.steck/Library/Python/3.11/lib/python/site-packages/debugpy/_vendored/pydevd/_pydevd_frame_eval/__init__.py'>,\n",
       " 'pydev_ipython': <module 'pydev_ipython' from '/Users/thomas.steck/Library/Python/3.11/lib/python/site-packages/debugpy/_vendored/pydevd/pydev_ipython/__init__.py'>,\n",
       " 'plistlib': <module 'plistlib' from '/opt/homebrew/Cellar/python@3.11/3.11.3/Frameworks/Python.framework/Versions/3.11/lib/python3.11/plistlib.py'>,\n",
       " 'pkg_resources.extern': <module 'pkg_resources.extern' from '/opt/homebrew/lib/python3.11/site-packages/pkg_resources/extern/__init__.py'>,\n",
       " 'pkg_resources._vendor': <module 'pkg_resources._vendor' from '/opt/homebrew/lib/python3.11/site-packages/pkg_resources/_vendor/__init__.py'>,\n",
       " 'pkg_resources._vendor.jaraco': <module 'pkg_resources.extern.jaraco' (<pkg_resources.extern.VendorImporter object at 0x108247e10>)>,\n",
       " 'pkg_resources.extern.jaraco': <module 'pkg_resources.extern.jaraco' (<pkg_resources.extern.VendorImporter object at 0x108247e10>)>,\n",
       " 'importlib.resources.abc': <module 'importlib.resources.abc' from '/opt/homebrew/Cellar/python@3.11/3.11.3/Frameworks/Python.framework/Versions/3.11/lib/python3.11/importlib/resources/abc.py'>,\n",
       " 'importlib.resources._adapters': <module 'importlib.resources._adapters' from '/opt/homebrew/Cellar/python@3.11/3.11.3/Frameworks/Python.framework/Versions/3.11/lib/python3.11/importlib/resources/_adapters.py'>,\n",
       " 'importlib.resources._common': <module 'importlib.resources._common' from '/opt/homebrew/Cellar/python@3.11/3.11.3/Frameworks/Python.framework/Versions/3.11/lib/python3.11/importlib/resources/_common.py'>,\n",
       " 'importlib.resources._legacy': <module 'importlib.resources._legacy' from '/opt/homebrew/Cellar/python@3.11/3.11.3/Frameworks/Python.framework/Versions/3.11/lib/python3.11/importlib/resources/_legacy.py'>,\n",
       " 'importlib.resources': <module 'importlib.resources' from '/opt/homebrew/Cellar/python@3.11/3.11.3/Frameworks/Python.framework/Versions/3.11/lib/python3.11/importlib/resources/__init__.py'>,\n",
       " 'pkg_resources._vendor.more_itertools.recipes': <module 'pkg_resources._vendor.more_itertools.recipes' from '/opt/homebrew/lib/python3.11/site-packages/pkg_resources/_vendor/more_itertools/recipes.py'>,\n",
       " 'pkg_resources._vendor.more_itertools.more': <module 'pkg_resources._vendor.more_itertools.more' from '/opt/homebrew/lib/python3.11/site-packages/pkg_resources/_vendor/more_itertools/more.py'>,\n",
       " 'pkg_resources._vendor.more_itertools': <module 'pkg_resources.extern.more_itertools' (<pkg_resources.extern.VendorImporter object at 0x108247e10>)>,\n",
       " 'pkg_resources.extern.more_itertools': <module 'pkg_resources.extern.more_itertools' (<pkg_resources.extern.VendorImporter object at 0x108247e10>)>,\n",
       " 'pkg_resources.extern.jaraco.functools': <module 'pkg_resources.extern.jaraco.functools' from '/opt/homebrew/lib/python3.11/site-packages/pkg_resources/_vendor/jaraco/functools.py'>,\n",
       " 'pkg_resources.extern.jaraco.context': <module 'pkg_resources.extern.jaraco.context' from '/opt/homebrew/lib/python3.11/site-packages/pkg_resources/_vendor/jaraco/context.py'>,\n",
       " 'pkg_resources.extern.jaraco.text': <module 'pkg_resources.extern.jaraco.text' from '/opt/homebrew/lib/python3.11/site-packages/pkg_resources/_vendor/jaraco/text/__init__.py'>,\n",
       " 'pkg_resources._vendor.platformdirs.api': <module 'pkg_resources._vendor.platformdirs.api' from '/opt/homebrew/lib/python3.11/site-packages/pkg_resources/_vendor/platformdirs/api.py'>,\n",
       " 'pkg_resources._vendor.platformdirs.version': <module 'pkg_resources._vendor.platformdirs.version' from '/opt/homebrew/lib/python3.11/site-packages/pkg_resources/_vendor/platformdirs/version.py'>,\n",
       " 'pkg_resources._vendor.platformdirs.macos': <module 'pkg_resources._vendor.platformdirs.macos' from '/opt/homebrew/lib/python3.11/site-packages/pkg_resources/_vendor/platformdirs/macos.py'>,\n",
       " 'pkg_resources._vendor.platformdirs': <module 'pkg_resources.extern.platformdirs' (<pkg_resources.extern.VendorImporter object at 0x108247e10>)>,\n",
       " 'pkg_resources.extern.platformdirs': <module 'pkg_resources.extern.platformdirs' (<pkg_resources.extern.VendorImporter object at 0x108247e10>)>,\n",
       " 'pkg_resources._vendor.packaging': <module 'pkg_resources.extern.packaging' (<pkg_resources.extern.VendorImporter object at 0x108247e10>)>,\n",
       " 'pkg_resources.extern.packaging': <module 'pkg_resources.extern.packaging' (<pkg_resources.extern.VendorImporter object at 0x108247e10>)>,\n",
       " 'pkg_resources.extern.packaging._structures': <module 'pkg_resources.extern.packaging._structures' from '/opt/homebrew/lib/python3.11/site-packages/pkg_resources/_vendor/packaging/_structures.py'>,\n",
       " 'pkg_resources.extern.packaging.version': <module 'pkg_resources.extern.packaging.version' from '/opt/homebrew/lib/python3.11/site-packages/pkg_resources/_vendor/packaging/version.py'>,\n",
       " 'pkg_resources._vendor.packaging._elffile': <module 'pkg_resources._vendor.packaging._elffile' from '/opt/homebrew/lib/python3.11/site-packages/pkg_resources/_vendor/packaging/_elffile.py'>,\n",
       " 'pkg_resources._vendor.packaging._manylinux': <module 'pkg_resources._vendor.packaging._manylinux' from '/opt/homebrew/lib/python3.11/site-packages/pkg_resources/_vendor/packaging/_manylinux.py'>,\n",
       " 'pkg_resources._vendor.packaging._musllinux': <module 'pkg_resources._vendor.packaging._musllinux' from '/opt/homebrew/lib/python3.11/site-packages/pkg_resources/_vendor/packaging/_musllinux.py'>,\n",
       " 'pkg_resources.extern.packaging.tags': <module 'pkg_resources.extern.packaging.tags' from '/opt/homebrew/lib/python3.11/site-packages/pkg_resources/_vendor/packaging/tags.py'>,\n",
       " 'pkg_resources.extern.packaging.utils': <module 'pkg_resources.extern.packaging.utils' from '/opt/homebrew/lib/python3.11/site-packages/pkg_resources/_vendor/packaging/utils.py'>,\n",
       " 'pkg_resources.extern.packaging.specifiers': <module 'pkg_resources.extern.packaging.specifiers' from '/opt/homebrew/lib/python3.11/site-packages/pkg_resources/_vendor/packaging/specifiers.py'>,\n",
       " 'pkg_resources.extern.packaging._tokenizer': <module 'pkg_resources.extern.packaging._tokenizer' from '/opt/homebrew/lib/python3.11/site-packages/pkg_resources/_vendor/packaging/_tokenizer.py'>,\n",
       " 'pkg_resources.extern.packaging._parser': <module 'pkg_resources.extern.packaging._parser' from '/opt/homebrew/lib/python3.11/site-packages/pkg_resources/_vendor/packaging/_parser.py'>,\n",
       " 'pkg_resources.extern.packaging.markers': <module 'pkg_resources.extern.packaging.markers' from '/opt/homebrew/lib/python3.11/site-packages/pkg_resources/_vendor/packaging/markers.py'>,\n",
       " 'pkg_resources.extern.packaging.requirements': <module 'pkg_resources.extern.packaging.requirements' from '/opt/homebrew/lib/python3.11/site-packages/pkg_resources/_vendor/packaging/requirements.py'>,\n",
       " 'pkg_resources': <module 'pkg_resources' from '/opt/homebrew/lib/python3.11/site-packages/pkg_resources/__init__.py'>,\n",
       " 'pydevd_plugins': <module 'pydevd_plugins' from '/Users/thomas.steck/Library/Python/3.11/lib/python/site-packages/debugpy/_vendored/pydevd/pydevd_plugins/__init__.py'>,\n",
       " '_pydev_bundle.pydev_log': <module '_pydev_bundle.pydev_log' from '/Users/thomas.steck/Library/Python/3.11/lib/python/site-packages/debugpy/_vendored/pydevd/_pydev_bundle/pydev_log.py'>,\n",
       " '_pydev_bundle._pydev_filesystem_encoding': <module '_pydev_bundle._pydev_filesystem_encoding' from '/Users/thomas.steck/Library/Python/3.11/lib/python/site-packages/debugpy/_vendored/pydevd/_pydev_bundle/_pydev_filesystem_encoding.py'>,\n",
       " '_pydevd_bundle.pydevd_comm_constants': <module '_pydevd_bundle.pydevd_comm_constants' from '/Users/thomas.steck/Library/Python/3.11/lib/python/site-packages/debugpy/_vendored/pydevd/_pydevd_bundle/pydevd_comm_constants.py'>,\n",
       " 'pydevd_file_utils': <module 'pydevd_file_utils' from '/Users/thomas.steck/Library/Python/3.11/lib/python/site-packages/debugpy/_vendored/pydevd/pydevd_file_utils.py'>,\n",
       " '_pydev_bundle._pydev_execfile': <module '_pydev_bundle._pydev_execfile' from '/Users/thomas.steck/Library/Python/3.11/lib/python/site-packages/debugpy/_vendored/pydevd/_pydev_bundle/_pydev_execfile.py'>,\n",
       " '_pydevd_bundle.pydevd_exec2': <module '_pydevd_bundle.pydevd_exec2' from '/Users/thomas.steck/Library/Python/3.11/lib/python/site-packages/debugpy/_vendored/pydevd/_pydevd_bundle/pydevd_exec2.py'>,\n",
       " '_pydev_bundle.pydev_imports': <module '_pydev_bundle.pydev_imports' from '/Users/thomas.steck/Library/Python/3.11/lib/python/site-packages/debugpy/_vendored/pydevd/_pydev_bundle/pydev_imports.py'>,\n",
       " '_pydev_bundle.pydev_is_thread_alive': <module '_pydev_bundle.pydev_is_thread_alive' from '/Users/thomas.steck/Library/Python/3.11/lib/python/site-packages/debugpy/_vendored/pydevd/_pydev_bundle/pydev_is_thread_alive.py'>,\n",
       " '_pydev_bundle.pydev_override': <module '_pydev_bundle.pydev_override' from '/Users/thomas.steck/Library/Python/3.11/lib/python/site-packages/debugpy/_vendored/pydevd/_pydev_bundle/pydev_override.py'>,\n",
       " 'pydevd_plugins.extensions': <module 'pydevd_plugins.extensions' from '/Users/thomas.steck/Library/Python/3.11/lib/python/site-packages/debugpy/_vendored/pydevd/pydevd_plugins/extensions/__init__.py'>,\n",
       " '_pydevd_bundle.pydevd_extension_utils': <module '_pydevd_bundle.pydevd_extension_utils' from '/Users/thomas.steck/Library/Python/3.11/lib/python/site-packages/debugpy/_vendored/pydevd/_pydevd_bundle/pydevd_extension_utils.py'>,\n",
       " '_pydevd_bundle.pydevd_frame_utils': <module '_pydevd_bundle.pydevd_frame_utils' from '/Users/thomas.steck/Library/Python/3.11/lib/python/site-packages/debugpy/_vendored/pydevd/_pydevd_bundle/pydevd_frame_utils.py'>,\n",
       " '_pydevd_bundle.pydevd_filtering': <module '_pydevd_bundle.pydevd_filtering' from '/Users/thomas.steck/Library/Python/3.11/lib/python/site-packages/debugpy/_vendored/pydevd/_pydevd_bundle/pydevd_filtering.py'>,\n",
       " '_pydevd_bundle.pydevd_io': <module '_pydevd_bundle.pydevd_io' from '/Users/thomas.steck/Library/Python/3.11/lib/python/site-packages/debugpy/_vendored/pydevd/_pydevd_bundle/pydevd_io.py'>,\n",
       " '_pydevd_bundle.pydevd_defaults': <module '_pydevd_bundle.pydevd_defaults' from '/Users/thomas.steck/Library/Python/3.11/lib/python/site-packages/debugpy/_vendored/pydevd/_pydevd_bundle/pydevd_defaults.py'>,\n",
       " '_pydevd_bundle.pydevd_utils': <module '_pydevd_bundle.pydevd_utils' from '/Users/thomas.steck/Library/Python/3.11/lib/python/site-packages/debugpy/_vendored/pydevd/_pydevd_bundle/pydevd_utils.py'>,\n",
       " '_pydevd_bundle.pydevd_runpy': <module '_pydevd_bundle.pydevd_runpy' from '/Users/thomas.steck/Library/Python/3.11/lib/python/site-packages/debugpy/_vendored/pydevd/_pydevd_bundle/pydevd_runpy.py'>,\n",
       " '_pydev_bundle._pydev_tipper_common': <module '_pydev_bundle._pydev_tipper_common' from '/Users/thomas.steck/Library/Python/3.11/lib/python/site-packages/debugpy/_vendored/pydevd/_pydev_bundle/_pydev_tipper_common.py'>,\n",
       " '_pydev_bundle._pydev_imports_tipper': <module '_pydev_bundle._pydev_imports_tipper' from '/Users/thomas.steck/Library/Python/3.11/lib/python/site-packages/debugpy/_vendored/pydevd/_pydev_bundle/_pydev_imports_tipper.py'>,\n",
       " '_pydev_bundle._pydev_calltip_util': <module '_pydev_bundle._pydev_calltip_util' from '/Users/thomas.steck/Library/Python/3.11/lib/python/site-packages/debugpy/_vendored/pydevd/_pydev_bundle/_pydev_calltip_util.py'>,\n",
       " '_pydevd_bundle.pydevd_safe_repr': <module '_pydevd_bundle.pydevd_safe_repr' from '/Users/thomas.steck/Library/Python/3.11/lib/python/site-packages/debugpy/_vendored/pydevd/_pydevd_bundle/pydevd_safe_repr.py'>,\n",
       " '_pydevd_bundle.pydevd_resolver': <module '_pydevd_bundle.pydevd_resolver' from '/Users/thomas.steck/Library/Python/3.11/lib/python/site-packages/debugpy/_vendored/pydevd/_pydevd_bundle/pydevd_resolver.py'>,\n",
       " '_pydevd_bundle.pydevd_extension_api': <module '_pydevd_bundle.pydevd_extension_api' from '/Users/thomas.steck/Library/Python/3.11/lib/python/site-packages/debugpy/_vendored/pydevd/_pydevd_bundle/pydevd_extension_api.py'>,\n",
       " '_pydevd_bundle.pydevd_xml': <module '_pydevd_bundle.pydevd_xml' from '/Users/thomas.steck/Library/Python/3.11/lib/python/site-packages/debugpy/_vendored/pydevd/_pydevd_bundle/pydevd_xml.py'>,\n",
       " '_pydevd_bundle.pydevd_dont_trace': <module '_pydevd_bundle.pydevd_dont_trace' from '/Users/thomas.steck/Library/Python/3.11/lib/python/site-packages/debugpy/_vendored/pydevd/_pydevd_bundle/pydevd_dont_trace.py'>,\n",
       " '_pydevd_frame_eval.vendored': <module '_pydevd_frame_eval.vendored' from '/Users/thomas.steck/Library/Python/3.11/lib/python/site-packages/debugpy/_vendored/pydevd/_pydevd_frame_eval/vendored/__init__.py'>,\n",
       " '_pydevd_frame_eval.vendored.bytecode.flags': <module '_pydevd_frame_eval.vendored.bytecode.flags' from '/Users/thomas.steck/Library/Python/3.11/lib/python/site-packages/debugpy/_vendored/pydevd/_pydevd_frame_eval/vendored/bytecode/flags.py'>,\n",
       " '_pydevd_frame_eval.vendored.bytecode.instr': <module '_pydevd_frame_eval.vendored.bytecode.instr' from '/Users/thomas.steck/Library/Python/3.11/lib/python/site-packages/debugpy/_vendored/pydevd/_pydevd_frame_eval/vendored/bytecode/instr.py'>,\n",
       " '_pydevd_frame_eval.vendored.bytecode.bytecode': <module '_pydevd_frame_eval.vendored.bytecode.bytecode' from '/Users/thomas.steck/Library/Python/3.11/lib/python/site-packages/debugpy/_vendored/pydevd/_pydevd_frame_eval/vendored/bytecode/bytecode.py'>,\n",
       " '_pydevd_frame_eval.vendored.bytecode.concrete': <module '_pydevd_frame_eval.vendored.bytecode.concrete' from '/Users/thomas.steck/Library/Python/3.11/lib/python/site-packages/debugpy/_vendored/pydevd/_pydevd_frame_eval/vendored/bytecode/concrete.py'>,\n",
       " '_pydevd_frame_eval.vendored.bytecode.cfg': <module '_pydevd_frame_eval.vendored.bytecode.cfg' from '/Users/thomas.steck/Library/Python/3.11/lib/python/site-packages/debugpy/_vendored/pydevd/_pydevd_frame_eval/vendored/bytecode/cfg.py'>,\n",
       " '_pydevd_frame_eval.vendored.bytecode': <module '_pydevd_frame_eval.vendored.bytecode' from '/Users/thomas.steck/Library/Python/3.11/lib/python/site-packages/debugpy/_vendored/pydevd/_pydevd_frame_eval/vendored/bytecode/__init__.py'>,\n",
       " '_pydevd_bundle.pydevd_bytecode_utils': <module '_pydevd_bundle.pydevd_bytecode_utils' from '/Users/thomas.steck/Library/Python/3.11/lib/python/site-packages/debugpy/_vendored/pydevd/_pydevd_bundle/pydevd_bytecode_utils.py'>,\n",
       " '_pydevd_bundle.pydevd_frame': <module '_pydevd_bundle.pydevd_frame' from '/Users/thomas.steck/Library/Python/3.11/lib/python/site-packages/debugpy/_vendored/pydevd/_pydevd_bundle/pydevd_frame.py'>,\n",
       " '_pydevd_bundle.pydevd_additional_thread_info_regular': <module '_pydevd_bundle.pydevd_additional_thread_info_regular' from '/Users/thomas.steck/Library/Python/3.11/lib/python/site-packages/debugpy/_vendored/pydevd/_pydevd_bundle/pydevd_additional_thread_info_regular.py'>,\n",
       " '_pydevd_bundle.pydevd_additional_thread_info': <module '_pydevd_bundle.pydevd_additional_thread_info' from '/Users/thomas.steck/Library/Python/3.11/lib/python/site-packages/debugpy/_vendored/pydevd/_pydevd_bundle/pydevd_additional_thread_info.py'>,\n",
       " '_pydevd_bundle.pydevd_thread_lifecycle': <module '_pydevd_bundle.pydevd_thread_lifecycle' from '/Users/thomas.steck/Library/Python/3.11/lib/python/site-packages/debugpy/_vendored/pydevd/_pydevd_bundle/pydevd_thread_lifecycle.py'>,\n",
       " '_pydevd_bundle.pydevd_save_locals': <module '_pydevd_bundle.pydevd_save_locals' from '/Users/thomas.steck/Library/Python/3.11/lib/python/site-packages/debugpy/_vendored/pydevd/_pydevd_bundle/pydevd_save_locals.py'>,\n",
       " '_pydev_bundle.pydev_monkey': <module '_pydev_bundle.pydev_monkey' from '/Users/thomas.steck/Library/Python/3.11/lib/python/site-packages/debugpy/_vendored/pydevd/_pydev_bundle/pydev_monkey.py'>,\n",
       " 'pydevd_tracing': <module 'pydevd_tracing' from '/Users/thomas.steck/Library/Python/3.11/lib/python/site-packages/debugpy/_vendored/pydevd/pydevd_tracing.py'>,\n",
       " '_pydevd_bundle.pydevd_collect_bytecode_info': <module '_pydevd_bundle.pydevd_collect_bytecode_info' from '/Users/thomas.steck/Library/Python/3.11/lib/python/site-packages/debugpy/_vendored/pydevd/_pydevd_bundle/pydevd_collect_bytecode_info.py'>,\n",
       " '_pydevd_bundle.pydevd_daemon_thread': <module '_pydevd_bundle.pydevd_daemon_thread' from '/Users/thomas.steck/Library/Python/3.11/lib/python/site-packages/debugpy/_vendored/pydevd/_pydevd_bundle/pydevd_daemon_thread.py'>,\n",
       " '_pydevd_bundle.pydevd_timeout': <module '_pydevd_bundle.pydevd_timeout' from '/Users/thomas.steck/Library/Python/3.11/lib/python/site-packages/debugpy/_vendored/pydevd/_pydevd_bundle/pydevd_timeout.py'>,\n",
       " '_pydevd_bundle.pydevd_vars': <module '_pydevd_bundle.pydevd_vars' from '/Users/thomas.steck/Library/Python/3.11/lib/python/site-packages/debugpy/_vendored/pydevd/_pydevd_bundle/pydevd_vars.py'>,\n",
       " '_pydev_bundle.pydev_console_utils': <module '_pydev_bundle.pydev_console_utils' from '/Users/thomas.steck/Library/Python/3.11/lib/python/site-packages/debugpy/_vendored/pydevd/_pydev_bundle/pydev_console_utils.py'>,\n",
       " '_pydevd_bundle.pydevd_import_class': <module '_pydevd_bundle.pydevd_import_class' from '/Users/thomas.steck/Library/Python/3.11/lib/python/site-packages/debugpy/_vendored/pydevd/_pydevd_bundle/pydevd_import_class.py'>,\n",
       " '_pydevd_bundle.pydevd_breakpoints': <module '_pydevd_bundle.pydevd_breakpoints' from '/Users/thomas.steck/Library/Python/3.11/lib/python/site-packages/debugpy/_vendored/pydevd/_pydevd_bundle/pydevd_breakpoints.py'>,\n",
       " '_pydevd_bundle.pydevd_custom_frames': <module '_pydevd_bundle.pydevd_custom_frames' from '/Users/thomas.steck/Library/Python/3.11/lib/python/site-packages/debugpy/_vendored/pydevd/_pydevd_bundle/pydevd_custom_frames.py'>,\n",
       " '_pydevd_bundle.pydevd_dont_trace_files': <module '_pydevd_bundle.pydevd_dont_trace_files' from '/Users/thomas.steck/Library/Python/3.11/lib/python/site-packages/debugpy/_vendored/pydevd/_pydevd_bundle/pydevd_dont_trace_files.py'>,\n",
       " '_pydevd_bundle.pydevd_net_command': <module '_pydevd_bundle.pydevd_net_command' from '/Users/thomas.steck/Library/Python/3.11/lib/python/site-packages/debugpy/_vendored/pydevd/_pydevd_bundle/pydevd_net_command.py'>,\n",
       " '_pydevd_bundle.pydevconsole_code': <module '_pydevd_bundle.pydevconsole_code' from '/Users/thomas.steck/Library/Python/3.11/lib/python/site-packages/debugpy/_vendored/pydevd/_pydevd_bundle/pydevconsole_code.py'>,\n",
       " '_pydev_bundle.pydev_umd': <module '_pydev_bundle.pydev_umd' from '/Users/thomas.steck/Library/Python/3.11/lib/python/site-packages/debugpy/_vendored/pydevd/_pydev_bundle/pydev_umd.py'>,\n",
       " 'pydevconsole': <module 'pydevconsole' from '/Users/thomas.steck/Library/Python/3.11/lib/python/site-packages/debugpy/_vendored/pydevd/pydevconsole.py'>,\n",
       " '_pydev_bundle._pydev_completer': <module '_pydev_bundle._pydev_completer' from '/Users/thomas.steck/Library/Python/3.11/lib/python/site-packages/debugpy/_vendored/pydevd/_pydev_bundle/_pydev_completer.py'>,\n",
       " '_pydevd_bundle.pydevd_net_command_factory_xml': <module '_pydevd_bundle.pydevd_net_command_factory_xml' from '/Users/thomas.steck/Library/Python/3.11/lib/python/site-packages/debugpy/_vendored/pydevd/_pydevd_bundle/pydevd_net_command_factory_xml.py'>,\n",
       " '_pydevd_bundle.pydevd_trace_dispatch_regular': <module '_pydevd_bundle.pydevd_trace_dispatch_regular' from '/Users/thomas.steck/Library/Python/3.11/lib/python/site-packages/debugpy/_vendored/pydevd/_pydevd_bundle/pydevd_trace_dispatch_regular.py'>,\n",
       " '_pydevd_bundle.pydevd_trace_dispatch': <module '_pydevd_bundle.pydevd_trace_dispatch' from '/Users/thomas.steck/Library/Python/3.11/lib/python/site-packages/debugpy/_vendored/pydevd/_pydevd_bundle/pydevd_trace_dispatch.py'>,\n",
       " '_pydevd_frame_eval.pydevd_frame_eval_main': <module '_pydevd_frame_eval.pydevd_frame_eval_main' from '/Users/thomas.steck/Library/Python/3.11/lib/python/site-packages/debugpy/_vendored/pydevd/_pydevd_frame_eval/pydevd_frame_eval_main.py'>,\n",
       " '_pydevd_bundle.pydevd_source_mapping': <module '_pydevd_bundle.pydevd_source_mapping' from '/Users/thomas.steck/Library/Python/3.11/lib/python/site-packages/debugpy/_vendored/pydevd/_pydevd_bundle/pydevd_source_mapping.py'>,\n",
       " '_pydevd_bundle.pydevd_concurrency_analyser': <module '_pydevd_bundle.pydevd_concurrency_analyser' from '/Users/thomas.steck/Library/Python/3.11/lib/python/site-packages/debugpy/_vendored/pydevd/_pydevd_bundle/pydevd_concurrency_analyser/__init__.py'>,\n",
       " '_pydevd_bundle.pydevd_concurrency_analyser.pydevd_thread_wrappers': <module '_pydevd_bundle.pydevd_concurrency_analyser.pydevd_thread_wrappers' from '/Users/thomas.steck/Library/Python/3.11/lib/python/site-packages/debugpy/_vendored/pydevd/_pydevd_bundle/pydevd_concurrency_analyser/pydevd_thread_wrappers.py'>,\n",
       " '_pydevd_bundle.pydevd_concurrency_analyser.pydevd_concurrency_logger': <module '_pydevd_bundle.pydevd_concurrency_analyser.pydevd_concurrency_logger' from '/Users/thomas.steck/Library/Python/3.11/lib/python/site-packages/debugpy/_vendored/pydevd/_pydevd_bundle/pydevd_concurrency_analyser/pydevd_concurrency_logger.py'>,\n",
       " '_pydevd_bundle._debug_adapter': <module '_pydevd_bundle._debug_adapter' from '/Users/thomas.steck/Library/Python/3.11/lib/python/site-packages/debugpy/_vendored/pydevd/_pydevd_bundle/_debug_adapter/__init__.py'>,\n",
       " '_pydevd_bundle._debug_adapter.pydevd_schema_log': <module '_pydevd_bundle._debug_adapter.pydevd_schema_log' from '/Users/thomas.steck/Library/Python/3.11/lib/python/site-packages/debugpy/_vendored/pydevd/_pydevd_bundle/_debug_adapter/pydevd_schema_log.py'>,\n",
       " '_pydevd_bundle._debug_adapter.pydevd_base_schema': <module '_pydevd_bundle._debug_adapter.pydevd_base_schema' from '/Users/thomas.steck/Library/Python/3.11/lib/python/site-packages/debugpy/_vendored/pydevd/_pydevd_bundle/_debug_adapter/pydevd_base_schema.py'>,\n",
       " '_pydevd_bundle._debug_adapter.pydevd_schema': <module '_pydevd_bundle._debug_adapter.pydevd_schema' from '/Users/thomas.steck/Library/Python/3.11/lib/python/site-packages/debugpy/_vendored/pydevd/_pydevd_bundle/_debug_adapter/pydevd_schema.py'>,\n",
       " '_pydevd_bundle.pydevd_reload': <module '_pydevd_bundle.pydevd_reload' from '/Users/thomas.steck/Library/Python/3.11/lib/python/site-packages/debugpy/_vendored/pydevd/_pydevd_bundle/pydevd_reload.py'>,\n",
       " '_pydev_bundle.fsnotify': <module '_pydev_bundle.fsnotify' from '/Users/thomas.steck/Library/Python/3.11/lib/python/site-packages/debugpy/_vendored/pydevd/_pydev_bundle/fsnotify/__init__.py'>,\n",
       " '_pydevd_bundle.pydevd_console': <module '_pydevd_bundle.pydevd_console' from '/Users/thomas.steck/Library/Python/3.11/lib/python/site-packages/debugpy/_vendored/pydevd/_pydevd_bundle/pydevd_console.py'>,\n",
       " '_pydevd_bundle.pydevd_comm': <module '_pydevd_bundle.pydevd_comm' from '/Users/thomas.steck/Library/Python/3.11/lib/python/site-packages/debugpy/_vendored/pydevd/_pydevd_bundle/pydevd_comm.py'>,\n",
       " '_pydevd_bundle.pydevd_net_command_factory_json': <module '_pydevd_bundle.pydevd_net_command_factory_json' from '/Users/thomas.steck/Library/Python/3.11/lib/python/site-packages/debugpy/_vendored/pydevd/_pydevd_bundle/pydevd_net_command_factory_json.py'>,\n",
       " '_pydevd_bundle.pydevd_api': <module '_pydevd_bundle.pydevd_api' from '/Users/thomas.steck/Library/Python/3.11/lib/python/site-packages/debugpy/_vendored/pydevd/_pydevd_bundle/pydevd_api.py'>,\n",
       " '_pydevd_bundle.pydevd_json_debug_options': <module '_pydevd_bundle.pydevd_json_debug_options' from '/Users/thomas.steck/Library/Python/3.11/lib/python/site-packages/debugpy/_vendored/pydevd/_pydevd_bundle/pydevd_json_debug_options.py'>,\n",
       " '_pydevd_bundle.pydevd_process_net_command_json': <module '_pydevd_bundle.pydevd_process_net_command_json' from '/Users/thomas.steck/Library/Python/3.11/lib/python/site-packages/debugpy/_vendored/pydevd/_pydevd_bundle/pydevd_process_net_command_json.py'>,\n",
       " '_pydevd_bundle.pydevd_traceproperty': <module '_pydevd_bundle.pydevd_traceproperty' from '/Users/thomas.steck/Library/Python/3.11/lib/python/site-packages/debugpy/_vendored/pydevd/_pydevd_bundle/pydevd_traceproperty.py'>,\n",
       " '_pydevd_bundle.pydevd_process_net_command': <module '_pydevd_bundle.pydevd_process_net_command' from '/Users/thomas.steck/Library/Python/3.11/lib/python/site-packages/debugpy/_vendored/pydevd/_pydevd_bundle/pydevd_process_net_command.py'>,\n",
       " '_pydevd_bundle.pydevd_suspended_frames': <module '_pydevd_bundle.pydevd_suspended_frames' from '/Users/thomas.steck/Library/Python/3.11/lib/python/site-packages/debugpy/_vendored/pydevd/_pydevd_bundle/pydevd_suspended_frames.py'>,\n",
       " '_pydevd_bundle.pydevd_trace_api': <module '_pydevd_bundle.pydevd_trace_api' from '/Users/thomas.steck/Library/Python/3.11/lib/python/site-packages/debugpy/_vendored/pydevd/_pydevd_bundle/pydevd_trace_api.py'>,\n",
       " 'pydevd_plugins.pydevd_line_validation': <module 'pydevd_plugins.pydevd_line_validation' from '/Users/thomas.steck/Library/Python/3.11/lib/python/site-packages/debugpy/_vendored/pydevd/pydevd_plugins/pydevd_line_validation.py'>,\n",
       " 'pydevd_plugins.django_debug': <module 'pydevd_plugins.django_debug' from '/Users/thomas.steck/Library/Python/3.11/lib/python/site-packages/debugpy/_vendored/pydevd/pydevd_plugins/django_debug.py'>,\n",
       " 'pydevd_plugins.jinja2_debug': <module 'pydevd_plugins.jinja2_debug' from '/Users/thomas.steck/Library/Python/3.11/lib/python/site-packages/debugpy/_vendored/pydevd/pydevd_plugins/jinja2_debug.py'>,\n",
       " '_pydevd_bundle.pydevd_plugin_utils': <module '_pydevd_bundle.pydevd_plugin_utils' from '/Users/thomas.steck/Library/Python/3.11/lib/python/site-packages/debugpy/_vendored/pydevd/_pydevd_bundle/pydevd_plugin_utils.py'>,\n",
       " 'pydevd_plugins.extensions.types': <module 'pydevd_plugins.extensions.types' from '/Users/thomas.steck/Library/Python/3.11/lib/python/site-packages/debugpy/_vendored/pydevd/pydevd_plugins/extensions/types/__init__.py'>,\n",
       " 'pydevd_plugins.extensions.types.pydevd_helpers': <module 'pydevd_plugins.extensions.types.pydevd_helpers' from '/Users/thomas.steck/Library/Python/3.11/lib/python/site-packages/debugpy/_vendored/pydevd/pydevd_plugins/extensions/types/pydevd_helpers.py'>,\n",
       " 'pydevd_plugins.extensions.types.pydevd_plugin_numpy_types': <module 'pydevd_plugins.extensions.types.pydevd_plugin_numpy_types' from '/Users/thomas.steck/Library/Python/3.11/lib/python/site-packages/debugpy/_vendored/pydevd/pydevd_plugins/extensions/types/pydevd_plugin_numpy_types.py'>,\n",
       " 'pydevd_plugins.extensions.types.pydevd_plugin_pandas_types': <module 'pydevd_plugins.extensions.types.pydevd_plugin_pandas_types' from '/Users/thomas.steck/Library/Python/3.11/lib/python/site-packages/debugpy/_vendored/pydevd/pydevd_plugins/extensions/types/pydevd_plugin_pandas_types.py'>,\n",
       " 'pydevd_plugins.extensions.types.pydevd_plugins_django_form_str': <module 'pydevd_plugins.extensions.types.pydevd_plugins_django_form_str' from '/Users/thomas.steck/Library/Python/3.11/lib/python/site-packages/debugpy/_vendored/pydevd/pydevd_plugins/extensions/types/pydevd_plugins_django_form_str.py'>,\n",
       " 'pydevd': <module 'pydevd' from '/Users/thomas.steck/Library/Python/3.11/lib/python/site-packages/debugpy/_vendored/pydevd/pydevd.py'>,\n",
       " 'debugpy._vendored.force_pydevd': <module 'debugpy._vendored.force_pydevd' from '/Users/thomas.steck/Library/Python/3.11/lib/python/site-packages/debugpy/_vendored/force_pydevd.py'>,\n",
       " 'debugpy.server': <module 'debugpy.server' from '/Users/thomas.steck/Library/Python/3.11/lib/python/site-packages/debugpy/server/__init__.py'>,\n",
       " 'debugpy.adapter': <module 'debugpy.adapter' from '/Users/thomas.steck/Library/Python/3.11/lib/python/site-packages/debugpy/adapter/__init__.py'>,\n",
       " 'debugpy.common': <module 'debugpy.common' from '/Users/thomas.steck/Library/Python/3.11/lib/python/site-packages/debugpy/common/__init__.py'>,\n",
       " 'debugpy.common.json': <module 'debugpy.common.json' from '/Users/thomas.steck/Library/Python/3.11/lib/python/site-packages/debugpy/common/json.py'>,\n",
       " 'debugpy.common.timestamp': <module 'debugpy.common.timestamp' from '/Users/thomas.steck/Library/Python/3.11/lib/python/site-packages/debugpy/common/timestamp.py'>,\n",
       " 'debugpy.common.util': <module 'debugpy.common.util' from '/Users/thomas.steck/Library/Python/3.11/lib/python/site-packages/debugpy/common/util.py'>,\n",
       " 'debugpy.common.log': <module 'debugpy.common.log' from '/Users/thomas.steck/Library/Python/3.11/lib/python/site-packages/debugpy/common/log.py'>,\n",
       " 'debugpy.common.sockets': <module 'debugpy.common.sockets' from '/Users/thomas.steck/Library/Python/3.11/lib/python/site-packages/debugpy/common/sockets.py'>,\n",
       " 'debugpy.server.api': <module 'debugpy.server.api' from '/Users/thomas.steck/Library/Python/3.11/lib/python/site-packages/debugpy/server/api.py'>,\n",
       " 'ipykernel.debugger': <module 'ipykernel.debugger' from '/Users/thomas.steck/Library/Python/3.11/lib/python/site-packages/ipykernel/debugger.py'>,\n",
       " 'packaging.__about__': <module 'packaging.__about__' from '/opt/homebrew/lib/python3.11/site-packages/packaging/__about__.py'>,\n",
       " 'packaging': <module 'packaging' from '/opt/homebrew/lib/python3.11/site-packages/packaging/__init__.py'>,\n",
       " 'packaging._structures': <module 'packaging._structures' from '/opt/homebrew/lib/python3.11/site-packages/packaging/_structures.py'>,\n",
       " 'packaging.version': <module 'packaging.version' from '/opt/homebrew/lib/python3.11/site-packages/packaging/version.py'>,\n",
       " 'ipykernel.eventloops': <module 'ipykernel.eventloops' from '/Users/thomas.steck/Library/Python/3.11/lib/python/site-packages/ipykernel/eventloops.py'>,\n",
       " 'IPython.core.payloadpage': <module 'IPython.core.payloadpage' from '/Users/thomas.steck/Library/Python/3.11/lib/python/site-packages/IPython/core/payloadpage.py'>,\n",
       " 'ipykernel.displayhook': <module 'ipykernel.displayhook' from '/Users/thomas.steck/Library/Python/3.11/lib/python/site-packages/ipykernel/displayhook.py'>,\n",
       " 'ipykernel.zmqshell': <module 'ipykernel.zmqshell' from '/Users/thomas.steck/Library/Python/3.11/lib/python/site-packages/ipykernel/zmqshell.py'>,\n",
       " 'ipykernel.ipkernel': <module 'ipykernel.ipkernel' from '/Users/thomas.steck/Library/Python/3.11/lib/python/site-packages/ipykernel/ipkernel.py'>,\n",
       " 'ipykernel.parentpoller': <module 'ipykernel.parentpoller' from '/Users/thomas.steck/Library/Python/3.11/lib/python/site-packages/ipykernel/parentpoller.py'>,\n",
       " 'ipykernel.kernelapp': <module 'ipykernel.kernelapp' from '/Users/thomas.steck/Library/Python/3.11/lib/python/site-packages/ipykernel/kernelapp.py'>,\n",
       " 'faulthandler': <module 'faulthandler' (built-in)>,\n",
       " 'IPython.core.completerlib': <module 'IPython.core.completerlib' from '/Users/thomas.steck/Library/Python/3.11/lib/python/site-packages/IPython/core/completerlib.py'>,\n",
       " 'ctypes.macholib': <module 'ctypes.macholib' from '/opt/homebrew/Cellar/python@3.11/3.11.3/Frameworks/Python.framework/Versions/3.11/lib/python3.11/ctypes/macholib/__init__.py'>,\n",
       " 'ctypes.macholib.framework': <module 'ctypes.macholib.framework' from '/opt/homebrew/Cellar/python@3.11/3.11.3/Frameworks/Python.framework/Versions/3.11/lib/python3.11/ctypes/macholib/framework.py'>,\n",
       " 'ctypes.macholib.dylib': <module 'ctypes.macholib.dylib' from '/opt/homebrew/Cellar/python@3.11/3.11.3/Frameworks/Python.framework/Versions/3.11/lib/python3.11/ctypes/macholib/dylib.py'>,\n",
       " 'ctypes.macholib.dyld': <module 'ctypes.macholib.dyld' from '/opt/homebrew/Cellar/python@3.11/3.11.3/Frameworks/Python.framework/Versions/3.11/lib/python3.11/ctypes/macholib/dyld.py'>,\n",
       " 'ctypes.util': <module 'ctypes.util' from '/opt/homebrew/Cellar/python@3.11/3.11.3/Frameworks/Python.framework/Versions/3.11/lib/python3.11/ctypes/util.py'>,\n",
       " 'appnope._nope': <module 'appnope._nope' from '/Users/thomas.steck/Library/Python/3.11/lib/python/site-packages/appnope/_nope.py'>,\n",
       " 'appnope': <module 'appnope' from '/Users/thomas.steck/Library/Python/3.11/lib/python/site-packages/appnope/__init__.py'>}"
      ]
     },
     "execution_count": 24,
     "metadata": {},
     "output_type": "execute_result"
    }
   ],
   "source": [
    "sys.modules"
   ]
  },
  {
   "cell_type": "code",
   "execution_count": 25,
   "metadata": {},
   "outputs": [
    {
     "data": {
      "text/plain": [
       "dict"
      ]
     },
     "execution_count": 25,
     "metadata": {},
     "output_type": "execute_result"
    }
   ],
   "source": [
    "type(sys.modules)"
   ]
  },
  {
   "cell_type": "code",
   "execution_count": 26,
   "metadata": {},
   "outputs": [
    {
     "data": {
      "text/plain": [
       "<module 'math' from '/opt/homebrew/Cellar/python@3.11/3.11.3/Frameworks/Python.framework/Versions/3.11/lib/python3.11/lib-dynload/math.cpython-311-darwin.so'>"
      ]
     },
     "execution_count": 26,
     "metadata": {},
     "output_type": "execute_result"
    }
   ],
   "source": [
    "sys.modules[\"math\"]"
   ]
  },
  {
   "cell_type": "code",
   "execution_count": 27,
   "metadata": {},
   "outputs": [
    {
     "data": {
      "text/plain": [
       "4347504224"
      ]
     },
     "execution_count": 27,
     "metadata": {},
     "output_type": "execute_result"
    }
   ],
   "source": [
    "id(sys.modules[\"math\"])"
   ]
  },
  {
   "cell_type": "code",
   "execution_count": 28,
   "metadata": {},
   "outputs": [],
   "source": [
    "f = math.__dict__[\"sqrt\"]"
   ]
  },
  {
   "cell_type": "code",
   "execution_count": 29,
   "metadata": {},
   "outputs": [
    {
     "data": {
      "text/plain": [
       "1.4142135623730951"
      ]
     },
     "execution_count": 29,
     "metadata": {},
     "output_type": "execute_result"
    }
   ],
   "source": [
    "f(2)"
   ]
  },
  {
   "cell_type": "code",
   "execution_count": 30,
   "metadata": {},
   "outputs": [],
   "source": [
    "import fractions"
   ]
  },
  {
   "cell_type": "code",
   "execution_count": 31,
   "metadata": {},
   "outputs": [
    {
     "data": {
      "text/plain": [
       "<module 'fractions' from '/opt/homebrew/Cellar/python@3.11/3.11.3/Frameworks/Python.framework/Versions/3.11/lib/python3.11/fractions.py'>"
      ]
     },
     "execution_count": 31,
     "metadata": {},
     "output_type": "execute_result"
    }
   ],
   "source": [
    "sys.modules[\"fractions\"]"
   ]
  },
  {
   "cell_type": "code",
   "execution_count": 32,
   "metadata": {},
   "outputs": [
    {
     "data": {
      "text/plain": [
       "['Decimal',\n",
       " 'Fraction',\n",
       " '_PyHASH_INF',\n",
       " '_PyHASH_MODULUS',\n",
       " '_RATIONAL_FORMAT',\n",
       " '__all__',\n",
       " '__builtins__',\n",
       " '__cached__',\n",
       " '__doc__',\n",
       " '__file__',\n",
       " '__loader__',\n",
       " '__name__',\n",
       " '__package__',\n",
       " '__spec__',\n",
       " 'math',\n",
       " 'numbers',\n",
       " 'operator',\n",
       " 're',\n",
       " 'sys']"
      ]
     },
     "execution_count": 32,
     "metadata": {},
     "output_type": "execute_result"
    }
   ],
   "source": [
    "dir(fractions)"
   ]
  },
  {
   "cell_type": "code",
   "execution_count": 33,
   "metadata": {},
   "outputs": [
    {
     "data": {
      "text/plain": [
       "{'__name__': 'fractions',\n",
       " '__doc__': 'Fraction, infinite-precision, rational numbers.',\n",
       " '__package__': '',\n",
       " '__loader__': <_frozen_importlib_external.SourceFileLoader at 0x105eae810>,\n",
       " '__spec__': ModuleSpec(name='fractions', loader=<_frozen_importlib_external.SourceFileLoader object at 0x105eae810>, origin='/opt/homebrew/Cellar/python@3.11/3.11.3/Frameworks/Python.framework/Versions/3.11/lib/python3.11/fractions.py'),\n",
       " '__file__': '/opt/homebrew/Cellar/python@3.11/3.11.3/Frameworks/Python.framework/Versions/3.11/lib/python3.11/fractions.py',\n",
       " '__cached__': '/opt/homebrew/Cellar/python@3.11/3.11.3/Frameworks/Python.framework/Versions/3.11/lib/python3.11/__pycache__/fractions.cpython-311.pyc',\n",
       " '__builtins__': {'__name__': 'builtins',\n",
       "  '__doc__': \"Built-in functions, exceptions, and other objects.\\n\\nNoteworthy: None is the `nil' object; Ellipsis represents `...' in slices.\",\n",
       "  '__package__': '',\n",
       "  '__loader__': _frozen_importlib.BuiltinImporter,\n",
       "  '__spec__': ModuleSpec(name='builtins', loader=<class '_frozen_importlib.BuiltinImporter'>, origin='built-in'),\n",
       "  '__build_class__': <function __build_class__>,\n",
       "  '__import__': <function __import__(name, globals=None, locals=None, fromlist=(), level=0)>,\n",
       "  'abs': <function abs(x, /)>,\n",
       "  'all': <function all(iterable, /)>,\n",
       "  'any': <function any(iterable, /)>,\n",
       "  'ascii': <function ascii(obj, /)>,\n",
       "  'bin': <function bin(number, /)>,\n",
       "  'breakpoint': <function breakpoint>,\n",
       "  'callable': <function callable(obj, /)>,\n",
       "  'chr': <function chr(i, /)>,\n",
       "  'compile': <function compile(source, filename, mode, flags=0, dont_inherit=False, optimize=-1, *, _feature_version=-1)>,\n",
       "  'delattr': <function delattr(obj, name, /)>,\n",
       "  'dir': <function dir>,\n",
       "  'divmod': <function divmod(x, y, /)>,\n",
       "  'eval': <function eval(source, globals=None, locals=None, /)>,\n",
       "  'exec': <function exec(source, globals=None, locals=None, /, *, closure=None)>,\n",
       "  'format': <function format(value, format_spec='', /)>,\n",
       "  'getattr': <function getattr>,\n",
       "  'globals': <function globals()>,\n",
       "  'hasattr': <function hasattr(obj, name, /)>,\n",
       "  'hash': <function hash(obj, /)>,\n",
       "  'hex': <function hex(number, /)>,\n",
       "  'id': <function id(obj, /)>,\n",
       "  'input': <bound method Kernel.raw_input of <ipykernel.ipkernel.IPythonKernel object at 0x1089ca050>>,\n",
       "  'isinstance': <function isinstance(obj, class_or_tuple, /)>,\n",
       "  'issubclass': <function issubclass(cls, class_or_tuple, /)>,\n",
       "  'iter': <function iter>,\n",
       "  'aiter': <function aiter(async_iterable, /)>,\n",
       "  'len': <function len(obj, /)>,\n",
       "  'locals': <function locals()>,\n",
       "  'max': <function max>,\n",
       "  'min': <function min>,\n",
       "  'next': <function next>,\n",
       "  'anext': <function anext>,\n",
       "  'oct': <function oct(number, /)>,\n",
       "  'ord': <function ord(c, /)>,\n",
       "  'pow': <function pow(base, exp, mod=None)>,\n",
       "  'print': <function print(*args, sep=' ', end='\\n', file=None, flush=False)>,\n",
       "  'repr': <function repr(obj, /)>,\n",
       "  'round': <function round(number, ndigits=None)>,\n",
       "  'setattr': <function setattr(obj, name, value, /)>,\n",
       "  'sorted': <function sorted(iterable, /, *, key=None, reverse=False)>,\n",
       "  'sum': <function sum(iterable, /, start=0)>,\n",
       "  'vars': <function vars>,\n",
       "  'None': None,\n",
       "  'Ellipsis': Ellipsis,\n",
       "  'NotImplemented': NotImplemented,\n",
       "  'False': False,\n",
       "  'True': True,\n",
       "  'bool': bool,\n",
       "  'memoryview': memoryview,\n",
       "  'bytearray': bytearray,\n",
       "  'bytes': bytes,\n",
       "  'classmethod': classmethod,\n",
       "  'complex': complex,\n",
       "  'dict': dict,\n",
       "  'enumerate': enumerate,\n",
       "  'filter': filter,\n",
       "  'float': float,\n",
       "  'frozenset': frozenset,\n",
       "  'property': property,\n",
       "  'int': int,\n",
       "  'list': list,\n",
       "  'map': map,\n",
       "  'object': object,\n",
       "  'range': range,\n",
       "  'reversed': reversed,\n",
       "  'set': set,\n",
       "  'slice': slice,\n",
       "  'staticmethod': staticmethod,\n",
       "  'str': str,\n",
       "  'super': super,\n",
       "  'tuple': tuple,\n",
       "  'type': type,\n",
       "  'zip': zip,\n",
       "  '__debug__': True,\n",
       "  'BaseException': BaseException,\n",
       "  'BaseExceptionGroup': BaseExceptionGroup,\n",
       "  'Exception': Exception,\n",
       "  'GeneratorExit': GeneratorExit,\n",
       "  'KeyboardInterrupt': KeyboardInterrupt,\n",
       "  'SystemExit': SystemExit,\n",
       "  'ArithmeticError': ArithmeticError,\n",
       "  'AssertionError': AssertionError,\n",
       "  'AttributeError': AttributeError,\n",
       "  'BufferError': BufferError,\n",
       "  'EOFError': EOFError,\n",
       "  'ImportError': ImportError,\n",
       "  'LookupError': LookupError,\n",
       "  'MemoryError': MemoryError,\n",
       "  'NameError': NameError,\n",
       "  'OSError': OSError,\n",
       "  'ReferenceError': ReferenceError,\n",
       "  'RuntimeError': RuntimeError,\n",
       "  'StopAsyncIteration': StopAsyncIteration,\n",
       "  'StopIteration': StopIteration,\n",
       "  'SyntaxError': SyntaxError,\n",
       "  'SystemError': SystemError,\n",
       "  'TypeError': TypeError,\n",
       "  'ValueError': ValueError,\n",
       "  'Warning': Warning,\n",
       "  'FloatingPointError': FloatingPointError,\n",
       "  'OverflowError': OverflowError,\n",
       "  'ZeroDivisionError': ZeroDivisionError,\n",
       "  'BytesWarning': BytesWarning,\n",
       "  'DeprecationWarning': DeprecationWarning,\n",
       "  'EncodingWarning': EncodingWarning,\n",
       "  'FutureWarning': FutureWarning,\n",
       "  'ImportWarning': ImportWarning,\n",
       "  'PendingDeprecationWarning': PendingDeprecationWarning,\n",
       "  'ResourceWarning': ResourceWarning,\n",
       "  'RuntimeWarning': RuntimeWarning,\n",
       "  'SyntaxWarning': SyntaxWarning,\n",
       "  'UnicodeWarning': UnicodeWarning,\n",
       "  'UserWarning': UserWarning,\n",
       "  'BlockingIOError': BlockingIOError,\n",
       "  'ChildProcessError': ChildProcessError,\n",
       "  'ConnectionError': ConnectionError,\n",
       "  'FileExistsError': FileExistsError,\n",
       "  'FileNotFoundError': FileNotFoundError,\n",
       "  'InterruptedError': InterruptedError,\n",
       "  'IsADirectoryError': IsADirectoryError,\n",
       "  'NotADirectoryError': NotADirectoryError,\n",
       "  'PermissionError': PermissionError,\n",
       "  'ProcessLookupError': ProcessLookupError,\n",
       "  'TimeoutError': TimeoutError,\n",
       "  'IndentationError': IndentationError,\n",
       "  'IndexError': IndexError,\n",
       "  'KeyError': KeyError,\n",
       "  'ModuleNotFoundError': ModuleNotFoundError,\n",
       "  'NotImplementedError': NotImplementedError,\n",
       "  'RecursionError': RecursionError,\n",
       "  'UnboundLocalError': UnboundLocalError,\n",
       "  'UnicodeError': UnicodeError,\n",
       "  'BrokenPipeError': BrokenPipeError,\n",
       "  'ConnectionAbortedError': ConnectionAbortedError,\n",
       "  'ConnectionRefusedError': ConnectionRefusedError,\n",
       "  'ConnectionResetError': ConnectionResetError,\n",
       "  'TabError': TabError,\n",
       "  'UnicodeDecodeError': UnicodeDecodeError,\n",
       "  'UnicodeEncodeError': UnicodeEncodeError,\n",
       "  'UnicodeTranslateError': UnicodeTranslateError,\n",
       "  'ExceptionGroup': ExceptionGroup,\n",
       "  'EnvironmentError': OSError,\n",
       "  'IOError': OSError,\n",
       "  'open': <function io.open(file, mode='r', buffering=-1, encoding=None, errors=None, newline=None, closefd=True, opener=None)>,\n",
       "  'copyright': Copyright (c) 2001-2023 Python Software Foundation.\n",
       "  All Rights Reserved.\n",
       "  \n",
       "  Copyright (c) 2000 BeOpen.com.\n",
       "  All Rights Reserved.\n",
       "  \n",
       "  Copyright (c) 1995-2001 Corporation for National Research Initiatives.\n",
       "  All Rights Reserved.\n",
       "  \n",
       "  Copyright (c) 1991-1995 Stichting Mathematisch Centrum, Amsterdam.\n",
       "  All Rights Reserved.,\n",
       "  'credits':     Thanks to CWI, CNRI, BeOpen.com, Zope Corporation and a cast of thousands\n",
       "      for supporting Python development.  See www.python.org for more information.,\n",
       "  'license': Type license() to see the full license text,\n",
       "  'help': Type help() for interactive help, or help(object) for help about object.,\n",
       "  'execfile': <function _pydev_bundle._pydev_execfile.execfile(file, glob=None, loc=None)>,\n",
       "  'runfile': <function _pydev_bundle.pydev_umd.runfile(filename, args=None, wdir=None, namespace=None)>,\n",
       "  '__IPYTHON__': True,\n",
       "  'display': <function IPython.core.display_functions.display(*objs, include=None, exclude=None, metadata=None, transient=None, display_id=None, raw=False, clear=False, **kwargs)>,\n",
       "  'get_ipython': <bound method InteractiveShell.get_ipython of <ipykernel.zmqshell.ZMQInteractiveShell object at 0x10897c750>>},\n",
       " 'Decimal': decimal.Decimal,\n",
       " 'math': <module 'math' from '/opt/homebrew/Cellar/python@3.11/3.11.3/Frameworks/Python.framework/Versions/3.11/lib/python3.11/lib-dynload/math.cpython-311-darwin.so'>,\n",
       " 'numbers': <module 'numbers' from '/opt/homebrew/Cellar/python@3.11/3.11.3/Frameworks/Python.framework/Versions/3.11/lib/python3.11/numbers.py'>,\n",
       " 'operator': <module 'operator' from '/opt/homebrew/Cellar/python@3.11/3.11.3/Frameworks/Python.framework/Versions/3.11/lib/python3.11/operator.py'>,\n",
       " 're': <module 're' from '/opt/homebrew/Cellar/python@3.11/3.11.3/Frameworks/Python.framework/Versions/3.11/lib/python3.11/re/__init__.py'>,\n",
       " 'sys': <module 'sys' (built-in)>,\n",
       " '__all__': ['Fraction'],\n",
       " '_PyHASH_MODULUS': 2305843009213693951,\n",
       " '_PyHASH_INF': 314159,\n",
       " '_RATIONAL_FORMAT': re.compile(r'\\n    \\A\\s*                                 # optional whitespace at the start,\\n    (?P<sign>[-+]?)                       # an optional sign, then\\n    (?=\\d|\\.\\d)                           # lookahead for digit or .digit\\n    (?P<num>\\d*|\\d+(_\\d+)*)               # numerator (possibly empty)\\n    (?:                                   # followed by\\n       (?:/(?P<denom>\\d+(_\\d+)*))?        # an optional denominator\\n    |                                     # or\\n       (?:\\.(?P<decimal>d*|\\d+(_\\d+)*))?  # an optional fractional part\\n       (?:E(?P<exp>[-+]?\\d+(_\\d+)*))?     # and optional exponent\\n    )\\n    \\s*\\Z                                 # and optional whitespace to finish\\n',\n",
       "            re.IGNORECASE|re.UNICODE|re.VERBOSE),\n",
       " 'Fraction': fractions.Fraction}"
      ]
     },
     "execution_count": 33,
     "metadata": {},
     "output_type": "execute_result"
    }
   ],
   "source": [
    "fractions.__dict__"
   ]
  },
  {
   "cell_type": "code",
   "execution_count": 34,
   "metadata": {},
   "outputs": [
    {
     "data": {
      "text/plain": [
       "'fractions'"
      ]
     },
     "execution_count": 34,
     "metadata": {},
     "output_type": "execute_result"
    }
   ],
   "source": [
    "fractions.__name__"
   ]
  },
  {
   "cell_type": "code",
   "execution_count": 35,
   "metadata": {},
   "outputs": [
    {
     "data": {
      "text/plain": [
       "'/opt/homebrew/Cellar/python@3.11/3.11.3/Frameworks/Python.framework/Versions/3.11/lib/python3.11/fractions.py'"
      ]
     },
     "execution_count": 35,
     "metadata": {},
     "output_type": "execute_result"
    }
   ],
   "source": [
    "fractions.__file__"
   ]
  },
  {
   "cell_type": "code",
   "execution_count": 36,
   "metadata": {},
   "outputs": [],
   "source": [
    "import calendar"
   ]
  },
  {
   "cell_type": "code",
   "execution_count": 37,
   "metadata": {},
   "outputs": [
    {
     "data": {
      "text/plain": [
       "<module 'calendar' from '/opt/homebrew/Cellar/python@3.11/3.11.3/Frameworks/Python.framework/Versions/3.11/lib/python3.11/calendar.py'>"
      ]
     },
     "execution_count": 37,
     "metadata": {},
     "output_type": "execute_result"
    }
   ],
   "source": [
    "calendar"
   ]
  },
  {
   "cell_type": "code",
   "execution_count": 38,
   "metadata": {},
   "outputs": [],
   "source": [
    "import types"
   ]
  },
  {
   "cell_type": "code",
   "execution_count": 39,
   "metadata": {},
   "outputs": [
    {
     "data": {
      "text/plain": [
       "True"
      ]
     },
     "execution_count": 39,
     "metadata": {},
     "output_type": "execute_result"
    }
   ],
   "source": [
    "isinstance(fractions, types.ModuleType)"
   ]
  },
  {
   "cell_type": "code",
   "execution_count": 40,
   "metadata": {},
   "outputs": [
    {
     "data": {
      "text/plain": [
       "True"
      ]
     },
     "execution_count": 40,
     "metadata": {},
     "output_type": "execute_result"
    }
   ],
   "source": [
    "isinstance(math, types.ModuleType)"
   ]
  },
  {
   "cell_type": "code",
   "execution_count": 41,
   "metadata": {},
   "outputs": [],
   "source": [
    "mod = types.ModuleType(\"Test\", \"This is a test module.\")"
   ]
  },
  {
   "cell_type": "code",
   "execution_count": 42,
   "metadata": {},
   "outputs": [
    {
     "data": {
      "text/plain": [
       "True"
      ]
     },
     "execution_count": 42,
     "metadata": {},
     "output_type": "execute_result"
    }
   ],
   "source": [
    "isinstance(mod, types.ModuleType)"
   ]
  },
  {
   "cell_type": "code",
   "execution_count": 43,
   "metadata": {},
   "outputs": [
    {
     "data": {
      "text/plain": [
       "{'__name__': 'Test',\n",
       " '__doc__': 'This is a test module.',\n",
       " '__package__': None,\n",
       " '__loader__': None,\n",
       " '__spec__': None}"
      ]
     },
     "execution_count": 43,
     "metadata": {},
     "output_type": "execute_result"
    }
   ],
   "source": [
    "mod.__dict__"
   ]
  },
  {
   "cell_type": "code",
   "execution_count": 44,
   "metadata": {},
   "outputs": [],
   "source": [
    "mod.pi = 3.14"
   ]
  },
  {
   "cell_type": "code",
   "execution_count": 45,
   "metadata": {},
   "outputs": [
    {
     "data": {
      "text/plain": [
       "{'__name__': 'Test',\n",
       " '__doc__': 'This is a test module.',\n",
       " '__package__': None,\n",
       " '__loader__': None,\n",
       " '__spec__': None,\n",
       " 'pi': 3.14}"
      ]
     },
     "execution_count": 45,
     "metadata": {},
     "output_type": "execute_result"
    }
   ],
   "source": [
    "mod.__dict__"
   ]
  },
  {
   "cell_type": "code",
   "execution_count": 46,
   "metadata": {},
   "outputs": [],
   "source": [
    "mod.hello = lambda: \"Hello\""
   ]
  },
  {
   "cell_type": "code",
   "execution_count": 47,
   "metadata": {},
   "outputs": [
    {
     "data": {
      "text/plain": [
       "'Hello'"
      ]
     },
     "execution_count": 47,
     "metadata": {},
     "output_type": "execute_result"
    }
   ],
   "source": [
    "mod.hello()"
   ]
  },
  {
   "cell_type": "code",
   "execution_count": null,
   "metadata": {},
   "outputs": [],
   "source": []
  }
 ],
 "metadata": {
  "kernelspec": {
   "display_name": "Python 3",
   "language": "python",
   "name": "python3"
  },
  "language_info": {
   "codemirror_mode": {
    "name": "ipython",
    "version": 3
   },
   "file_extension": ".py",
   "mimetype": "text/x-python",
   "name": "python",
   "nbconvert_exporter": "python",
   "pygments_lexer": "ipython3",
   "version": "3.11.3"
  },
  "orig_nbformat": 4
 },
 "nbformat": 4,
 "nbformat_minor": 2
}
